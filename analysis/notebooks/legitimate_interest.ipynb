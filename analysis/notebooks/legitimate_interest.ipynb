{
 "cells": [
  {
   "cell_type": "code",
   "execution_count": 1,
   "metadata": {},
   "outputs": [],
   "source": [
    "import pandas as pd\n",
    "import re\n",
    "import importlib\n",
    "import tld\n",
    "import nltk\n",
    "import csv\n",
    "import collections\n",
    "import itertools\n",
    "import sys\n",
    "import historical.util as util\n",
    "import historical.ioutils as ioutils\n",
    "\n",
    "import matplotlib.pyplot as plt"
   ]
  },
  {
   "cell_type": "code",
   "execution_count": 2,
   "metadata": {},
   "outputs": [],
   "source": [
    "stopwords = set(nltk.corpus.stopwords.words('english'))\n",
    "punct_re = re.compile(r\"[\\,\\?\\|\\(\\)•\\*\\:';“”\\#\" + r'\\\"' + r\"]\")"
   ]
  },
  {
   "cell_type": "code",
   "execution_count": 3,
   "metadata": {},
   "outputs": [],
   "source": [
    "#We need to initialize util\n",
    "import argparse\n",
    "parse = argparse.ArgumentParser()\n",
    "util.add_arguments(parse)\n",
    "#--use-sample for faster, lower memory tests, although things are pretty fast as-is\n",
    "#args = parse.parse_args(args=[\"--use-sample\"])\n",
    "args = parse.parse_args(args=[])\n",
    "util.process_arguments(args)"
   ]
  },
  {
   "cell_type": "code",
   "execution_count": null,
   "metadata": {},
   "outputs": [],
   "source": []
  },
  {
   "cell_type": "code",
   "execution_count": 18,
   "metadata": {},
   "outputs": [
    {
     "name": "stdout",
     "output_type": "stream",
     "text": [
      "108499\n"
     ]
    }
   ],
   "source": [
    "#Load the data\n",
    "import pickle\n",
    "with open(\"../data/deduped_policy_text_v11no_html_with_links_and_emails.pickle\", \"rb\") as f:\n",
    "    df = pickle.load(f)\n",
    "    \n",
    "df = df[df.year_season == \"2019_B\"]"
   ]
  },
  {
   "cell_type": "code",
   "execution_count": 17,
   "metadata": {},
   "outputs": [
    {
     "data": {
      "text/plain": [
       "23888"
      ]
     },
     "execution_count": 17,
     "metadata": {},
     "output_type": "execute_result"
    }
   ],
   "source": []
  },
  {
   "cell_type": "code",
   "execution_count": 5,
   "metadata": {},
   "outputs": [],
   "source": [
    "li_re_str = r\"legitimate\\s(?:business\\s)?(?:purpose|interest)\"\n",
    "df_li = df[df.policy_text.str.contains(li_re_str,regex=True,case=False,na=False)]"
   ]
  },
  {
   "cell_type": "code",
   "execution_count": 6,
   "metadata": {},
   "outputs": [
    {
     "name": "stderr",
     "output_type": "stream",
     "text": [
      "/n/fs/policyphylog/PrivacyPolicyPlagiarism/.venv/lib/python3.7/site-packages/ipykernel_launcher.py:24: SettingWithCopyWarning: \n",
      "A value is trying to be set on a copy of a slice from a DataFrame.\n",
      "Try using .loc[row_indexer,col_indexer] = value instead\n",
      "\n",
      "See the caveats in the documentation: https://pandas.pydata.org/pandas-docs/stable/user_guide/indexing.html#returning-a-view-versus-a-copy\n"
     ]
    }
   ],
   "source": [
    "import re\n",
    "li_re = re.compile(li_re_str,flags=re.I)\n",
    "def extract_li(text,before_ct=5,after_ct=5):\n",
    "    keep = []\n",
    "    before = collections.deque([],before_ct)\n",
    "    to_keep = 0\n",
    "    for sent in nltk.tokenize.sent_tokenize(text):\n",
    "        \n",
    "        if to_keep != 0:\n",
    "            keep.append(sent)\n",
    "            to_keep -= 1\n",
    "            continue\n",
    "             \n",
    "        if li_re.search(sent):\n",
    "            to_keep = after_ct\n",
    "            keep += list(before)\n",
    "            keep.append(sent)\n",
    "            before = collections.deque([],before_ct)\n",
    "        else:\n",
    "            before.append(sent)\n",
    "            \n",
    "    return \" \".join(keep)\n",
    "\n",
    "df_li[\"li_text\"] = df_li.policy_text.apply(extract_li,before_ct=0,after_ct=3)"
   ]
  },
  {
   "cell_type": "code",
   "execution_count": 45,
   "metadata": {},
   "outputs": [],
   "source": [
    "def get_ngrams(text,n=1):\n",
    "    phrase_gens = []\n",
    "    for sent in nltk.tokenize.sent_tokenize(text):\n",
    "        sent = re.sub(punct_re, \"\", sent.lower())\n",
    "        word_list = nltk.tokenize.word_tokenize(sent)\n",
    "        word_list = filter(lambda w: any((c.isalpha() for c in w)), word_list)\n",
    "        word_list = filter(lambda w: w not in stopwords, word_list)\n",
    "        #word_list = [sys.intern(w) for w in word_list]\n",
    "        phrase_gens.append((\" \".join(l) for l in nltk.ngrams(word_list, n)))\n",
    "    phrases = itertools.chain.from_iterable(phrase_gens)\n",
    "    return phrases"
   ]
  },
  {
   "cell_type": "code",
   "execution_count": 8,
   "metadata": {},
   "outputs": [],
   "source": [
    "df_s = df.sample(100)\n",
    "df_li_s = df_li.sample(10)\n",
    "df_s = pd.concat((df_s,df_li_s))"
   ]
  },
  {
   "cell_type": "code",
   "execution_count": 46,
   "metadata": {},
   "outputs": [],
   "source": [
    "fds = {}\n",
    "for n in [1,2,3]:\n",
    "    grams = itertools.chain.from_iterable((get_ngrams(t,n=n) for t in df.policy_text))\n",
    "    fds[n] = nltk.probability.FreqDist(grams)"
   ]
  },
  {
   "cell_type": "code",
   "execution_count": 47,
   "metadata": {},
   "outputs": [],
   "source": [
    "li_fds = {}\n",
    "for n in [1,2,3]:\n",
    "    grams = itertools.chain.from_iterable((get_ngrams(t,n=n) for t in df_li.li_text))\n",
    "    li_fds[n] = nltk.probability.FreqDist(grams)"
   ]
  },
  {
   "cell_type": "code",
   "execution_count": 35,
   "metadata": {},
   "outputs": [
    {
     "data": {
      "text/plain": [
       "6146"
      ]
     },
     "execution_count": 35,
     "metadata": {},
     "output_type": "execute_result"
    }
   ],
   "source": [
    "len(df_li)"
   ]
  },
  {
   "cell_type": "code",
   "execution_count": 58,
   "metadata": {},
   "outputs": [],
   "source": [
    "thresh = 61\n",
    "blacklist = [\"legitimate\",\"purpose\",\"interest\"]\n",
    "for n in [1,2,3]:\n",
    "    to_remove = []\n",
    "    for sample, ct in li_fds[n].most_common(li_fds[n].B()):\n",
    "        if ct <= thresh or any((b in sample for b in blacklist)):\n",
    "            to_remove.append(sample)\n",
    "            \n",
    "    for sample in to_remove:\n",
    "        del li_fds[n][sample]"
   ]
  },
  {
   "cell_type": "code",
   "execution_count": 68,
   "metadata": {
    "scrolled": true
   },
   "outputs": [],
   "source": [
    "def get_dfdf(fdist1,fdist2):\n",
    "    dfdf = nltk.probability.FreqDist()\n",
    "    for sample,ct in fdist1.most_common(fdist1.B()):\n",
    "        try:\n",
    "            dfdf[sample] = fdist1[sample] / fdist2[sample]\n",
    "        except ZeroDivisionError:\n",
    "            print(\"Zero Division on: %s\" % sample)\n",
    "            print(\"%s/%s\" % (fdist1[sample], fdist2[sample]))\n",
    "            #return None\n",
    "    return dfdf\n",
    "\n",
    "dfdfs = {\n",
    "    n: get_dfdf(li_fds[n],fds[n]) for n in [1,2,3]\n",
    "}"
   ]
  },
  {
   "cell_type": "code",
   "execution_count": 64,
   "metadata": {},
   "outputs": [],
   "source": [
    "def print_grams(n):\n",
    "    for sample,ct in dfdfs[n].most_common(50):\n",
    "        print(\"%0.5f\\t%s\" % (ct,sample))\n",
    "    "
   ]
  },
  {
   "cell_type": "code",
   "execution_count": 65,
   "metadata": {
    "scrolled": true
   },
   "outputs": [
    {
     "name": "stdout",
     "output_type": "stream",
     "text": [
      "0.97642\toverridden\n",
      "0.94253\tservice/product\n",
      "0.92118\tpursued\n",
      "0.82339\t61f\n",
      "0.81679\toutweighed\n",
      "0.78082\tvested\n",
      "0.77387\tgrow\n",
      "0.77301\toutweigh\n",
      "0.75870\tfundamental\n",
      "0.75728\tbalanced\n",
      "0.74848\timpacts\n",
      "0.74265\tsatisfies\n",
      "0.72152\tpartake\n",
      "0.72068\tfreedoms\n",
      "0.70182\toverride\n",
      "0.67637\tcompelling\n",
      "0.66720\tstrategy\n",
      "0.65440\tproducts/services\n",
      "0.64090\tground\n",
      "0.62338\tjustify\n",
      "0.60406\tpursuing\n",
      "0.59426\tbalancing\n",
      "0.59048\tdetrimental\n",
      "0.58537\tpursuit\n",
      "0.58007\tnamely\n",
      "0.54167\tproportionate\n",
      "0.51639\tassertion\n",
      "0.50932\texponential\n",
      "0.50798\trelying\n",
      "0.49627\treorganisation\n",
      "0.49117\tnecessity\n",
      "0.48428\tstrengthen\n",
      "0.48418\tjimdo\n",
      "0.45796\trecover\n",
      "0.45734\tjustification\n",
      "0.44746\tdebts\n",
      "0.44411\tbalance\n",
      "0.43976\tjeopardize\n",
      "0.43849\tpursue\n",
      "0.42079\tvital\n",
      "0.41710\tshorter\n",
      "0.39706\tobligatory\n",
      "0.39042\ttask\n",
      "0.37803\tpromoting\n",
      "0.37053\tstudy\n",
      "0.36674\trely\n",
      "0.36090\tjustified\n",
      "0.35669\tradisson\n",
      "0.35486\tbases\n",
      "0.35340\tgrounds\n"
     ]
    }
   ],
   "source": [
    "print_grams(1)"
   ]
  },
  {
   "cell_type": "code",
   "execution_count": 66,
   "metadata": {
    "scrolled": true
   },
   "outputs": [
    {
     "name": "stdout",
     "output_type": "stream",
     "text": [
      "1.00000\tnamely proper\n",
      "1.00000\tsituation makes\n",
      "1.00000\tparty something\n",
      "1.00000\timpact positive\n",
      "1.00000\tnegative rights\n",
      "1.00000\tsure consider\n",
      "1.00000\tpursued owner\n",
      "1.00000\tresident note\n",
      "1.00000\tproducts/services grow\n",
      "1.00000\tdevelop products/services\n",
      "1.00000\tnamely monitoring\n",
      "1.00000\tstrategy use\n",
      "1.00000\tbest service/product\n",
      "1.00000\tvested owner\n",
      "1.00000\tfreedoms require\n",
      "1.00000\tservice/product best\n",
      "1.00000\tindividual valid\n",
      "0.99592\tsomething particular\n",
      "0.99526\tcommunications performance\n",
      "0.99448\tground feel\n",
      "0.99435\ttechnical necessary\n",
      "0.99419\tincluding basis\n",
      "0.99317\trights override\n",
      "0.99213\tupdated study\n",
      "0.99194\tmakes want\n",
      "0.99174\tpursued us\n",
      "0.99167\tsurvey identity\n",
      "0.99160\t61f general\n",
      "0.98958\timpact respect\n",
      "0.98901\tconsider balance\n",
      "0.98901\tbalance potential\n",
      "0.98851\ttechnical b\n",
      "0.98837\tstrategy make\n",
      "0.98765\te profile\n",
      "0.98718\texercise b\n",
      "0.98529\tproducts/services develop\n",
      "0.98485\tlaw vital\n",
      "0.98206\tusage e\n",
      "0.98026\tdefine types\n",
      "0.97890\tdata relying\n",
      "0.97778\tfraud context\n",
      "0.97674\texperiences technical\n",
      "0.97638\tprocessing ground\n",
      "0.97458\tcontracts might\n",
      "0.97436\tfeel impacts\n",
      "0.97436\toverridden impact\n",
      "0.97403\tb asking\n",
      "0.97368\tadditionally european\n",
      "0.97333\tsituation extent\n",
      "0.97297\timpact unless\n"
     ]
    }
   ],
   "source": [
    "print_grams(2)"
   ]
  },
  {
   "cell_type": "code",
   "execution_count": 67,
   "metadata": {
    "scrolled": true
   },
   "outputs": [
    {
     "name": "stdout",
     "output_type": "stream",
     "text": [
      "1.00000\tfundamental rights override\n",
      "1.00000\tcontract b necessary\n",
      "1.00000\tsomething particular situation\n",
      "1.00000\tsituation makes want\n",
      "1.00000\tparticular situation makes\n",
      "1.00000\tnamely proper administration\n",
      "1.00000\tthird party something\n",
      "1.00000\tparty something particular\n",
      "1.00000\tcommunications performance contract\n",
      "1.00000\tmarketing communications performance\n",
      "1.00000\tuser information processing\n",
      "1.00000\tground feel impacts\n",
      "1.00000\tprocessing including basis\n",
      "1.00000\tpotential impact positive\n",
      "1.00000\timpact positive negative\n",
      "1.00000\tpositive negative rights\n",
      "1.00000\tmake sure consider\n",
      "1.00000\tsure consider balance\n",
      "1.00000\tnegative rights process\n",
      "1.00000\tresident note processing\n",
      "1.00000\tadditionally european resident\n",
      "1.00000\teuropean resident note\n",
      "1.00000\tsite otherwise pursue\n",
      "1.00000\tmanaging business enable\n",
      "1.00000\tmake order site\n",
      "1.00000\torder site otherwise\n",
      "1.00000\tproducts/services grow business\n",
      "1.00000\toverridden rights payment\n",
      "1.00000\trights payment processing\n",
      "1.00000\tdevelop products/services grow\n",
      "1.00000\tbusiness conducting managing\n",
      "1.00000\tpotential impact respect\n",
      "1.00000\timpact respect specific\n",
      "1.00000\trespect specific activities\n",
      "1.00000\tobtain information assess\n",
      "1.00000\tmarketing strategy use\n",
      "1.00000\tnamely monitoring improving\n",
      "1.00000\tstrategy use data\n",
      "1.00000\tspecific activities contacting\n",
      "1.00000\tobligation c necessary\n",
      "1.00000\tauthority vested owner\n",
      "1.00000\tgive best service/product\n",
      "1.00000\tresearch development market\n",
      "1.00000\tdevelopment market promote\n",
      "1.00000\tmanaging operating promoting\n",
      "1.00000\toperating promoting business\n",
      "1.00000\trights freedoms require\n",
      "1.00000\tbest service/product best\n",
      "1.00000\tservice/product best secure\n",
      "1.00000\tfreedoms require protection\n"
     ]
    }
   ],
   "source": [
    "print_grams(3)"
   ]
  },
  {
   "cell_type": "code",
   "execution_count": 16,
   "metadata": {},
   "outputs": [],
   "source": [
    "%%script false --no-raise-error\n",
    "\n",
    "with open(\"out/legitimate_interest.csv\", \"w+\") as f:\n",
    "    w = csv.writer(f)\n",
    "    w.writerow([\"site_url\",\"year_season\",\"homepage_snapshot_url\",\"policy_text\",\"distance\"])\n",
    "    for index, row in df_li.sample(100).iterrows():\n",
    "        extracted_text = extract_li(row[\"policy_text\"])\n",
    "        w.writerow([row[\"site_url\"],row[\"year_season\"],row[\"homepage_snapshot_url\"],row[\"policy_snapshot_url\"]])"
   ]
  },
  {
   "cell_type": "code",
   "execution_count": 17,
   "metadata": {},
   "outputs": [],
   "source": [
    "%%script false --no-raise-error\n",
    "\n",
    "def load_grams(n,limit=None,search_for=None,recount=False,domain_norm_factor=None,policy_norm_factor=None):\n",
    "    util.get_blacklist() #Ensure this is loaded first\n",
    "\n",
    "    def queue_grams(n,yearseas,limit,search_for):\n",
    "        for row in ioutils.load_grams(n,yearseas,limit=limit):\n",
    "            if search_for is not None:\n",
    "                s=row[1]\n",
    "                if s not in search_for:\n",
    "                    continue\n",
    "\n",
    "            if recount:\n",
    "                counts = {}\n",
    "                doms = row[2:]\n",
    "                for count_name, (countf, count_friendly_name) in util.count_fxns.items():\n",
    "                    counts[count_name] = countf(doms,yearseason=yearseas,domain_norm_factor=domain_norm_factor,policy_norm_factor=policy_norm_factor)\n",
    "                row = (counts, *row[1:])\n",
    "            yield((yearseas,row))\n",
    "\n",
    "    for yearseas in util.iter_yearseason():\n",
    "        yield from queue_grams(n,yearseas,limit,search_for)\n",
    "\n",
    "\n",
    "try:\n",
    "    fds = {}\n",
    "    for i in [1,2,3]:\n",
    "        fd = nltk.probability.FreqDist()\n",
    "        fds[i] = fd\n",
    "        for _,(ct,phrase,*_) in load_grams(n=i):\n",
    "            fd[phrase] += ct\n",
    "except:\n",
    "    sys.err.write(\"Failed, moving to backup\\n\")\n",
    "    #grams = {i:itertools.chain.from_iterable((get_ngrams(t,n=i) for t in df.policy_text)) for i in [1,2,3]}\n",
    "    grams = {\n",
    "        1:itertools.chain.from_iterable((get_ngrams(t,n=1) for t in df.policy_text)),\n",
    "        2:itertools.chain.from_iterable((get_ngrams(t,n=1) for t in df.policy_text)),\n",
    "        3:itertools.chain.from_iterable((get_ngrams(t,n=1) for t in df.policy_text))\n",
    "    }\n",
    "    fds = {i:nltk.probability.FreqDist(grams[i]) for i in grams}"
   ]
  },
  {
   "cell_type": "code",
   "execution_count": 18,
   "metadata": {},
   "outputs": [],
   "source": [
    "%%script false --no-raise-error\n",
    "\n",
    "def extract_li(text,before_ct=1000,after_ct=1000):\n",
    "    ret = \"\"\n",
    "    idx = 0\n",
    "    \n",
    "    start_old = 0\n",
    "    end_old = 0\n",
    "    \n",
    "    while True:\n",
    "        try:\n",
    "            idx = text.lower().index(\"legitimate interest\",idx+1)\n",
    "            start = max(0,idx-before_ct)\n",
    "            end = min(len(text) - 1, idx+after_ct)\n",
    "            \n",
    "            if start <= end_old:\n",
    "                start = start_old\n",
    "            elif end_old != 0:\n",
    "                ret += text[start_old:end_old] + \"\\n\" + \"=\"*60 + \"\\n\"\n",
    "            \n",
    "            start_old = start\n",
    "            end_old = end\n",
    "            \n",
    "        except ValueError:\n",
    "            if end_old != 0:\n",
    "                ret += text[start_old:end_old] + \"\\n\" + \"=\"*60 + \"\\n\"\n",
    "            break\n",
    "    return ret"
   ]
  },
  {
   "cell_type": "markdown",
   "metadata": {},
   "source": [
    "# Trends"
   ]
  },
  {
   "cell_type": "code",
   "execution_count": 9,
   "metadata": {},
   "outputs": [],
   "source": [
    "try:\n",
    "    cache = nb_trending.cache\n",
    "    importlib.reload(nb_trending)\n",
    "    nb_trending.cache = cache\n",
    "except NameError:\n",
    "    import nb_trending"
   ]
  },
  {
   "cell_type": "code",
   "execution_count": 13,
   "metadata": {},
   "outputs": [
    {
     "name": "stderr",
     "output_type": "stream",
     "text": [
      "/n/fs/policyphylog/PrivacyPolicyPlagiarism/.venv/lib/python3.7/site-packages/pandas/core/generic.py:5303: SettingWithCopyWarning: \n",
      "A value is trying to be set on a copy of a slice from a DataFrame.\n",
      "Try using .loc[row_indexer,col_indexer] = value instead\n",
      "\n",
      "See the caveats in the documentation: https://pandas.pydata.org/pandas-docs/stable/user_guide/indexing.html#returning-a-view-versus-a-copy\n",
      "  self[name] = value\n"
     ]
    },
    {
     "data": {
      "text/plain": [
       "<matplotlib.axes._subplots.AxesSubplot at 0x7f2642eaf390>"
      ]
     },
     "execution_count": 13,
     "metadata": {},
     "output_type": "execute_result"
    },
    {
     "data": {
      "image/png": "[encoded data removed]",
      "text/plain": [
       "<Figure size 720x360 with 1 Axes>"
      ]
     },
     "metadata": {},
     "output_type": "display_data"
    }
   ],
   "source": [
    "terms = [\n",
    "    \"legitimate\", \"strategy\", \"fraud\", \"marketing\", \"communications\", \"security\", \"payment\", \"product\"\n",
    "]\n",
    "labels = terms\n",
    "\n",
    "df_li.policy_text = df_li.li_text\n",
    "\n",
    "nb_trending.plot_terms(df_li,terms,labels=labels,regex=False,case=False,save_figure=False)"
   ]
  },
  {
   "cell_type": "code",
   "execution_count": null,
   "metadata": {},
   "outputs": [],
   "source": []
  }
 ],
 "metadata": {
  "kernelspec": {
   "display_name": "Python 3",
   "language": "python",
   "name": "python3"
  },
  "language_info": {
   "codemirror_mode": {
    "name": "ipython",
    "version": 3
   },
   "file_extension": ".py",
   "mimetype": "text/x-python",
   "name": "python",
   "nbconvert_exporter": "python",
   "pygments_lexer": "ipython3",
   "version": "3.7.3"
  }
 },
 "nbformat": 4,
 "nbformat_minor": 4
}
