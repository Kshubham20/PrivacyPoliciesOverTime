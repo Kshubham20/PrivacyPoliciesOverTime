{
 "cells": [
  {
   "cell_type": "code",
   "execution_count": 4,
   "metadata": {},
   "outputs": [],
   "source": [
    "import pandas as pd\n",
    "import collections\n",
    "import random\n",
    "import scipy.stats\n",
    "import numpy as np\n",
    "import itertools\n",
    "import re\n",
    "\n",
    "import seaborn as sns\n",
    "sns.set_style(\"whitegrid\")\n"
   ]
  },
  {
   "cell_type": "code",
   "execution_count": 5,
   "metadata": {},
   "outputs": [],
   "source": [
    "import historical.util as util\n",
    "import historical.ioutils as ioutils"
   ]
  },
  {
   "cell_type": "code",
   "execution_count": 6,
   "metadata": {},
   "outputs": [],
   "source": [
    "%matplotlib inline\n",
    "import matplotlib.pyplot as plt\n",
    "\n",
    "plt.rcParams['figure.figsize'] = [7,4]"
   ]
  },
  {
   "cell_type": "code",
   "execution_count": 7,
   "metadata": {},
   "outputs": [],
   "source": [
    "%%script false --no-raise-error\n",
    "\n",
    "#We need to initialize util\n",
    "import argparse\n",
    "parse = argparse.ArgumentParser()\n",
    "util.add_arguments(parse)\n",
    "#--use-sample for faster, lower memory tests, although things are pretty fast as-is\n",
    "#args = parse.parse_args(args=[\"--use-sample\"])\n",
    "args = parse.parse_args(args=[])\n",
    "util.process_arguments(args)"
   ]
  },
  {
   "cell_type": "code",
   "execution_count": 8,
   "metadata": {},
   "outputs": [],
   "source": [
    "%%script false --no-raise-error\n",
    "\n",
    "#Initialize the database\n",
    "ioutils.__init_db()"
   ]
  },
  {
   "cell_type": "code",
   "execution_count": 9,
   "metadata": {},
   "outputs": [],
   "source": [
    "#Load the data\n",
    "import pickle\n",
    "#with open(\"../data/policy_text_v11.pickle\", \"rb\") as f:\n",
    "with open(\"../data/deduped_policy_text_v11.pickle\", \"rb\") as f:\n",
    "    df = pickle.load(f)\n",
    "    "
   ]
  },
  {
   "cell_type": "markdown",
   "metadata": {},
   "source": [
    "# Find hits"
   ]
  },
  {
   "cell_type": "code",
   "execution_count": 10,
   "metadata": {},
   "outputs": [],
   "source": [
    "%%script false --no-raise-error\n",
    "\n",
    "#Get all elements in the data set\n",
    "all_doms = set()\n",
    "all_ys = set()\n",
    "hits = []\n",
    "\n",
    "for dom, y, s in ioutils.policies_db.execute(\"SELECT site_url,year,season FROM policy_texts\"):\n",
    "    all_doms.add(dom)\n",
    "    ys = \"%d%s\" % (y,s)\n",
    "    all_ys.add(ys)\n",
    "    hits.append((dom,ys))\n",
    "\n",
    "all_ys = sorted(list(all_ys))\n",
    "all_doms = list(all_doms)"
   ]
  },
  {
   "cell_type": "code",
   "execution_count": 11,
   "metadata": {},
   "outputs": [],
   "source": [
    "#Get all elements in the data set\n",
    "all_doms = set()\n",
    "all_ys = set()\n",
    "hits = []\n",
    "\n",
    "for i, row in df.iterrows():\n",
    "    dom = row.site_url\n",
    "    y = row.year\n",
    "    s = row.season\n",
    "    all_doms.add(dom)\n",
    "    ys = \"%d%s\" % (y,s)\n",
    "    all_ys.add(ys)\n",
    "    hits.append((dom,ys))\n",
    "\n",
    "all_ys = sorted(list(all_ys))\n",
    "all_doms = list(all_doms)"
   ]
  },
  {
   "cell_type": "code",
   "execution_count": 12,
   "metadata": {},
   "outputs": [
    {
     "data": {
      "text/plain": [
       "'Coverage over all intervals 18.24392691257022%'"
      ]
     },
     "execution_count": 12,
     "metadata": {},
     "output_type": "execute_result"
    }
   ],
   "source": [
    "#Compute coverage based on number of total slots\n",
    "full_coverage = len(all_doms) * len(all_ys)\n",
    "real_coverage = len(hits)\n",
    "\"Coverage over all intervals %s%%\" % (real_coverage/full_coverage * 100)"
   ]
  },
  {
   "cell_type": "code",
   "execution_count": 13,
   "metadata": {},
   "outputs": [],
   "source": [
    "hits_dict = {dom:{ys:False for ys in all_ys} for dom in all_doms}\n",
    "for dom,ys in hits:\n",
    "    hits_dict[dom][ys]=True\n",
    "df = pd.DataFrame.from_dict(hits_dict,orient=\"index\")"
   ]
  },
  {
   "cell_type": "markdown",
   "metadata": {},
   "source": [
    "# Find gaps\n",
    "\n",
    "What are gaps? Generally, gaps are any domain-interval (d,i) which we do not have a policy for, but we do have a policy for (d,i') where i!=i'\n",
    "\n",
    "We describe a \"hit\" as an i for which we have a policy for (d,i) \n",
    "\n",
    "We define 3 types of gaps.\n",
    "\n",
    "- Pre-gaps: gaps which occur in an interval before all hits.\n",
    "- Post-gaps: gaps which occur in an interval after all hits.\n",
    "- Internal-gaps: gaps which occur between two hits (i.e. gaps which are not pre-gaps or post-gaps)\n"
   ]
  },
  {
   "cell_type": "code",
   "execution_count": 14,
   "metadata": {},
   "outputs": [],
   "source": [
    "def get_gaps(all_doms,all_ys):\n",
    "    possible_gaps = 0\n",
    "    actual_gaps = 0\n",
    "    gaps = []\n",
    "    pre_missing = []\n",
    "    post_missing = []\n",
    "    have_gaps = []\n",
    "    dont_have_gaps = []\n",
    "    \n",
    "    gap_cts = []\n",
    "    widths = []\n",
    "    gapped_widths = []\n",
    "    \n",
    "    for dom in all_doms:\n",
    "        #Missing -> list of domain-intervals missing from dataset\n",
    "        #gap_ct -> Running count of *gaps*\n",
    "        #Hits -> Number of total hits\n",
    "        missing = None\n",
    "        gap_ct = 0\n",
    "        hits = 0\n",
    "        for ys in all_ys:\n",
    "            if hits_dict[dom][ys]:\n",
    "                #Not missing\n",
    "                if missing is not None:\n",
    "                    #If we've had a hit before, convert missing values\n",
    "                    #Into gaps\n",
    "                    gaps += missing\n",
    "                    gap_ct += len(missing)\n",
    "                hits += 1 #Count hits\n",
    "                missing = [] #Reset missing\n",
    "            else:\n",
    "                #Missing\n",
    "                if missing is not None:\n",
    "                    #We've seen a hit, so record this as a possible gap\n",
    "                    missing.append((dom,ys))\n",
    "                else:\n",
    "                    #We have not seen a hit, record this as missing but not a gap\n",
    "                    pre_missing.append((dom,ys))\n",
    "                    \n",
    "        #Record things after the last hit as missing but not a gap\n",
    "        post_missing += missing\n",
    "        \n",
    "        #Record number of observed gaps\n",
    "        actual_gaps += gap_ct\n",
    "        \n",
    "        #First & last true cannot be a gap\n",
    "        possible_gaps += max(0,gap_ct + hits - 2)\n",
    "        \n",
    "        #Record if we saw gaps or not for this domain\n",
    "        if gap_ct > 0:\n",
    "            have_gaps.append(dom)\n",
    "            gap_cts.append(gap_ct)\n",
    "            gapped_widths.append(gap_ct + hits)\n",
    "        else:\n",
    "            dont_have_gaps.append(dom)\n",
    "            \n",
    "        widths.append(gap_ct + hits)\n",
    "            \n",
    "    d = {\n",
    "        \"actual_gaps\": actual_gaps,\n",
    "        \"possible_gaps\": possible_gaps,\n",
    "        \"gaps\": gaps,\n",
    "        \"pre_missing\": pre_missing,\n",
    "        \"post_missing\": post_missing,\n",
    "        \"have_gaps\": have_gaps,\n",
    "        \"dont_have_gaps\": dont_have_gaps,\n",
    "        \"gap_cts\": gap_cts,\n",
    "        \"widths\": widths,\n",
    "        \"gapped_widths\": gapped_widths,\n",
    "    }\n",
    "        \n",
    "    return d"
   ]
  },
  {
   "cell_type": "code",
   "execution_count": 15,
   "metadata": {},
   "outputs": [
    {
     "name": "stdout",
     "output_type": "stream",
     "text": [
      "Gaps perc: 29.849744,actual=301903,possible=1011409\n",
      "Domins w/ gaps perc: 54.091743\n",
      "Of domains that have gaps, averge num gaps: 5.144115592359727, median gaps: 3.0\n",
      "Lifespan average: 11.17474815436087 intervals, median: 9.0 intervals\n",
      "Of domains with gaps, lifespan average: 16.502206546371553 intervals, median: 15.0 intervals\n"
     ]
    }
   ],
   "source": [
    "d=get_gaps(all_doms,all_ys)\n",
    "\n",
    "actual = d[\"actual_gaps\"]\n",
    "possible = d[\"possible_gaps\"]\n",
    "gaps = d[\"gaps\"]\n",
    "pre_gaps = d[\"pre_missing\"]\n",
    "post_gaps = d[\"post_missing\"]\n",
    "have_gaps = d[\"have_gaps\"]\n",
    "dont_have_gaps = d[\"dont_have_gaps\"]\n",
    "gap_cts = d[\"gap_cts\"]\n",
    "widths = d[\"widths\"]\n",
    "gapped_widths = d[\"gapped_widths\"]\n",
    "\n",
    "print(\"Gaps perc: %f,actual=%s,possible=%s\" % (actual/possible*100,actual,possible))\n",
    "print(\"Domins w/ gaps perc: %f\" % (len(have_gaps) / (len(have_gaps) + len(dont_have_gaps)) * 100))\n",
    "\n",
    "print(\"Of domains that have gaps, averge num gaps: %s, median gaps: %s\" % (np.mean(gap_cts),np.median(gap_cts)))\n",
    "\n",
    "print(\"Lifespan average: %s intervals, median: %s intervals\" % (np.mean(widths),np.median(widths)))\n",
    "print(\"Of domains with gaps, lifespan average: %s intervals, median: %s intervals\" % (np.mean(gapped_widths),np.median(gapped_widths)))"
   ]
  },
  {
   "cell_type": "code",
   "execution_count": 16,
   "metadata": {},
   "outputs": [
    {
     "name": "stdout",
     "output_type": "stream",
     "text": [
      "Pre Gaps perc of all gaps: 76.525534\n",
      "Mid Gaps perc of all gaps: 7.398843\n",
      "Post Gaps perc of all gaps: 16.075623\n",
      "All gaps perc of possible: 81.756073\n"
     ]
    }
   ],
   "source": [
    "print(\"Pre Gaps perc of all gaps: %f\" % (len(pre_gaps)/(len(gaps)+len(post_gaps)+len(pre_gaps))*100))\n",
    "print(\"Mid Gaps perc of all gaps: %f\" % (len(gaps)/(len(gaps)+len(post_gaps)+len(pre_gaps))*100))\n",
    "print(\"Post Gaps perc of all gaps: %f\" % (len(post_gaps)/(len(gaps)+len(post_gaps)+len(pre_gaps))*100))\n",
    "print(\"All gaps perc of possible: %f\" % ((len(gaps)+len(post_gaps)+len(pre_gaps)) / (len(all_doms) * len(all_ys)) * 100))"
   ]
  },
  {
   "cell_type": "markdown",
   "metadata": {},
   "source": [
    "# Working with Alexa rank"
   ]
  },
  {
   "cell_type": "code",
   "execution_count": 17,
   "metadata": {},
   "outputs": [],
   "source": [
    "import historical.alexa as alexa\n",
    "alexa.load()"
   ]
  },
  {
   "cell_type": "code",
   "execution_count": 18,
   "metadata": {},
   "outputs": [],
   "source": [
    "all_alexa_ys = list(util.iter_yearseason())"
   ]
  },
  {
   "cell_type": "code",
   "execution_count": 19,
   "metadata": {},
   "outputs": [],
   "source": [
    "def missing_perc(ranks, default_rank):\n",
    "    num_missing = sum((1 for rank in ranks if rank == default_rank),0)\n",
    "    total = len(ranks)\n",
    "    return num_missing/total * 100, num_missing, total\n",
    "\n",
    "def smooth_graph(x,y,label=None):\n",
    "    df = pd.DataFrame(list(zip(x,y)), columns=[\"Rank\",\"Absent\"]).sort_values(by=['Rank'])\n",
    "    df['Absent_SMA'] = df[\"Absent\"].rolling(window=10000).mean()\n",
    "    sample = df.sample(n=100000, weights=(df.Rank.apply(lambda r: np.log(1000001) - np.log(r) + 1)))\n",
    "    sns.lineplot(x=\"Rank\", y=\"Absent_SMA\", data=sample,label=label)\n",
    "    plt.ylim(0,1)\n",
    "    plt.xscale(\"log\")\n",
    "\n",
    "def do_table(x,y,label=None):\n",
    "    df = pd.DataFrame(list(zip(x,y)), columns=[\"Rank\",\"Absent\"]).sort_values(by=['Rank'])\n",
    "    for thresh in [1,10,100,1000,10000,100000,1000000]:\n",
    "        absent = len(df[(df.Rank<=thresh) & (df.Absent == 1)])\n",
    "        present = len(df[(df.Rank<=thresh) & (df.Absent == 0)])\n",
    "        print(thresh,absent/(absent+present),present,absent)\n",
    "    df['Absent_SMA'] = df[\"Absent\"].rolling(window=10000).mean()\n",
    "    print(df)\n",
    "    return df\n",
    "\n",
    "    \n",
    "def bin_graph(x,y,label=None):\n",
    "    df = pd.DataFrame(list(zip(x,y)), columns=[\"Rank\",\"Absent\"]).sort_values(by=['Rank'])\n",
    "    df['Absent_SMA'] = df[\"Absent\"].rolling(window=10000).mean()\n",
    "    sample = df.sample(n=100000, weights=(df.Rank.apply(lambda r: np.log(1000001) - np.log(r) + 1)))\n",
    "    sns.barplot(x=\"Rank\", y=\"Absent_SMA\", data=sample,label=label)\n",
    "    plt.ylim(0,1)\n",
    "    plt.xscale(\"log\")\n",
    "\n",
    "#Default rank is 1m + 1 -> Assume it comes after all other Alexa items if we can't find it\n",
    "def correlate_rank(hits, missing, default_rank = 1000001, alexa_only=False, ranked=False, log_rank=True, pearson=True,label=None):    \n",
    "    hit_ranks = [alexa.get_alexa_rank(int(ys[:4]), ys[4], dom, default_rank=default_rank) for dom,ys in hits]\n",
    "    missing_ranks = [alexa.get_alexa_rank(int(ys[:4]), ys[4], dom, default_rank=default_rank) for dom,ys in missing]\n",
    "    \n",
    "\n",
    "    if ranked:\n",
    "        hit_ranks = [1 for rank in hit_ranks if rank != default_rank] + \\\n",
    "                    [0 for rank in hit_ranks if rank == default_rank]\n",
    "        missing_ranks = [1 for rank in missing_ranks if rank != default_rank] + \\\n",
    "                        [0 for rank in missing_ranks if rank == default_rank]\n",
    "    elif alexa_only:\n",
    "        hit_ranks = list(filter(lambda rank: rank != default_rank, hit_ranks))\n",
    "        missing_ranks = list(filter(lambda rank: rank != default_rank, missing_ranks))\n",
    "    else:\n",
    "        print(\"Hits: missing rank for %0.2f%%, missing: %d, total: %d\" % missing_perc(hit_ranks,default_rank))\n",
    "        print(\"Gaps: missing rank for %0.2f%%, missing: %d, total: %d\" % missing_perc(missing_ranks,default_rank))\n",
    "    \n",
    "    reg_ranks = hit_ranks+missing_ranks\n",
    "    #0 if hit, 1 if gap\n",
    "    bool_vals = [0]*len(hit_ranks) + [1]*len(missing_ranks)\n",
    "    \n",
    "    \n",
    "    if log_rank and not ranked:\n",
    "        ranks = list(np.log(reg_ranks))\n",
    "    else:\n",
    "        ranks = reg_ranks\n",
    "    \n",
    "    if pearson:\n",
    "        corr = scipy.stats.pearsonr(ranks,bool_vals)\n",
    "    else:\n",
    "        corr = scipy.stats.spearmanr(ranks,bool_vals)\n",
    "    hit_mean = np.mean(hit_ranks)\n",
    "    missing_mean = np.mean(missing_ranks)\n",
    "    hit_median = np.median(hit_ranks)\n",
    "    missing_median = np.median(missing_ranks)\n",
    "    print(\"Corr: %s\\nHit mean rank: %f\\nHit median rank: %f\\nMissing mean rank: %f\\nMissing median rank: %f\" % (corr,hit_mean,hit_median,missing_mean,missing_median))\n",
    "    \n",
    "    try:\n",
    "        smooth_graph(reg_ranks, bool_vals,label=label)\n",
    "        return do_table(reg_ranks, bool_vals,label=label)\n",
    "    except ValueError:\n",
    "        pass"
   ]
  },
  {
   "cell_type": "code",
   "execution_count": 20,
   "metadata": {},
   "outputs": [],
   "source": [
    "hit_ranks = [x for x in [((dom,ys),alexa.get_alexa_rank(int(ys[:4]), ys[4], dom, default_rank=-1)) for dom,ys in hits] if x[1] != -1]\n",
    "all_gap_ranks = [x for x in [((dom,ys),alexa.get_alexa_rank(int(ys[:4]), ys[4], dom, default_rank=-1)) for dom,ys in gaps+pre_gaps+post_gaps] if x[1] != -1]"
   ]
  },
  {
   "cell_type": "code",
   "execution_count": 21,
   "metadata": {},
   "outputs": [],
   "source": [
    "rows = [x for x in [(dom,ys,alexa.get_alexa_rank(int(ys[:4]), ys[4], dom, default_rank=-1),False) for dom,ys in hits] if x[2] != -1] + [x for x in [(dom,ys,alexa.get_alexa_rank(int(ys[:4]), ys[4], dom, default_rank=-1),True) for dom,ys in gaps+pre_gaps+post_gaps] if x[2] != -1]\n",
    "\n",
    "df=pd.DataFrame(rows,\n",
    "             columns=(\"Site\", \"Interval\", \"Rank\", \"Absent\"))"
   ]
  },
  {
   "cell_type": "code",
   "execution_count": 22,
   "metadata": {},
   "outputs": [
    {
     "data": {
      "text/html": [
       "<div>\n",
       "<style scoped>\n",
       "    .dataframe tbody tr th:only-of-type {\n",
       "        vertical-align: middle;\n",
       "    }\n",
       "\n",
       "    .dataframe tbody tr th {\n",
       "        vertical-align: top;\n",
       "    }\n",
       "\n",
       "    .dataframe thead th {\n",
       "        text-align: right;\n",
       "    }\n",
       "</style>\n",
       "<table border=\"1\" class=\"dataframe\">\n",
       "  <thead>\n",
       "    <tr style=\"text-align: right;\">\n",
       "      <th></th>\n",
       "      <th>Site</th>\n",
       "      <th>Interval</th>\n",
       "      <th>Rank</th>\n",
       "      <th>Absent</th>\n",
       "    </tr>\n",
       "  </thead>\n",
       "  <tbody>\n",
       "    <tr>\n",
       "      <th>737225</th>\n",
       "      <td>http://stackoverflow.com</td>\n",
       "      <td>2018A</td>\n",
       "      <td>63</td>\n",
       "      <td>True</td>\n",
       "    </tr>\n",
       "    <tr>\n",
       "      <th>1234236</th>\n",
       "      <td>http://msn.com</td>\n",
       "      <td>2016B</td>\n",
       "      <td>33</td>\n",
       "      <td>True</td>\n",
       "    </tr>\n",
       "    <tr>\n",
       "      <th>785339</th>\n",
       "      <td>http://mediafire.com</td>\n",
       "      <td>2009B</td>\n",
       "      <td>66</td>\n",
       "      <td>True</td>\n",
       "    </tr>\n",
       "    <tr>\n",
       "      <th>820193</th>\n",
       "      <td>http://imdb.com</td>\n",
       "      <td>2018A</td>\n",
       "      <td>52</td>\n",
       "      <td>True</td>\n",
       "    </tr>\n",
       "    <tr>\n",
       "      <th>677637</th>\n",
       "      <td>http://t.co</td>\n",
       "      <td>2017A</td>\n",
       "      <td>32</td>\n",
       "      <td>True</td>\n",
       "    </tr>\n",
       "    <tr>\n",
       "      <th>1290246</th>\n",
       "      <td>http://pornhub.com</td>\n",
       "      <td>2012B</td>\n",
       "      <td>68</td>\n",
       "      <td>True</td>\n",
       "    </tr>\n",
       "    <tr>\n",
       "      <th>794536</th>\n",
       "      <td>http://aol.com</td>\n",
       "      <td>2013A</td>\n",
       "      <td>67</td>\n",
       "      <td>True</td>\n",
       "    </tr>\n",
       "    <tr>\n",
       "      <th>785341</th>\n",
       "      <td>http://mediafire.com</td>\n",
       "      <td>2010B</td>\n",
       "      <td>63</td>\n",
       "      <td>True</td>\n",
       "    </tr>\n",
       "    <tr>\n",
       "      <th>1253945</th>\n",
       "      <td>http://google.co.in</td>\n",
       "      <td>2016B</td>\n",
       "      <td>7</td>\n",
       "      <td>True</td>\n",
       "    </tr>\n",
       "    <tr>\n",
       "      <th>667844</th>\n",
       "      <td>http://ask.com</td>\n",
       "      <td>2014B</td>\n",
       "      <td>35</td>\n",
       "      <td>True</td>\n",
       "    </tr>\n",
       "  </tbody>\n",
       "</table>\n",
       "</div>"
      ],
      "text/plain": [
       "                             Site Interval  Rank  Absent\n",
       "737225   http://stackoverflow.com    2018A    63    True\n",
       "1234236            http://msn.com    2016B    33    True\n",
       "785339       http://mediafire.com    2009B    66    True\n",
       "820193            http://imdb.com    2018A    52    True\n",
       "677637                http://t.co    2017A    32    True\n",
       "1290246        http://pornhub.com    2012B    68    True\n",
       "794536             http://aol.com    2013A    67    True\n",
       "785341       http://mediafire.com    2010B    63    True\n",
       "1253945       http://google.co.in    2016B     7    True\n",
       "667844             http://ask.com    2014B    35    True"
      ]
     },
     "execution_count": 22,
     "metadata": {},
     "output_type": "execute_result"
    }
   ],
   "source": [
    "df[(df.Absent == True) & (df.Rank <= 100)].sample(10)"
   ]
  },
  {
   "cell_type": "code",
   "execution_count": 23,
   "metadata": {},
   "outputs": [],
   "source": [
    "def compare_ratio(thresh=1000):\n",
    "    low_rank_hits = list(filter(lambda x: x[1] <= thresh, hit_ranks))\n",
    "    low_rank_gaps = list(filter(lambda x: x[1] <= thresh, all_gap_ranks))\n",
    "    print(thresh,1-len(low_rank_hits)/(len(low_rank_gaps)+len(low_rank_hits)),len(low_rank_hits),len(low_rank_gaps))"
   ]
  },
  {
   "cell_type": "code",
   "execution_count": 24,
   "metadata": {},
   "outputs": [
    {
     "name": "stdout",
     "output_type": "stream",
     "text": [
      "5 0.8444444444444444 14 76\n",
      "10 0.7972972972972973 30 118\n",
      "100 0.6555863342566943 373 710\n",
      "1000 0.5147286821705426 5008 5312\n",
      "10000 0.4800435199091758 43967 40592\n",
      "100000 0.48650095516994696 322291 305346\n",
      "1000000 0.5099889736321008 642157 668338\n",
      "100000000 0.5099889736321008 642157 668338\n"
     ]
    }
   ],
   "source": [
    "compare_ratio(5)\n",
    "compare_ratio(10)\n",
    "compare_ratio(100)\n",
    "compare_ratio(1000)\n",
    "compare_ratio(10000)\n",
    "compare_ratio(100000)\n",
    "compare_ratio(1000000)\n",
    "compare_ratio(100000000)"
   ]
  },
  {
   "cell_type": "markdown",
   "metadata": {},
   "source": [
    "## Scoring gaps for Alexa ranking"
   ]
  },
  {
   "cell_type": "code",
   "execution_count": 25,
   "metadata": {
    "scrolled": true
   },
   "outputs": [
    {
     "name": "stdout",
     "output_type": "stream",
     "text": [
      "Hits vs Gaps:\n",
      "Hits: missing rank for 29.48%, missing: 268389, total: 910546\n",
      "Gaps: missing rank for 36.55%, missing: 110344, total: 301903\n",
      "Corr: (0.03358650725616886, 1.4880306363662194e-299)\n",
      "Hit mean rank: 416499.139663\n",
      "Hit median rank: 187446.000000\n",
      "Missing mean rank: 471657.674183\n",
      "Missing median rank: 241237.000000\n",
      "1 0.6428571428571429 5 9\n",
      "10 0.6296296296296297 30 51\n",
      "100 0.44822485207100593 373 303\n",
      "1000 0.3065632788701191 5008 2214\n",
      "10000 0.2612574769809799 43967 15549\n",
      "100000 0.23281218013111352 322291 97803\n",
      "1000000 0.22976529177801552 642157 191559\n",
      "            Rank  Absent  Absent_SMA\n",
      "986404         1       1         NaN\n",
      "16596          1       0         NaN\n",
      "1062505        1       1         NaN\n",
      "986397         1       1         NaN\n",
      "986398         1       1         NaN\n",
      "...          ...     ...         ...\n",
      "635804   1000001       0         0.0\n",
      "635803   1000001       0         0.0\n",
      "635802   1000001       0         0.0\n",
      "635816   1000001       0         0.0\n",
      "606224   1000001       0         0.0\n",
      "\n",
      "[1212449 rows x 3 columns]\n",
      "\n",
      "Hits vs Pre-Gaps:\n",
      "Hits: missing rank for 29.48%, missing: 268389, total: 910546\n",
      "Gaps: missing rank for 92.46%, missing: 2887031, total: 3122554\n",
      "Corr: (0.5559394901710566, 0.0)\n",
      "Hit mean rank: 416499.139663\n",
      "Hit median rank: 187446.000000\n",
      "Missing mean rank: 939707.330123\n",
      "Missing median rank: 1000001.000000\n",
      "1 0.2857142857142857 5 2\n",
      "10 0.5588235294117647 30 38\n",
      "100 0.2097457627118644 373 99\n",
      "1000 0.1647765176784523 5008 988\n",
      "10000 0.20353966269949098 43967 11236\n",
      "100000 0.24510699495943186 322291 104645\n",
      "1000000 0.26834723361589646 642157 235523\n",
      "            Rank  Absent  Absent_SMA\n",
      "385420         1       0         NaN\n",
      "16596          1       0         NaN\n",
      "54590          1       0         NaN\n",
      "1688011        1       1         NaN\n",
      "1688012        1       1         NaN\n",
      "...          ...     ...         ...\n",
      "1802140  1000001       1         1.0\n",
      "1802141  1000001       1         1.0\n",
      "1802142  1000001       1         1.0\n",
      "1802132  1000001       1         1.0\n",
      "4033099  1000001       1         1.0\n",
      "\n",
      "[4033100 rows x 3 columns]\n",
      "\n",
      "Hits vs Post-Gaps:\n",
      "Hits: missing rank for 29.48%, missing: 268389, total: 910546\n",
      "Gaps: missing rank for 63.22%, missing: 414695, total: 655951\n",
      "Corr: (0.28624949044204656, 0.0)\n",
      "Hit mean rank: 416499.139663\n",
      "Hit median rank: 187446.000000\n",
      "Missing mean rank: 713230.213668\n",
      "Missing median rank: 1000001.000000\n",
      "1 0.5454545454545454 5 6\n",
      "10 0.4915254237288136 30 29\n",
      "100 0.4522760646108664 373 308\n",
      "1000 0.2964315819050295 5008 2110\n",
      "10000 0.23898293349949803 43967 13807\n",
      "100000 0.2420053199871116 322291 102898\n",
      "1000000 0.2730953698892817 642157 241256\n",
      "            Rank  Absent  Absent_SMA\n",
      "529108         1       0         NaN\n",
      "385420         1       0         NaN\n",
      "567250         1       0         NaN\n",
      "1073768        1       1         NaN\n",
      "1073767        1       1         NaN\n",
      "...          ...     ...         ...\n",
      "927355   1000001       1         1.0\n",
      "927356   1000001       1         1.0\n",
      "927357   1000001       1         1.0\n",
      "927346   1000001       1         1.0\n",
      "1566496  1000001       1         1.0\n",
      "\n",
      "[1566497 rows x 3 columns]\n",
      "\n",
      "Hits vs All Gaps:\n",
      "Hits: missing rank for 29.48%, missing: 268389, total: 910546\n",
      "Gaps: missing rank for 83.62%, missing: 3412070, total: 4080408\n",
      "Corr: (0.4121693289489425, 0.0)\n",
      "Hit mean rank: 416499.139663\n",
      "Hit median rank: 187446.000000\n",
      "Missing mean rank: 868669.461779\n",
      "Missing median rank: 1000001.000000\n",
      "1 0.7727272727272727 5 17\n",
      "10 0.7972972972972973 30 118\n",
      "100 0.6555863342566943 373 710\n",
      "1000 0.5147286821705427 5008 5312\n",
      "10000 0.4800435199091758 43967 40592\n",
      "100000 0.48650095516994696 322291 305346\n",
      "1000000 0.5099889736321008 642157 668338\n",
      "            Rank  Absent  Absent_SMA\n",
      "986402         1       1         NaN\n",
      "1062505        1       1         NaN\n",
      "986397         1       1         NaN\n",
      "54590          1       0         NaN\n",
      "986405         1       1         NaN\n",
      "...          ...     ...         ...\n",
      "2253148  1000001       1         1.0\n",
      "2253149  1000001       1         1.0\n",
      "2253150  1000001       1         1.0\n",
      "2253152  1000001       1         1.0\n",
      "4990953  1000001       1         1.0\n",
      "\n",
      "[4990954 rows x 3 columns]\n"
     ]
    },
    {
     "data": {
      "text/plain": [
       "<matplotlib.legend.Legend at 0x7f060a6bfe48>"
      ]
     },
     "execution_count": 25,
     "metadata": {},
     "output_type": "execute_result"
    },
    {
     "data": {
      "image/png": "[encoded data removed]",
      "text/plain": [
       "<Figure size 504x288 with 1 Axes>"
      ]
     },
     "metadata": {
      "needs_background": "light"
     },
     "output_type": "display_data"
    }
   ],
   "source": [
    "print(\"Hits vs Gaps:\")\n",
    "correlate_rank(hits,gaps,label=\"mid-gaps\")\n",
    "print(\"\\nHits vs Pre-Gaps:\")\n",
    "correlate_rank(hits,pre_gaps,label=\"pre-gaps\")\n",
    "print(\"\\nHits vs Post-Gaps:\")\n",
    "correlate_rank(hits,post_gaps,label=\"post-gaps\")\n",
    "print(\"\\nHits vs All Gaps:\")\n",
    "correlate_rank(hits,gaps+pre_gaps+post_gaps,label=\"all-gaps\")\n",
    "\n",
    "plt.legend()"
   ]
  },
  {
   "cell_type": "markdown",
   "metadata": {},
   "source": [
    "## Scoring gaps with Alexa ranking, keeping only those domain-intervals in the top 1m"
   ]
  },
  {
   "cell_type": "code",
   "execution_count": 26,
   "metadata": {
    "scrolled": true
   },
   "outputs": [
    {
     "name": "stdout",
     "output_type": "stream",
     "text": [
      "Hits vs Gaps:\n",
      "Corr: (-0.02259199500054731, 1.4489148714850206e-94)\n",
      "Hit mean rank: 172625.007958\n",
      "Hit median rank: 99565.000000\n",
      "Missing mean rank: 167315.325644\n",
      "Missing median rank: 97406.000000\n"
     ]
    },
    {
     "ename": "KeyboardInterrupt",
     "evalue": "",
     "output_type": "error",
     "traceback": [
      "\u001b[0;31m---------------------------------------------------------------------------\u001b[0m",
      "\u001b[0;31mKeyboardInterrupt\u001b[0m                         Traceback (most recent call last)",
      "\u001b[0;32m<ipython-input-26-3319c0b5b48a>\u001b[0m in \u001b[0;36m<module>\u001b[0;34m\u001b[0m\n\u001b[1;32m      1\u001b[0m \u001b[0mprint\u001b[0m\u001b[0;34m(\u001b[0m\u001b[0;34m\"Hits vs Gaps:\"\u001b[0m\u001b[0;34m)\u001b[0m\u001b[0;34m\u001b[0m\u001b[0;34m\u001b[0m\u001b[0m\n\u001b[0;32m----> 2\u001b[0;31m \u001b[0mcorrelate_rank\u001b[0m\u001b[0;34m(\u001b[0m\u001b[0mhits\u001b[0m\u001b[0;34m,\u001b[0m\u001b[0mgaps\u001b[0m\u001b[0;34m,\u001b[0m\u001b[0malexa_only\u001b[0m\u001b[0;34m=\u001b[0m\u001b[0;32mTrue\u001b[0m\u001b[0;34m,\u001b[0m\u001b[0mlabel\u001b[0m\u001b[0;34m=\u001b[0m\u001b[0;34m\"mid-gaps\"\u001b[0m\u001b[0;34m)\u001b[0m\u001b[0;34m\u001b[0m\u001b[0;34m\u001b[0m\u001b[0m\n\u001b[0m\u001b[1;32m      3\u001b[0m \u001b[0mprint\u001b[0m\u001b[0;34m(\u001b[0m\u001b[0;34m\"\\nHits vs Pre-Gaps:\"\u001b[0m\u001b[0;34m)\u001b[0m\u001b[0;34m\u001b[0m\u001b[0;34m\u001b[0m\u001b[0m\n\u001b[1;32m      4\u001b[0m \u001b[0mcorrelate_rank\u001b[0m\u001b[0;34m(\u001b[0m\u001b[0mhits\u001b[0m\u001b[0;34m,\u001b[0m\u001b[0mpre_gaps\u001b[0m\u001b[0;34m,\u001b[0m\u001b[0malexa_only\u001b[0m\u001b[0;34m=\u001b[0m\u001b[0;32mTrue\u001b[0m\u001b[0;34m,\u001b[0m\u001b[0mlabel\u001b[0m\u001b[0;34m=\u001b[0m\u001b[0;34m\"pre-gaps\"\u001b[0m\u001b[0;34m)\u001b[0m\u001b[0;34m\u001b[0m\u001b[0;34m\u001b[0m\u001b[0m\n\u001b[1;32m      5\u001b[0m \u001b[0mprint\u001b[0m\u001b[0;34m(\u001b[0m\u001b[0;34m\"\\nHits vs Post-Gaps:\"\u001b[0m\u001b[0;34m)\u001b[0m\u001b[0;34m\u001b[0m\u001b[0;34m\u001b[0m\u001b[0m\n",
      "\u001b[0;32m<ipython-input-19-1b66e8466fb6>\u001b[0m in \u001b[0;36mcorrelate_rank\u001b[0;34m(hits, missing, default_rank, alexa_only, ranked, log_rank, pearson, label)\u001b[0m\n\u001b[1;32m     70\u001b[0m \u001b[0;34m\u001b[0m\u001b[0m\n\u001b[1;32m     71\u001b[0m     \u001b[0;32mtry\u001b[0m\u001b[0;34m:\u001b[0m\u001b[0;34m\u001b[0m\u001b[0;34m\u001b[0m\u001b[0m\n\u001b[0;32m---> 72\u001b[0;31m         \u001b[0msmooth_graph\u001b[0m\u001b[0;34m(\u001b[0m\u001b[0mreg_ranks\u001b[0m\u001b[0;34m,\u001b[0m \u001b[0mbool_vals\u001b[0m\u001b[0;34m,\u001b[0m\u001b[0mlabel\u001b[0m\u001b[0;34m=\u001b[0m\u001b[0mlabel\u001b[0m\u001b[0;34m)\u001b[0m\u001b[0;34m\u001b[0m\u001b[0;34m\u001b[0m\u001b[0m\n\u001b[0m\u001b[1;32m     73\u001b[0m         \u001b[0;32mreturn\u001b[0m \u001b[0mdo_table\u001b[0m\u001b[0;34m(\u001b[0m\u001b[0mreg_ranks\u001b[0m\u001b[0;34m,\u001b[0m \u001b[0mbool_vals\u001b[0m\u001b[0;34m,\u001b[0m\u001b[0mlabel\u001b[0m\u001b[0;34m=\u001b[0m\u001b[0mlabel\u001b[0m\u001b[0;34m)\u001b[0m\u001b[0;34m\u001b[0m\u001b[0;34m\u001b[0m\u001b[0m\n\u001b[1;32m     74\u001b[0m     \u001b[0;32mexcept\u001b[0m \u001b[0mValueError\u001b[0m\u001b[0;34m:\u001b[0m\u001b[0;34m\u001b[0m\u001b[0;34m\u001b[0m\u001b[0m\n",
      "\u001b[0;32m<ipython-input-19-1b66e8466fb6>\u001b[0m in \u001b[0;36msmooth_graph\u001b[0;34m(x, y, label)\u001b[0m\n\u001b[1;32m      8\u001b[0m     \u001b[0mdf\u001b[0m\u001b[0;34m[\u001b[0m\u001b[0;34m'Absent_SMA'\u001b[0m\u001b[0;34m]\u001b[0m \u001b[0;34m=\u001b[0m \u001b[0mdf\u001b[0m\u001b[0;34m[\u001b[0m\u001b[0;34m\"Absent\"\u001b[0m\u001b[0;34m]\u001b[0m\u001b[0;34m.\u001b[0m\u001b[0mrolling\u001b[0m\u001b[0;34m(\u001b[0m\u001b[0mwindow\u001b[0m\u001b[0;34m=\u001b[0m\u001b[0;36m10000\u001b[0m\u001b[0;34m)\u001b[0m\u001b[0;34m.\u001b[0m\u001b[0mmean\u001b[0m\u001b[0;34m(\u001b[0m\u001b[0;34m)\u001b[0m\u001b[0;34m\u001b[0m\u001b[0;34m\u001b[0m\u001b[0m\n\u001b[1;32m      9\u001b[0m     \u001b[0msample\u001b[0m \u001b[0;34m=\u001b[0m \u001b[0mdf\u001b[0m\u001b[0;34m.\u001b[0m\u001b[0msample\u001b[0m\u001b[0;34m(\u001b[0m\u001b[0mn\u001b[0m\u001b[0;34m=\u001b[0m\u001b[0;36m100000\u001b[0m\u001b[0;34m,\u001b[0m \u001b[0mweights\u001b[0m\u001b[0;34m=\u001b[0m\u001b[0;34m(\u001b[0m\u001b[0mdf\u001b[0m\u001b[0;34m.\u001b[0m\u001b[0mRank\u001b[0m\u001b[0;34m.\u001b[0m\u001b[0mapply\u001b[0m\u001b[0;34m(\u001b[0m\u001b[0;32mlambda\u001b[0m \u001b[0mr\u001b[0m\u001b[0;34m:\u001b[0m \u001b[0mnp\u001b[0m\u001b[0;34m.\u001b[0m\u001b[0mlog\u001b[0m\u001b[0;34m(\u001b[0m\u001b[0;36m1000001\u001b[0m\u001b[0;34m)\u001b[0m \u001b[0;34m-\u001b[0m \u001b[0mnp\u001b[0m\u001b[0;34m.\u001b[0m\u001b[0mlog\u001b[0m\u001b[0;34m(\u001b[0m\u001b[0mr\u001b[0m\u001b[0;34m)\u001b[0m \u001b[0;34m+\u001b[0m \u001b[0;36m1\u001b[0m\u001b[0;34m)\u001b[0m\u001b[0;34m)\u001b[0m\u001b[0;34m)\u001b[0m\u001b[0;34m\u001b[0m\u001b[0;34m\u001b[0m\u001b[0m\n\u001b[0;32m---> 10\u001b[0;31m     \u001b[0msns\u001b[0m\u001b[0;34m.\u001b[0m\u001b[0mlineplot\u001b[0m\u001b[0;34m(\u001b[0m\u001b[0mx\u001b[0m\u001b[0;34m=\u001b[0m\u001b[0;34m\"Rank\"\u001b[0m\u001b[0;34m,\u001b[0m \u001b[0my\u001b[0m\u001b[0;34m=\u001b[0m\u001b[0;34m\"Absent_SMA\"\u001b[0m\u001b[0;34m,\u001b[0m \u001b[0mdata\u001b[0m\u001b[0;34m=\u001b[0m\u001b[0msample\u001b[0m\u001b[0;34m,\u001b[0m\u001b[0mlabel\u001b[0m\u001b[0;34m=\u001b[0m\u001b[0mlabel\u001b[0m\u001b[0;34m)\u001b[0m\u001b[0;34m\u001b[0m\u001b[0;34m\u001b[0m\u001b[0m\n\u001b[0m\u001b[1;32m     11\u001b[0m     \u001b[0mplt\u001b[0m\u001b[0;34m.\u001b[0m\u001b[0mylim\u001b[0m\u001b[0;34m(\u001b[0m\u001b[0;36m0\u001b[0m\u001b[0;34m,\u001b[0m\u001b[0;36m1\u001b[0m\u001b[0;34m)\u001b[0m\u001b[0;34m\u001b[0m\u001b[0;34m\u001b[0m\u001b[0m\n\u001b[1;32m     12\u001b[0m     \u001b[0mplt\u001b[0m\u001b[0;34m.\u001b[0m\u001b[0mxscale\u001b[0m\u001b[0;34m(\u001b[0m\u001b[0;34m\"log\"\u001b[0m\u001b[0;34m)\u001b[0m\u001b[0;34m\u001b[0m\u001b[0;34m\u001b[0m\u001b[0m\n",
      "\u001b[0;32m/n/fs/policyphylog/PrivacyPolicyPlagiarism/.venv/lib/python3.7/site-packages/seaborn/_decorators.py\u001b[0m in \u001b[0;36minner_f\u001b[0;34m(*args, **kwargs)\u001b[0m\n\u001b[1;32m     44\u001b[0m             )\n\u001b[1;32m     45\u001b[0m         \u001b[0mkwargs\u001b[0m\u001b[0;34m.\u001b[0m\u001b[0mupdate\u001b[0m\u001b[0;34m(\u001b[0m\u001b[0;34m{\u001b[0m\u001b[0mk\u001b[0m\u001b[0;34m:\u001b[0m \u001b[0marg\u001b[0m \u001b[0;32mfor\u001b[0m \u001b[0mk\u001b[0m\u001b[0;34m,\u001b[0m \u001b[0marg\u001b[0m \u001b[0;32min\u001b[0m \u001b[0mzip\u001b[0m\u001b[0;34m(\u001b[0m\u001b[0msig\u001b[0m\u001b[0;34m.\u001b[0m\u001b[0mparameters\u001b[0m\u001b[0;34m,\u001b[0m \u001b[0margs\u001b[0m\u001b[0;34m)\u001b[0m\u001b[0;34m}\u001b[0m\u001b[0;34m)\u001b[0m\u001b[0;34m\u001b[0m\u001b[0;34m\u001b[0m\u001b[0m\n\u001b[0;32m---> 46\u001b[0;31m         \u001b[0;32mreturn\u001b[0m \u001b[0mf\u001b[0m\u001b[0;34m(\u001b[0m\u001b[0;34m**\u001b[0m\u001b[0mkwargs\u001b[0m\u001b[0;34m)\u001b[0m\u001b[0;34m\u001b[0m\u001b[0;34m\u001b[0m\u001b[0m\n\u001b[0m\u001b[1;32m     47\u001b[0m     \u001b[0;32mreturn\u001b[0m \u001b[0minner_f\u001b[0m\u001b[0;34m\u001b[0m\u001b[0;34m\u001b[0m\u001b[0m\n\u001b[1;32m     48\u001b[0m \u001b[0;34m\u001b[0m\u001b[0m\n",
      "\u001b[0;32m/n/fs/policyphylog/PrivacyPolicyPlagiarism/.venv/lib/python3.7/site-packages/seaborn/relational.py\u001b[0m in \u001b[0;36mlineplot\u001b[0;34m(x, y, hue, size, style, data, palette, hue_order, hue_norm, sizes, size_order, size_norm, dashes, markers, style_order, units, estimator, ci, n_boot, seed, sort, err_style, err_kws, legend, ax, **kwargs)\u001b[0m\n\u001b[1;32m    694\u001b[0m     \u001b[0mp\u001b[0m\u001b[0;34m.\u001b[0m\u001b[0m_attach\u001b[0m\u001b[0;34m(\u001b[0m\u001b[0max\u001b[0m\u001b[0;34m)\u001b[0m\u001b[0;34m\u001b[0m\u001b[0;34m\u001b[0m\u001b[0m\n\u001b[1;32m    695\u001b[0m \u001b[0;34m\u001b[0m\u001b[0m\n\u001b[0;32m--> 696\u001b[0;31m     \u001b[0mp\u001b[0m\u001b[0;34m.\u001b[0m\u001b[0mplot\u001b[0m\u001b[0;34m(\u001b[0m\u001b[0max\u001b[0m\u001b[0;34m,\u001b[0m \u001b[0mkwargs\u001b[0m\u001b[0;34m)\u001b[0m\u001b[0;34m\u001b[0m\u001b[0;34m\u001b[0m\u001b[0m\n\u001b[0m\u001b[1;32m    697\u001b[0m     \u001b[0;32mreturn\u001b[0m \u001b[0max\u001b[0m\u001b[0;34m\u001b[0m\u001b[0;34m\u001b[0m\u001b[0m\n\u001b[1;32m    698\u001b[0m \u001b[0;34m\u001b[0m\u001b[0m\n",
      "\u001b[0;32m/n/fs/policyphylog/PrivacyPolicyPlagiarism/.venv/lib/python3.7/site-packages/seaborn/relational.py\u001b[0m in \u001b[0;36mplot\u001b[0;34m(self, ax, kws)\u001b[0m\n\u001b[1;32m    490\u001b[0m                     \u001b[0merr\u001b[0m \u001b[0;34m=\u001b[0m \u001b[0;34m\"estimator must be None when specifying units\"\u001b[0m\u001b[0;34m\u001b[0m\u001b[0;34m\u001b[0m\u001b[0m\n\u001b[1;32m    491\u001b[0m                     \u001b[0;32mraise\u001b[0m \u001b[0mValueError\u001b[0m\u001b[0;34m(\u001b[0m\u001b[0merr\u001b[0m\u001b[0;34m)\u001b[0m\u001b[0;34m\u001b[0m\u001b[0;34m\u001b[0m\u001b[0m\n\u001b[0;32m--> 492\u001b[0;31m                 \u001b[0mx\u001b[0m\u001b[0;34m,\u001b[0m \u001b[0my\u001b[0m\u001b[0;34m,\u001b[0m \u001b[0my_ci\u001b[0m \u001b[0;34m=\u001b[0m \u001b[0mself\u001b[0m\u001b[0;34m.\u001b[0m\u001b[0maggregate\u001b[0m\u001b[0;34m(\u001b[0m\u001b[0my\u001b[0m\u001b[0;34m,\u001b[0m \u001b[0mx\u001b[0m\u001b[0;34m,\u001b[0m \u001b[0mu\u001b[0m\u001b[0;34m)\u001b[0m\u001b[0;34m\u001b[0m\u001b[0;34m\u001b[0m\u001b[0m\n\u001b[0m\u001b[1;32m    493\u001b[0m             \u001b[0;32melse\u001b[0m\u001b[0;34m:\u001b[0m\u001b[0;34m\u001b[0m\u001b[0;34m\u001b[0m\u001b[0m\n\u001b[1;32m    494\u001b[0m                 \u001b[0my_ci\u001b[0m \u001b[0;34m=\u001b[0m \u001b[0;32mNone\u001b[0m\u001b[0;34m\u001b[0m\u001b[0;34m\u001b[0m\u001b[0m\n",
      "\u001b[0;32m/n/fs/policyphylog/PrivacyPolicyPlagiarism/.venv/lib/python3.7/site-packages/seaborn/relational.py\u001b[0m in \u001b[0;36maggregate\u001b[0;34m(self, vals, grouper, units)\u001b[0m\n\u001b[1;32m    412\u001b[0m                                columns=[\"low\", \"high\"]).stack()\n\u001b[1;32m    413\u001b[0m         \u001b[0;32melse\u001b[0m\u001b[0;34m:\u001b[0m\u001b[0;34m\u001b[0m\u001b[0;34m\u001b[0m\u001b[0m\n\u001b[0;32m--> 414\u001b[0;31m             \u001b[0mcis\u001b[0m \u001b[0;34m=\u001b[0m \u001b[0mgrouped\u001b[0m\u001b[0;34m.\u001b[0m\u001b[0mapply\u001b[0m\u001b[0;34m(\u001b[0m\u001b[0mbootstrapped_cis\u001b[0m\u001b[0;34m)\u001b[0m\u001b[0;34m\u001b[0m\u001b[0;34m\u001b[0m\u001b[0m\n\u001b[0m\u001b[1;32m    415\u001b[0m \u001b[0;34m\u001b[0m\u001b[0m\n\u001b[1;32m    416\u001b[0m         \u001b[0;31m# Unpack the CIs into \"wide\" format for plotting\u001b[0m\u001b[0;34m\u001b[0m\u001b[0;34m\u001b[0m\u001b[0;34m\u001b[0m\u001b[0m\n",
      "\u001b[0;32m/n/fs/policyphylog/PrivacyPolicyPlagiarism/.venv/lib/python3.7/site-packages/pandas/core/groupby/generic.py\u001b[0m in \u001b[0;36mapply\u001b[0;34m(self, func, *args, **kwargs)\u001b[0m\n\u001b[1;32m    224\u001b[0m     )\n\u001b[1;32m    225\u001b[0m     \u001b[0;32mdef\u001b[0m \u001b[0mapply\u001b[0m\u001b[0;34m(\u001b[0m\u001b[0mself\u001b[0m\u001b[0;34m,\u001b[0m \u001b[0mfunc\u001b[0m\u001b[0;34m,\u001b[0m \u001b[0;34m*\u001b[0m\u001b[0margs\u001b[0m\u001b[0;34m,\u001b[0m \u001b[0;34m**\u001b[0m\u001b[0mkwargs\u001b[0m\u001b[0;34m)\u001b[0m\u001b[0;34m:\u001b[0m\u001b[0;34m\u001b[0m\u001b[0;34m\u001b[0m\u001b[0m\n\u001b[0;32m--> 226\u001b[0;31m         \u001b[0;32mreturn\u001b[0m \u001b[0msuper\u001b[0m\u001b[0;34m(\u001b[0m\u001b[0;34m)\u001b[0m\u001b[0;34m.\u001b[0m\u001b[0mapply\u001b[0m\u001b[0;34m(\u001b[0m\u001b[0mfunc\u001b[0m\u001b[0;34m,\u001b[0m \u001b[0;34m*\u001b[0m\u001b[0margs\u001b[0m\u001b[0;34m,\u001b[0m \u001b[0;34m**\u001b[0m\u001b[0mkwargs\u001b[0m\u001b[0;34m)\u001b[0m\u001b[0;34m\u001b[0m\u001b[0;34m\u001b[0m\u001b[0m\n\u001b[0m\u001b[1;32m    227\u001b[0m \u001b[0;34m\u001b[0m\u001b[0m\n\u001b[1;32m    228\u001b[0m     @doc(\n",
      "\u001b[0;32m/n/fs/policyphylog/PrivacyPolicyPlagiarism/.venv/lib/python3.7/site-packages/pandas/core/groupby/groupby.py\u001b[0m in \u001b[0;36mapply\u001b[0;34m(self, func, *args, **kwargs)\u001b[0m\n\u001b[1;32m    857\u001b[0m         \u001b[0;32mwith\u001b[0m \u001b[0moption_context\u001b[0m\u001b[0;34m(\u001b[0m\u001b[0;34m\"mode.chained_assignment\"\u001b[0m\u001b[0;34m,\u001b[0m \u001b[0;32mNone\u001b[0m\u001b[0;34m)\u001b[0m\u001b[0;34m:\u001b[0m\u001b[0;34m\u001b[0m\u001b[0;34m\u001b[0m\u001b[0m\n\u001b[1;32m    858\u001b[0m             \u001b[0;32mtry\u001b[0m\u001b[0;34m:\u001b[0m\u001b[0;34m\u001b[0m\u001b[0;34m\u001b[0m\u001b[0m\n\u001b[0;32m--> 859\u001b[0;31m                 \u001b[0mresult\u001b[0m \u001b[0;34m=\u001b[0m \u001b[0mself\u001b[0m\u001b[0;34m.\u001b[0m\u001b[0m_python_apply_general\u001b[0m\u001b[0;34m(\u001b[0m\u001b[0mf\u001b[0m\u001b[0;34m,\u001b[0m \u001b[0mself\u001b[0m\u001b[0;34m.\u001b[0m\u001b[0m_selected_obj\u001b[0m\u001b[0;34m)\u001b[0m\u001b[0;34m\u001b[0m\u001b[0;34m\u001b[0m\u001b[0m\n\u001b[0m\u001b[1;32m    860\u001b[0m             \u001b[0;32mexcept\u001b[0m \u001b[0mTypeError\u001b[0m\u001b[0;34m:\u001b[0m\u001b[0;34m\u001b[0m\u001b[0;34m\u001b[0m\u001b[0m\n\u001b[1;32m    861\u001b[0m                 \u001b[0;31m# gh-20949\u001b[0m\u001b[0;34m\u001b[0m\u001b[0;34m\u001b[0m\u001b[0;34m\u001b[0m\u001b[0m\n",
      "\u001b[0;32m/n/fs/policyphylog/PrivacyPolicyPlagiarism/.venv/lib/python3.7/site-packages/pandas/core/groupby/groupby.py\u001b[0m in \u001b[0;36m_python_apply_general\u001b[0;34m(self, f, data)\u001b[0m\n\u001b[1;32m    890\u001b[0m             \u001b[0mdata\u001b[0m \u001b[0mafter\u001b[0m \u001b[0mapplying\u001b[0m \u001b[0mf\u001b[0m\u001b[0;34m\u001b[0m\u001b[0;34m\u001b[0m\u001b[0m\n\u001b[1;32m    891\u001b[0m         \"\"\"\n\u001b[0;32m--> 892\u001b[0;31m         \u001b[0mkeys\u001b[0m\u001b[0;34m,\u001b[0m \u001b[0mvalues\u001b[0m\u001b[0;34m,\u001b[0m \u001b[0mmutated\u001b[0m \u001b[0;34m=\u001b[0m \u001b[0mself\u001b[0m\u001b[0;34m.\u001b[0m\u001b[0mgrouper\u001b[0m\u001b[0;34m.\u001b[0m\u001b[0mapply\u001b[0m\u001b[0;34m(\u001b[0m\u001b[0mf\u001b[0m\u001b[0;34m,\u001b[0m \u001b[0mdata\u001b[0m\u001b[0;34m,\u001b[0m \u001b[0mself\u001b[0m\u001b[0;34m.\u001b[0m\u001b[0maxis\u001b[0m\u001b[0;34m)\u001b[0m\u001b[0;34m\u001b[0m\u001b[0;34m\u001b[0m\u001b[0m\n\u001b[0m\u001b[1;32m    893\u001b[0m \u001b[0;34m\u001b[0m\u001b[0m\n\u001b[1;32m    894\u001b[0m         return self._wrap_applied_output(\n",
      "\u001b[0;32m/n/fs/policyphylog/PrivacyPolicyPlagiarism/.venv/lib/python3.7/site-packages/pandas/core/groupby/ops.py\u001b[0m in \u001b[0;36mapply\u001b[0;34m(self, f, data, axis)\u001b[0m\n\u001b[1;32m    211\u001b[0m             \u001b[0;31m# group might be modified\u001b[0m\u001b[0;34m\u001b[0m\u001b[0;34m\u001b[0m\u001b[0;34m\u001b[0m\u001b[0m\n\u001b[1;32m    212\u001b[0m             \u001b[0mgroup_axes\u001b[0m \u001b[0;34m=\u001b[0m \u001b[0mgroup\u001b[0m\u001b[0;34m.\u001b[0m\u001b[0maxes\u001b[0m\u001b[0;34m\u001b[0m\u001b[0;34m\u001b[0m\u001b[0m\n\u001b[0;32m--> 213\u001b[0;31m             \u001b[0mres\u001b[0m \u001b[0;34m=\u001b[0m \u001b[0mf\u001b[0m\u001b[0;34m(\u001b[0m\u001b[0mgroup\u001b[0m\u001b[0;34m)\u001b[0m\u001b[0;34m\u001b[0m\u001b[0;34m\u001b[0m\u001b[0m\n\u001b[0m\u001b[1;32m    214\u001b[0m             \u001b[0;32mif\u001b[0m \u001b[0;32mnot\u001b[0m \u001b[0m_is_indexed_like\u001b[0m\u001b[0;34m(\u001b[0m\u001b[0mres\u001b[0m\u001b[0;34m,\u001b[0m \u001b[0mgroup_axes\u001b[0m\u001b[0;34m)\u001b[0m\u001b[0;34m:\u001b[0m\u001b[0;34m\u001b[0m\u001b[0;34m\u001b[0m\u001b[0m\n\u001b[1;32m    215\u001b[0m                 \u001b[0mmutated\u001b[0m \u001b[0;34m=\u001b[0m \u001b[0;32mTrue\u001b[0m\u001b[0;34m\u001b[0m\u001b[0;34m\u001b[0m\u001b[0m\n",
      "\u001b[0;32m/n/fs/policyphylog/PrivacyPolicyPlagiarism/.venv/lib/python3.7/site-packages/seaborn/relational.py\u001b[0m in \u001b[0;36mbootstrapped_cis\u001b[0;34m(vals)\u001b[0m\n\u001b[1;32m    393\u001b[0m                 \u001b[0;32mreturn\u001b[0m \u001b[0mnull_ci\u001b[0m\u001b[0;34m\u001b[0m\u001b[0;34m\u001b[0m\u001b[0m\n\u001b[1;32m    394\u001b[0m \u001b[0;34m\u001b[0m\u001b[0m\n\u001b[0;32m--> 395\u001b[0;31m             \u001b[0mboots\u001b[0m \u001b[0;34m=\u001b[0m \u001b[0mbootstrap\u001b[0m\u001b[0;34m(\u001b[0m\u001b[0mvals\u001b[0m\u001b[0;34m,\u001b[0m \u001b[0mfunc\u001b[0m\u001b[0;34m=\u001b[0m\u001b[0mfunc\u001b[0m\u001b[0;34m,\u001b[0m \u001b[0mn_boot\u001b[0m\u001b[0;34m=\u001b[0m\u001b[0mn_boot\u001b[0m\u001b[0;34m,\u001b[0m \u001b[0mseed\u001b[0m\u001b[0;34m=\u001b[0m\u001b[0mseed\u001b[0m\u001b[0;34m)\u001b[0m\u001b[0;34m\u001b[0m\u001b[0;34m\u001b[0m\u001b[0m\n\u001b[0m\u001b[1;32m    396\u001b[0m             \u001b[0mcis\u001b[0m \u001b[0;34m=\u001b[0m \u001b[0mci_func\u001b[0m\u001b[0;34m(\u001b[0m\u001b[0mboots\u001b[0m\u001b[0;34m,\u001b[0m \u001b[0mci\u001b[0m\u001b[0;34m)\u001b[0m\u001b[0;34m\u001b[0m\u001b[0;34m\u001b[0m\u001b[0m\n\u001b[1;32m    397\u001b[0m             \u001b[0;32mreturn\u001b[0m \u001b[0mpd\u001b[0m\u001b[0;34m.\u001b[0m\u001b[0mSeries\u001b[0m\u001b[0;34m(\u001b[0m\u001b[0mcis\u001b[0m\u001b[0;34m,\u001b[0m \u001b[0;34m[\u001b[0m\u001b[0;34m\"low\"\u001b[0m\u001b[0;34m,\u001b[0m \u001b[0;34m\"high\"\u001b[0m\u001b[0;34m]\u001b[0m\u001b[0;34m)\u001b[0m\u001b[0;34m\u001b[0m\u001b[0;34m\u001b[0m\u001b[0m\n",
      "\u001b[0;32m/n/fs/policyphylog/PrivacyPolicyPlagiarism/.venv/lib/python3.7/site-packages/seaborn/algorithms.py\u001b[0m in \u001b[0;36mbootstrap\u001b[0;34m(*args, **kwargs)\u001b[0m\n\u001b[1;32m     81\u001b[0m     \u001b[0mboot_dist\u001b[0m \u001b[0;34m=\u001b[0m \u001b[0;34m[\u001b[0m\u001b[0;34m]\u001b[0m\u001b[0;34m\u001b[0m\u001b[0;34m\u001b[0m\u001b[0m\n\u001b[1;32m     82\u001b[0m     \u001b[0;32mfor\u001b[0m \u001b[0mi\u001b[0m \u001b[0;32min\u001b[0m \u001b[0mrange\u001b[0m\u001b[0;34m(\u001b[0m\u001b[0mint\u001b[0m\u001b[0;34m(\u001b[0m\u001b[0mn_boot\u001b[0m\u001b[0;34m)\u001b[0m\u001b[0;34m)\u001b[0m\u001b[0;34m:\u001b[0m\u001b[0;34m\u001b[0m\u001b[0;34m\u001b[0m\u001b[0m\n\u001b[0;32m---> 83\u001b[0;31m         \u001b[0mresampler\u001b[0m \u001b[0;34m=\u001b[0m \u001b[0mintegers\u001b[0m\u001b[0;34m(\u001b[0m\u001b[0;36m0\u001b[0m\u001b[0;34m,\u001b[0m \u001b[0mn\u001b[0m\u001b[0;34m,\u001b[0m \u001b[0mn\u001b[0m\u001b[0;34m,\u001b[0m \u001b[0mdtype\u001b[0m\u001b[0;34m=\u001b[0m\u001b[0mnp\u001b[0m\u001b[0;34m.\u001b[0m\u001b[0mintp\u001b[0m\u001b[0;34m)\u001b[0m  \u001b[0;31m# intp is indexing dtype\u001b[0m\u001b[0;34m\u001b[0m\u001b[0;34m\u001b[0m\u001b[0m\n\u001b[0m\u001b[1;32m     84\u001b[0m         \u001b[0msample\u001b[0m \u001b[0;34m=\u001b[0m \u001b[0;34m[\u001b[0m\u001b[0ma\u001b[0m\u001b[0;34m.\u001b[0m\u001b[0mtake\u001b[0m\u001b[0;34m(\u001b[0m\u001b[0mresampler\u001b[0m\u001b[0;34m,\u001b[0m \u001b[0maxis\u001b[0m\u001b[0;34m=\u001b[0m\u001b[0;36m0\u001b[0m\u001b[0;34m)\u001b[0m \u001b[0;32mfor\u001b[0m \u001b[0ma\u001b[0m \u001b[0;32min\u001b[0m \u001b[0margs\u001b[0m\u001b[0;34m]\u001b[0m\u001b[0;34m\u001b[0m\u001b[0;34m\u001b[0m\u001b[0m\n\u001b[1;32m     85\u001b[0m         \u001b[0mboot_dist\u001b[0m\u001b[0;34m.\u001b[0m\u001b[0mappend\u001b[0m\u001b[0;34m(\u001b[0m\u001b[0mf\u001b[0m\u001b[0;34m(\u001b[0m\u001b[0;34m*\u001b[0m\u001b[0msample\u001b[0m\u001b[0;34m,\u001b[0m \u001b[0;34m**\u001b[0m\u001b[0mfunc_kwargs\u001b[0m\u001b[0;34m)\u001b[0m\u001b[0;34m)\u001b[0m\u001b[0;34m\u001b[0m\u001b[0;34m\u001b[0m\u001b[0m\n",
      "\u001b[0;32m_generator.pyx\u001b[0m in \u001b[0;36mnumpy.random._generator.Generator.integers\u001b[0;34m()\u001b[0m\n",
      "\u001b[0;32m_bounded_integers.pyx\u001b[0m in \u001b[0;36mnumpy.random._bounded_integers._rand_int64\u001b[0;34m()\u001b[0m\n",
      "\u001b[0;32m<__array_function__ internals>\u001b[0m in \u001b[0;36mprod\u001b[0;34m(*args, **kwargs)\u001b[0m\n",
      "\u001b[0;32m/n/fs/policyphylog/PrivacyPolicyPlagiarism/.venv/lib/python3.7/site-packages/numpy/core/fromnumeric.py\u001b[0m in \u001b[0;36mprod\u001b[0;34m(a, axis, dtype, out, keepdims, initial, where)\u001b[0m\n\u001b[1;32m   2998\u001b[0m     \"\"\"\n\u001b[1;32m   2999\u001b[0m     return _wrapreduction(a, np.multiply, 'prod', axis, dtype, out,\n\u001b[0;32m-> 3000\u001b[0;31m                           keepdims=keepdims, initial=initial, where=where)\n\u001b[0m\u001b[1;32m   3001\u001b[0m \u001b[0;34m\u001b[0m\u001b[0m\n\u001b[1;32m   3002\u001b[0m \u001b[0;34m\u001b[0m\u001b[0m\n",
      "\u001b[0;31mKeyboardInterrupt\u001b[0m: "
     ]
    },
    {
     "data": {
      "image/png": "[encoded data removed]",
      "text/plain": [
       "<Figure size 504x288 with 1 Axes>"
      ]
     },
     "metadata": {
      "needs_background": "light"
     },
     "output_type": "display_data"
    }
   ],
   "source": [
    "print(\"Hits vs Gaps:\")\n",
    "correlate_rank(hits,gaps,alexa_only=True,label=\"mid-gaps\")\n",
    "print(\"\\nHits vs Pre-Gaps:\")\n",
    "correlate_rank(hits,pre_gaps,alexa_only=True,label=\"pre-gaps\")\n",
    "print(\"\\nHits vs Post-Gaps:\")\n",
    "correlate_rank(hits,post_gaps,alexa_only=True,label=\"post-gaps\")\n",
    "print(\"\\nHits vs All Gaps:\")\n",
    "df = correlate_rank(hits,gaps+pre_gaps+post_gaps,label=\"all-gaps\",alexa_only=True)\n",
    "\n",
    "plt.ylabel(\"Gap Proportion\")\n",
    "plt.savefig(\"figures/gap_rank_absent.pdf\",bbox_inches='tight')"
   ]
  },
  {
   "cell_type": "markdown",
   "metadata": {},
   "source": [
    "## Scoring gaps with presence in Alexa ranking as the score, not the ranking itself"
   ]
  },
  {
   "cell_type": "code",
   "execution_count": null,
   "metadata": {},
   "outputs": [],
   "source": [
    "print(\"Hits vs Gaps:\")\n",
    "correlate_rank(hits,gaps,ranked=True)\n",
    "print(\"\\nHits vs Pre-Gaps:\")\n",
    "correlate_rank(hits,pre_gaps,ranked=True)\n",
    "print(\"\\nHits vs Post-Gaps:\")\n",
    "correlate_rank(hits,post_gaps,ranked=True)"
   ]
  },
  {
   "cell_type": "markdown",
   "metadata": {},
   "source": [
    "## Missing rank perc"
   ]
  },
  {
   "cell_type": "code",
   "execution_count": 27,
   "metadata": {},
   "outputs": [],
   "source": [
    "def missing_rank_perc(all_ss, missing, default_rank = 1000001, alexa_only=False, ranked=False, log_rank=True, pearson=True,label=None):    \n",
    "    hit_ranks = [(dom,ys) for dom,ys in all_ss if alexa.get_alexa_rank(int(ys[:4]), ys[4], dom, default_rank=default_rank) == default_rank]\n",
    "    missing_ranks = [(dom,ys) for dom,ys in missing if alexa.get_alexa_rank(int(ys[:4]), ys[4], dom, default_rank=default_rank) == default_rank]\n",
    "    \n",
    "    print(len(missing_ranks)/(len(hit_ranks)))"
   ]
  },
  {
   "cell_type": "code",
   "execution_count": 28,
   "metadata": {},
   "outputs": [
    {
     "name": "stdout",
     "output_type": "stream",
     "text": [
      "Hits vs Gaps:\n",
      "0.029981043125327574\n",
      "\n",
      "Hits vs Pre-Gaps:\n",
      "0.7844214539545203\n",
      "\n",
      "Hits vs Post-Gaps:\n",
      "0.1126748049631853\n",
      "\n",
      "Hits vs All Gaps:\n",
      "0.9270773020430332\n"
     ]
    }
   ],
   "source": [
    "all_ss = hits+gaps+pre_gaps+post_gaps\n",
    "\n",
    "print(\"Hits vs Gaps:\")\n",
    "missing_rank_perc(all_ss,gaps,alexa_only=True,label=\"mid-gaps\")\n",
    "print(\"\\nHits vs Pre-Gaps:\")\n",
    "missing_rank_perc(all_ss,pre_gaps,alexa_only=True,label=\"pre-gaps\")\n",
    "print(\"\\nHits vs Post-Gaps:\")\n",
    "missing_rank_perc(all_ss,post_gaps,alexa_only=True,label=\"post-gaps\")\n",
    "print(\"\\nHits vs All Gaps:\")\n",
    "missing_rank_perc(all_ss,gaps+pre_gaps+post_gaps,label=\"all-gaps\",alexa_only=True)"
   ]
  },
  {
   "cell_type": "markdown",
   "metadata": {},
   "source": [
    "## Plotting rank vs gap"
   ]
  },
  {
   "cell_type": "code",
   "execution_count": 29,
   "metadata": {},
   "outputs": [],
   "source": [
    "default_rank=1000001\n",
    "hit_ranks = [alexa.get_alexa_rank(int(ys[:4]), ys[4], dom, default_rank=default_rank) for dom,ys in hits]\n",
    "gap_ranks = [alexa.get_alexa_rank(int(ys[:4]), ys[4], dom, default_rank=default_rank) for dom,ys in gaps]\n",
    "ranks = hit_ranks + gap_ranks\n",
    "gap_bool = [0] * len(hit_ranks) + [1] * len(gap_ranks)\n",
    "\n",
    "ranks_sorted, gap_bool_sorted = zip(*sorted(zip(ranks,gap_bool)))"
   ]
  },
  {
   "cell_type": "code",
   "execution_count": 30,
   "metadata": {},
   "outputs": [
    {
     "data": {
      "text/plain": [
       "[<matplotlib.lines.Line2D at 0x7f05ecb7c8d0>]"
      ]
     },
     "execution_count": 30,
     "metadata": {},
     "output_type": "execute_result"
    },
    {
     "data": {
      "image/png": "[encoded data removed]",
      "text/plain": [
       "<Figure size 504x288 with 1 Axes>"
      ]
     },
     "metadata": {
      "needs_background": "light"
     },
     "output_type": "display_data"
    }
   ],
   "source": [
    "plt.plot(ranks_sorted, gap_bool_sorted, 'o')"
   ]
  },
  {
   "cell_type": "code",
   "execution_count": 31,
   "metadata": {},
   "outputs": [],
   "source": [
    "default_rank = 1000001\n",
    "hit_ranks = [(dom,ys,alexa.get_alexa_rank(int(ys[:4]), ys[4], dom, default_rank=default_rank)) for dom,ys in hits]"
   ]
  },
  {
   "cell_type": "code",
   "execution_count": 32,
   "metadata": {},
   "outputs": [
    {
     "data": {
      "text/plain": [
       "('http://pricescan.com', '2003A', 1000001)"
      ]
     },
     "execution_count": 32,
     "metadata": {},
     "output_type": "execute_result"
    }
   ],
   "source": [
    "hit_ranks_f = list(filter(lambda t: t[2] == default_rank, hit_ranks))\n",
    "hit_ranks_f[random.randrange(len(hit_ranks_f))]"
   ]
  },
  {
   "cell_type": "markdown",
   "metadata": {},
   "source": [
    "# Trying things with year long intervals now!"
   ]
  },
  {
   "cell_type": "code",
   "execution_count": 33,
   "metadata": {},
   "outputs": [],
   "source": [
    "def get_gaps_by_year(all_doms,all_y):\n",
    "    \n",
    "    possible_gaps = 0\n",
    "    actual_gaps = 0\n",
    "    gaps = []\n",
    "    pre_missing = []\n",
    "    post_missing = []\n",
    "    have_gaps = []\n",
    "    dont_have_gaps = []\n",
    "    \n",
    "    gap_cts = []\n",
    "    \n",
    "    for dom in all_doms:\n",
    "        #Missing -> list of domain-intervals missing from dataset\n",
    "        #gap_ct -> Running count of *gaps*\n",
    "        #Hits -> Number of total hits\n",
    "        missing = None\n",
    "        gap_ct = 0\n",
    "        hits = 0\n",
    "        for y in all_y:\n",
    "            if hits_dict_y[dom][y]:\n",
    "                #Not missing\n",
    "                if missing is not None:\n",
    "                    #If we've had a hit before, convert missing values\n",
    "                    #Into gaps\n",
    "                    gaps += missing\n",
    "                    gap_ct += len(missing)\n",
    "                hits += 1 #Count hits\n",
    "                missing = [] #Reset missing\n",
    "            else:\n",
    "                #Missing\n",
    "                if missing is not None:\n",
    "                    #We've seen a hit, so record this as a possible gap\n",
    "                    missing.append((dom,y))\n",
    "                else:\n",
    "                    #We have not seen a hit, record this as missing but not a gap\n",
    "                    pre_missing.append((dom,y))\n",
    "                    \n",
    "        #Record things after the last hit as missing but not a gap\n",
    "        post_missing += missing\n",
    "        \n",
    "        #Record number of observed gaps\n",
    "        actual_gaps += gap_ct\n",
    "        \n",
    "        #First & last true cannot be a gap\n",
    "        possible_gaps += max(0,gap_ct + hits - 2)\n",
    "        \n",
    "        #Record if we saw gaps or not for this domain\n",
    "        if gap_ct > 0:\n",
    "            have_gaps.append(dom)\n",
    "            gap_cts.append(gap_ct)\n",
    "        else:\n",
    "            dont_have_gaps.append(dom)\n",
    "            \n",
    "    d = {\n",
    "        \"actual_gaps\": actual_gaps,\n",
    "        \"possible_gaps\": possible_gaps,\n",
    "        \"gaps\": gaps,\n",
    "        \"pre_missing\": pre_missing,\n",
    "        \"post_missing\": post_missing,\n",
    "        \"have_gaps\": have_gaps,\n",
    "        \"dont_have_gaps\": dont_have_gaps,\n",
    "        \"gap_cts\": gap_cts,\n",
    "    }\n",
    "        \n",
    "    return d"
   ]
  },
  {
   "cell_type": "code",
   "execution_count": 34,
   "metadata": {},
   "outputs": [],
   "source": [
    "def get_alexa_ranks_y(hits):\n",
    "    return [\n",
    "            max(alexa.get_alexa_rank(int(y), \"A\", dom, default_rank=default_rank),\n",
    "                alexa.get_alexa_rank(int(y), \"B\", dom, default_rank=default_rank)\n",
    "               )for dom,ys in hits\n",
    "           ]\n",
    "\n",
    "#Default rank is 1m + 1 -> Assume it comes after all other Alexa items if we can't find it\n",
    "def correlate_rank_y(hits, missing, default_rank = 1000001, alexa_only=False, ranked=False):\n",
    "    hit_ranks = get_alexa_ranks_y(hits)\n",
    "    missing_ranks = get_alexa_ranks_y(missing)\n",
    "\n",
    "    if ranked:\n",
    "        hit_ranks = [1 for rank in hit_ranks if rank != default_rank] + \\\n",
    "                    [0 for rank in hit_ranks if rank == default_rank]\n",
    "        missing_ranks = [1 for rank in missing_ranks if rank != default_rank] + \\\n",
    "                        [0 for rank in missing_ranks if rank == default_rank]\n",
    "    elif alexa_only:\n",
    "        hit_ranks = list(filter(lambda rank: rank != default_rank, hit_ranks))\n",
    "        missing_ranks = list(filter(lambda rank: rank != default_rank, missing_ranks))\n",
    "    else:    \n",
    "        print(\"Hits: missing rank for %0.2f%%, missing: %d, total: %d\" % missing_perc(hit_ranks,default_rank))\n",
    "        print(\"Gaps: missing rank for %0.2f%%, missing: %d, total: %d\" % missing_perc(missing_ranks,default_rank))\n",
    "    \n",
    "    ranks = hit_ranks+missing_ranks\n",
    "    #0 if hit, 1 if gap\n",
    "    bool_vals = [0]*len(hit_ranks) + [1]*len(missing_ranks)\n",
    "    corr = scipy.stats.spearmanr(ranks,bool_vals)\n",
    "    hit_mean = np.mean(hit_ranks)\n",
    "    missing_mean = np.mean(missing_ranks)\n",
    "    hit_median = np.median(hit_ranks)\n",
    "    missing_median = np.median(missing_ranks)\n",
    "    print(\"Corr: %s\\nHit mean rank: %f\\nHit median rank: %f\\nMissing mean rank: %f\\nMissing median rank: %f\" % (corr,hit_mean,hit_median,missing_mean,missing_median))"
   ]
  },
  {
   "cell_type": "code",
   "execution_count": 35,
   "metadata": {},
   "outputs": [],
   "source": [
    "#Get all of the years, not intervals!\n",
    "all_y = []\n",
    "for ys in all_ys:\n",
    "    y = ys[:4]\n",
    "    #We could do this with sets not lists but... meh\n",
    "    if y in all_y:\n",
    "        continue\n",
    "    all_y.append(y)"
   ]
  },
  {
   "cell_type": "code",
   "execution_count": 36,
   "metadata": {},
   "outputs": [],
   "source": [
    "#We need to consolidate hits to once per year to not overrepresent hits\n",
    "hits_y = set(itertools.starmap(lambda dom,ys: (dom,ys[:4]), hits))\n",
    "\n",
    "hits_dict_y = {dom:{y:((dom,y) in hits_y) for y in all_y} for dom in all_doms}\n",
    "    \n",
    "hits_y = list(hits_y)"
   ]
  },
  {
   "cell_type": "code",
   "execution_count": 37,
   "metadata": {
    "scrolled": true
   },
   "outputs": [
    {
     "name": "stdout",
     "output_type": "stream",
     "text": [
      "Gaps perc: 20.427963,actual=94139,possible=460834\n",
      "Domins w/ gaps perc: 29.464788\n",
      "Of domains that have gaps, averge num gaps: 2.944696424661391, median gaps: 2.0\n"
     ]
    }
   ],
   "source": [
    "d_y=get_gaps_by_year(all_doms,all_y)\n",
    "\n",
    "actual_y = d_y[\"actual_gaps\"]\n",
    "possible_y = d_y[\"possible_gaps\"]\n",
    "gaps_y = d_y[\"gaps\"]\n",
    "pre_gaps_y = d_y[\"pre_missing\"]\n",
    "post_gaps_y = d_y[\"post_missing\"]\n",
    "have_gaps_y = d_y[\"have_gaps\"]\n",
    "dont_have_gaps_y = d_y[\"dont_have_gaps\"]\n",
    "gap_cts_y = d_y[\"gap_cts\"]\n",
    "\n",
    "print(\"Gaps perc: %f,actual=%s,possible=%s\" % (actual_y/possible_y*100,actual_y,possible_y))\n",
    "print(\"Domins w/ gaps perc: %f\" % (len(have_gaps_y) / (len(have_gaps_y) + len(dont_have_gaps_y)) * 100))\n",
    "\n",
    "print(\"Of domains that have gaps, averge num gaps: %s, median gaps: %s\" % (np.mean(gap_cts_y),np.median(gap_cts_y)))"
   ]
  },
  {
   "cell_type": "markdown",
   "metadata": {},
   "source": [
    "## Scoring gaps for Alexa ranking"
   ]
  },
  {
   "cell_type": "code",
   "execution_count": 38,
   "metadata": {
    "scrolled": true
   },
   "outputs": [
    {
     "name": "stdout",
     "output_type": "stream",
     "text": [
      "Hits vs Gaps:\n",
      "Hits: missing rank for 58.35%, missing: 328693, total: 563304\n",
      "Gaps: missing rank for 51.32%, missing: 48312, total: 94139\n",
      "Corr: SpearmanrResult(correlation=-0.05373938371285297, pvalue=0.0)\n",
      "Hit mean rank: 661223.839891\n",
      "Hit median rank: 1000001.000000\n",
      "Missing mean rank: 597285.990344\n",
      "Missing median rank: 1000001.000000\n",
      "\n",
      "Hits vs Pre-Gaps:\n",
      "Hits: missing rank for 58.35%, missing: 328693, total: 563304\n",
      "Gaps: missing rank for 64.37%, missing: 987957, total: 1534770\n",
      "Corr: SpearmanrResult(correlation=0.059411019654638623, pvalue=0.0)\n",
      "Hit mean rank: 661223.839891\n",
      "Hit median rank: 1000001.000000\n",
      "Missing mean rank: 713987.591834\n",
      "Missing median rank: 1000001.000000\n",
      "\n",
      "Hits vs Post-Gaps:\n",
      "Hits: missing rank for 58.35%, missing: 328693, total: 563304\n",
      "Gaps: missing rank for 82.01%, missing: 248695, total: 303264\n",
      "Corr: SpearmanrResult(correlation=0.23773912925651372, pvalue=0.0)\n",
      "Hit mean rank: 661223.839891\n",
      "Hit median rank: 1000001.000000\n",
      "Missing mean rank: 858636.068937\n",
      "Missing median rank: 1000001.000000\n"
     ]
    }
   ],
   "source": [
    "print(\"Hits vs Gaps:\")\n",
    "correlate_rank_y(hits_y,gaps_y)\n",
    "print(\"\\nHits vs Pre-Gaps:\")\n",
    "correlate_rank_y(hits_y,pre_gaps_y)\n",
    "print(\"\\nHits vs Post-Gaps:\")\n",
    "correlate_rank_y(hits_y,post_gaps_y)\n"
   ]
  },
  {
   "cell_type": "markdown",
   "metadata": {},
   "source": [
    "## Scoring gaps with Alexa ranking, keeping only those domain-intervals in the top 1m"
   ]
  },
  {
   "cell_type": "code",
   "execution_count": 39,
   "metadata": {
    "scrolled": true
   },
   "outputs": [
    {
     "name": "stdout",
     "output_type": "stream",
     "text": [
      "Hits vs Gaps:\n",
      "Corr: SpearmanrResult(correlation=-0.02994913320142535, pvalue=1.1344976523571081e-56)\n",
      "Hit mean rank: 186592.722477\n",
      "Hit median rank: 128043.000000\n",
      "Missing mean rank: 172733.487529\n",
      "Missing median rank: 114829.000000\n",
      "\n",
      "Hits vs Pre-Gaps:\n",
      "Corr: SpearmanrResult(correlation=0.037179743358436275, pvalue=4.6045183388778165e-237)\n",
      "Hit mean rank: 186592.722477\n",
      "Hit median rank: 128043.000000\n",
      "Missing mean rank: 197231.500279\n",
      "Missing median rank: 138061.000000\n",
      "\n",
      "Hits vs Post-Gaps:\n",
      "Corr: SpearmanrResult(correlation=0.04470586523491346, pvalue=7.821010159383358e-128)\n",
      "Hit mean rank: 186592.722477\n",
      "Hit median rank: 128043.000000\n",
      "Missing mean rank: 214373.730781\n",
      "Missing median rank: 146743.000000\n"
     ]
    }
   ],
   "source": [
    "print(\"Hits vs Gaps:\")\n",
    "correlate_rank_y(hits_y,gaps_y,alexa_only=True)\n",
    "print(\"\\nHits vs Pre-Gaps:\")\n",
    "correlate_rank_y(hits_y,pre_gaps_y,alexa_only=True)\n",
    "print(\"\\nHits vs Post-Gaps:\")\n",
    "correlate_rank_y(hits_y,post_gaps_y,alexa_only=True)"
   ]
  },
  {
   "cell_type": "markdown",
   "metadata": {},
   "source": [
    "## Scoring gaps with presence in Alexa ranking as the score, not the ranking itself"
   ]
  },
  {
   "cell_type": "code",
   "execution_count": 40,
   "metadata": {},
   "outputs": [
    {
     "name": "stdout",
     "output_type": "stream",
     "text": [
      "Hits vs Gaps:\n",
      "Corr: SpearmanrResult(correlation=0.0497948576818668, pvalue=0.0)\n",
      "Hit mean rank: 0.416491\n",
      "Hit median rank: 0.000000\n",
      "Missing mean rank: 0.486801\n",
      "Missing median rank: 0.000000\n",
      "\n",
      "Hits vs Pre-Gaps:\n",
      "Corr: SpearmanrResult(correlation=-0.055190660803549826, pvalue=0.0)\n",
      "Hit mean rank: 0.416491\n",
      "Hit median rank: 0.000000\n",
      "Missing mean rank: 0.356283\n",
      "Missing median rank: 0.000000\n",
      "\n",
      "Hits vs Post-Gaps:\n",
      "Corr: SpearmanrResult(correlation=-0.23927120874413174, pvalue=0.0)\n",
      "Hit mean rank: 0.416491\n",
      "Hit median rank: 0.000000\n",
      "Missing mean rank: 0.179939\n",
      "Missing median rank: 0.000000\n"
     ]
    }
   ],
   "source": [
    "print(\"Hits vs Gaps:\")\n",
    "correlate_rank_y(hits_y,gaps_y,ranked=True)\n",
    "print(\"\\nHits vs Pre-Gaps:\")\n",
    "correlate_rank_y(hits_y,pre_gaps_y,ranked=True)\n",
    "print(\"\\nHits vs Post-Gaps:\")\n",
    "correlate_rank_y(hits_y,post_gaps_y,ranked=True)"
   ]
  },
  {
   "cell_type": "markdown",
   "metadata": {},
   "source": [
    "# Missing vs Not missing domains"
   ]
  },
  {
   "cell_type": "code",
   "execution_count": 41,
   "metadata": {},
   "outputs": [
    {
     "data": {
      "text/plain": [
       "541616"
      ]
     },
     "execution_count": 41,
     "metadata": {},
     "output_type": "execute_result"
    }
   ],
   "source": [
    "possible_doms = set()\n",
    "#Iter years\n",
    "for season_dict in alexa.alexa_rankings.values():\n",
    "    #iter seasons\n",
    "    for dom_dict in season_dict.values():\n",
    "        #iter domains\n",
    "        for dom, ranking in dom_dict.items():\n",
    "            if ranking <= 100000:\n",
    "                possible_doms.add(\"http://%s\" % dom)\n",
    "len(possible_doms)"
   ]
  },
  {
   "cell_type": "code",
   "execution_count": 42,
   "metadata": {},
   "outputs": [
    {
     "name": "stdout",
     "output_type": "stream",
     "text": [
      "0\n",
      "\n"
     ]
    }
   ],
   "source": [
    "extra_doms = set(all_doms) - possible_doms\n",
    "print(len(extra_doms))\n",
    "print(\"\\n\".join(extra_doms))"
   ]
  },
  {
   "cell_type": "code",
   "execution_count": 43,
   "metadata": {},
   "outputs": [
    {
     "data": {
      "text/plain": [
       "(433117, 0.7996754157927388)"
      ]
     },
     "execution_count": 43,
     "metadata": {},
     "output_type": "execute_result"
    }
   ],
   "source": [
    "missing_doms = possible_doms - set(all_doms)\n",
    "len(missing_doms),len(missing_doms)/len(possible_doms)"
   ]
  },
  {
   "cell_type": "code",
   "execution_count": 44,
   "metadata": {},
   "outputs": [
    {
     "name": "stdout",
     "output_type": "stream",
     "text": [
      "79.96754157927388\n"
     ]
    }
   ],
   "source": [
    "print(len(missing_doms) / len(possible_doms) * 100)"
   ]
  },
  {
   "cell_type": "code",
   "execution_count": 45,
   "metadata": {},
   "outputs": [],
   "source": [
    "#We want to correlate the best ranking\n",
    "def correlate_domain_ranks(hits, missing, default_rank = 1000001, alexa_only=False, ranked=False):\n",
    "    hit_ranks = [\n",
    "        (min(alexa.get_alexa_rank(int(ys[:4]), ys[4], dom, default_rank=default_rank)\n",
    "        for ys in all_alexa_ys)) for dom in hits\n",
    "    ]\n",
    "    missing_ranks = [\n",
    "        (min(alexa.get_alexa_rank(int(ys[:4]), ys[4], dom, default_rank=default_rank)\n",
    "        for ys in all_alexa_ys)) for dom in missing\n",
    "    ]\n",
    "    if ranked:\n",
    "        hit_ranks = [1 for rank in hit_ranks if rank != default_rank] + \\\n",
    "                    [0 for rank in hit_ranks if rank == default_rank]\n",
    "        missing_ranks = [1 for rank in missing_ranks if rank != default_rank] + \\\n",
    "                        [0 for rank in missing_ranks if rank == default_rank]\n",
    "    elif alexa_only:\n",
    "        hit_ranks = list(filter(lambda rank: rank != default_rank, hit_ranks))\n",
    "        missing_ranks = list(filter(lambda rank: rank != default_rank, missing_ranks))\n",
    "    else:    \n",
    "        print(\"Hits: missing rank for %0.2f%%, missing: %d, total: %d\" % missing_perc(hit_ranks,default_rank))\n",
    "        print(\"Gaps: missing rank for %0.2f%%, missing: %d, total: %d\" % missing_perc(missing_ranks,default_rank))\n",
    "    \n",
    "    ranks = hit_ranks+missing_ranks\n",
    "    #0 if hit, 1 if gap\n",
    "    bool_vals = [0]*len(hit_ranks) + [1]*len(missing_ranks)\n",
    "    corr = scipy.stats.spearmanr(ranks,bool_vals)\n",
    "    hit_mean = np.mean(hit_ranks)\n",
    "    missing_mean = np.mean(missing_ranks)\n",
    "    hit_median = np.median(hit_ranks)\n",
    "    missing_median = np.median(missing_ranks)\n",
    "    print(\"Corr: %s\\nHit mean rank: %f\\nHit median rank: %f\\nMissing mean rank: %f\\nMissing median rank: %f\" % (corr,hit_mean,hit_median,missing_mean,missing_median))"
   ]
  },
  {
   "cell_type": "code",
   "execution_count": 46,
   "metadata": {},
   "outputs": [
    {
     "name": "stdout",
     "output_type": "stream",
     "text": [
      "Hits: missing rank for 0.00%, missing: 0, total: 108499\n",
      "Gaps: missing rank for 0.00%, missing: 0, total: 433117\n",
      "Corr: SpearmanrResult(correlation=0.06971460797701604, pvalue=0.0)\n",
      "Hit mean rank: 48613.526945\n",
      "Hit median rank: 48013.000000\n",
      "Missing mean rank: 53660.307956\n",
      "Missing median rank: 54902.000000\n"
     ]
    }
   ],
   "source": [
    "correlate_domain_ranks(all_doms,missing_doms)"
   ]
  },
  {
   "cell_type": "code",
   "execution_count": 47,
   "metadata": {},
   "outputs": [
    {
     "name": "stdout",
     "output_type": "stream",
     "text": [
      "Hits: missing rank for 0.00%, missing: 0, total: 108499\n",
      "Gaps: missing rank for 0.00%, missing: 0, total: 433117\n",
      "Corr: SpearmanrResult(correlation=0.06971460797701604, pvalue=0.0)\n",
      "Hit mean rank: 48613.526945\n",
      "Hit median rank: 48013.000000\n",
      "Missing mean rank: 53660.307956\n",
      "Missing median rank: 54902.000000\n"
     ]
    }
   ],
   "source": [
    "correlate_domain_ranks(all_doms,missing_doms)"
   ]
  },
  {
   "cell_type": "code",
   "execution_count": 48,
   "metadata": {},
   "outputs": [],
   "source": [
    "def cumulative_function(ranks):\n",
    "    xs = [0]\n",
    "    ys = [0]\n",
    "    for r in ranks:\n",
    "        if r != xs[-1]:\n",
    "            xs.append(r)\n",
    "            ys.append(ys[-1]+1)\n",
    "        else:\n",
    "            ys[-1] += 1\n",
    "    return xs, list(map(lambda y: y / len(ranks), ys))"
   ]
  },
  {
   "cell_type": "code",
   "execution_count": 49,
   "metadata": {},
   "outputs": [],
   "source": [
    "present_ranks = sorted([\n",
    "    (min(alexa.get_alexa_rank(int(ys[:4]), ys[4], dom, default_rank=default_rank)\n",
    "    for ys in all_alexa_ys)) for dom in all_doms\n",
    "])\n",
    "missing_ranks = sorted([\n",
    "    (min(alexa.get_alexa_rank(int(ys[:4]), ys[4], dom, default_rank=default_rank)\n",
    "    for ys in all_alexa_ys)) for dom in missing_doms\n",
    "])\n"
   ]
  },
  {
   "cell_type": "code",
   "execution_count": 50,
   "metadata": {},
   "outputs": [],
   "source": [
    "present_coords = cumulative_function(present_ranks)\n",
    "missing_coords = cumulative_function(missing_ranks)"
   ]
  },
  {
   "cell_type": "code",
   "execution_count": 51,
   "metadata": {},
   "outputs": [
    {
     "name": "stdout",
     "output_type": "stream",
     "text": [
      "100000 1.0 108499 108499\n",
      "100000 1.0 433117 433117\n"
     ]
    }
   ],
   "source": [
    "print(present_coords[0][-1],present_coords[1][-1],len(all_doms),len(present_ranks))\n",
    "print(missing_coords[0][-1],missing_coords[1][-1],len(missing_doms),len(missing_ranks))"
   ]
  },
  {
   "cell_type": "code",
   "execution_count": 52,
   "metadata": {},
   "outputs": [
    {
     "data": {
      "image/png": "[encoded data removed]",
      "text/plain": [
       "<Figure size 432x288 with 1 Axes>"
      ]
     },
     "metadata": {
      "needs_background": "light"
     },
     "output_type": "display_data"
    }
   ],
   "source": [
    "%matplotlib inline\n",
    "import matplotlib.pyplot as plt\n",
    "\n",
    "fig,ax = plt.subplots()\n",
    "\n",
    "plt.scatter(*present_coords,label=\"Present\")\n",
    "plt.scatter(*missing_coords,label=\"Missing\")\n",
    "plt.legend()\n",
    "\n",
    "plt.xscale(\"log\")\n",
    "plt.xlim(1,100000)\n",
    "\n",
    "plt.xlabel(\"Rank\")\n",
    "\n",
    "plt.ylabel(\"Coverage percentage\")\n",
    "\n",
    "\n",
    "#Also plot with real domain union\n",
    "\n",
    "pass"
   ]
  },
  {
   "cell_type": "markdown",
   "metadata": {},
   "source": [
    "# Head/Tail dip hypothesis testing\n",
    "We believe that the bell-curve-like shape of the privacy policies we collect may be due to an overrepresentation of the middle domains.\n",
    "\n",
    "Here we test hypothesis under the assumption that domains are archived if they're in the top 1m"
   ]
  },
  {
   "cell_type": "code",
   "execution_count": 53,
   "metadata": {},
   "outputs": [],
   "source": [
    "def count_for_ys(ys):\n",
    "    default_rank = 1000001\n",
    "    vals_in_alexa = (1 for dom in possible_doms\n",
    "                     if alexa.get_alexa_rank(int(ys[:4]), ys[4], dom, default_rank=default_rank) != default_rank)\n",
    "    return sum(vals_in_alexa, 0)"
   ]
  },
  {
   "cell_type": "code",
   "execution_count": 54,
   "metadata": {},
   "outputs": [
    {
     "name": "stdout",
     "output_type": "stream",
     "text": [
      "171896,186436,198825,210855,219863,224750,230284,234919,241248,238985,239138,239034,241120,243953,244353,248068,246926,246023,208763,207441,203155,162288\n"
     ]
    }
   ],
   "source": [
    "counts = list(map(count_for_ys, all_alexa_ys))\n",
    "print(\",\".join((\"%d\" % c for c in counts)))"
   ]
  },
  {
   "cell_type": "code",
   "execution_count": 60,
   "metadata": {},
   "outputs": [],
   "source": [
    "actual_counts = list(df[df.Interval>=\"2009A\"].groupby([\"Interval\"]).size())"
   ]
  },
  {
   "cell_type": "code",
   "execution_count": 61,
   "metadata": {},
   "outputs": [
    {
     "data": {
      "image/png": "[encoded data removed]",
      "text/plain": [
       "<Figure size 504x360 with 1 Axes>"
      ]
     },
     "metadata": {
      "needs_background": "light"
     },
     "output_type": "display_data"
    }
   ],
   "source": [
    "%matplotlib inline\n",
    "import matplotlib.pyplot as plt\n",
    "\n",
    "plt.rcParams[\"figure.figsize\"] = (7, 5) # (w, h)\n",
    "\n",
    "fig,ax = plt.subplots()\n",
    "plt.plot(list(range(len(counts))), counts,label=\"Top 1M\")\n",
    "plt.plot(list(range(len(actual_counts))), actual_counts, label=\"Policies\")\n",
    "ax.set_xticks(list(range(len(counts))))\n",
    "ax.set_xticklabels(all_alexa_ys,rotation=70)\n",
    "\n",
    "plt.legend()\n",
    "\n",
    "#Also plot with real domain union\n",
    "\n",
    "pass"
   ]
  },
  {
   "cell_type": "markdown",
   "metadata": {},
   "source": [
    "## Alexa rank for adjacent ranks\n",
    "We want to see how stable the Alexa top 1M is over time. Compare each interval to it's neighbor\n",
    "\n",
    "See page 6 of [this paper](https://arxiv.org/pdf/1805.11506.pdf) for more evidence that Alexa rankings have changed significantly in early 2018"
   ]
  },
  {
   "cell_type": "code",
   "execution_count": 62,
   "metadata": {},
   "outputs": [],
   "source": [
    "def get_alexa_set(ys):\n",
    "    y = int(ys[:4])\n",
    "    s = ys[4]\n",
    "    return set(alexa.alexa_rankings[y][s].keys())\n",
    "\n",
    "x = []\n",
    "y = []\n",
    "for i in range(len(all_alexa_ys) - 1):\n",
    "    #We get neighboring intervals\n",
    "    ys1 = all_alexa_ys[i]\n",
    "    ys2 = all_alexa_ys[i+1]\n",
    "    \n",
    "    #We find how many domains they have in common\n",
    "    x.append(len(get_alexa_set(ys1) & get_alexa_set(ys2)))\n",
    "    \n",
    "    #And make aname\n",
    "    y.append(\"%s & %s\" % (ys1,ys2))"
   ]
  },
  {
   "cell_type": "code",
   "execution_count": 63,
   "metadata": {},
   "outputs": [
    {
     "data": {
      "image/png": "[encoded data removed]",
      "text/plain": [
       "<Figure size 864x648 with 1 Axes>"
      ]
     },
     "metadata": {
      "needs_background": "light"
     },
     "output_type": "display_data"
    }
   ],
   "source": [
    "%matplotlib inline\n",
    "import matplotlib.pyplot as plt\n",
    "\n",
    "plt.rcParams[\"figure.figsize\"] = (12, 9) # (w, h)\n",
    "\n",
    "fig,ax = plt.subplots()\n",
    "plt.plot(list(range(len(y))), x, 'o')\n",
    "ax.set_xticks(list(range(len(y))))\n",
    "ax.set_xticklabels(y,rotation=70)\n",
    "\n",
    "#Also plot with real domain union\n",
    "\n",
    "pass"
   ]
  },
  {
   "cell_type": "code",
   "execution_count": 64,
   "metadata": {},
   "outputs": [],
   "source": [
    "#TODO increase interval size and see how that changes normal gap size\n",
    "\n",
    "#See if Alexa's methodology changed singificantly\n",
    "#Intersection b/w 2010A, 2010B etc. for both Alexa top 100k & top 1M\n",
    "#Documentation or Google for Alexa changes\n",
    "#Maybe hone in on more short-term ranks"
   ]
  },
  {
   "cell_type": "markdown",
   "metadata": {},
   "source": [
    "# Gaps by category"
   ]
  },
  {
   "cell_type": "code",
   "execution_count": 65,
   "metadata": {},
   "outputs": [],
   "source": [
    "import json\n",
    "\n",
    "with open (\"../data/webshrinker/domains_to_categories.json\") as f:\n",
    "    category_map = json.loads(f.read())"
   ]
  },
  {
   "cell_type": "code",
   "execution_count": 66,
   "metadata": {},
   "outputs": [],
   "source": [
    "cats = list(category_map.keys())"
   ]
  },
  {
   "cell_type": "code",
   "execution_count": 67,
   "metadata": {},
   "outputs": [
    {
     "name": "stdout",
     "output_type": "stream",
     "text": [
      "172063 261054\n",
      "108489 10\n"
     ]
    }
   ],
   "source": [
    "strip_re = re.compile(\"(?:https?://)?([^/]*).*?\")\n",
    "def strip_dom(dom):\n",
    "    try:\n",
    "        return strip_re.match(dom).group(1)\n",
    "    except:\n",
    "        print(dom)\n",
    "        raise\n",
    "\n",
    "#Not all domains have categories. Extract the ones that do\n",
    "categorized_missing_doms = [strip_dom(dom) for dom in missing_doms if strip_dom(dom) in category_map]\n",
    "categorized_hit_doms = [strip_dom(dom) for dom in all_doms if strip_dom(dom) in category_map]\n",
    "\n",
    "print(len(categorized_missing_doms),len(missing_doms)-len(categorized_missing_doms))\n",
    "print(len(categorized_hit_doms),len(all_doms)-len(categorized_hit_doms))"
   ]
  },
  {
   "cell_type": "code",
   "execution_count": 68,
   "metadata": {},
   "outputs": [],
   "source": [
    "categorized_all_doms = categorized_missing_doms + categorized_hit_doms"
   ]
  },
  {
   "cell_type": "code",
   "execution_count": 69,
   "metadata": {},
   "outputs": [
    {
     "data": {
      "text/plain": [
       "{'abortion',\n",
       " 'adult',\n",
       " 'advertising',\n",
       " 'alcoholandtobacco',\n",
       " 'blogsandpersonal',\n",
       " 'business',\n",
       " 'chatandmessaging',\n",
       " 'contentserver',\n",
       " 'deceptive',\n",
       " 'drugs',\n",
       " 'economyandfinance',\n",
       " 'education',\n",
       " 'entertainment',\n",
       " 'foodandrecipes',\n",
       " 'gambling',\n",
       " 'games',\n",
       " 'hacking',\n",
       " 'health',\n",
       " 'humor',\n",
       " 'illegalcontent',\n",
       " 'informationtech',\n",
       " 'jobrelated',\n",
       " 'malicious',\n",
       " 'mediasharing',\n",
       " 'messageboardsandforums',\n",
       " 'newsandmedia',\n",
       " 'parked',\n",
       " 'personals',\n",
       " 'proxyandfilteravoidance',\n",
       " 'realestate',\n",
       " 'religion',\n",
       " 'searchenginesandportals',\n",
       " 'shopping',\n",
       " 'socialnetworking',\n",
       " 'sports',\n",
       " 'streamingmedia',\n",
       " 'translators',\n",
       " 'travel',\n",
       " 'uncategorized',\n",
       " 'vehicles',\n",
       " 'virtualreality',\n",
       " 'weapons'}"
      ]
     },
     "execution_count": 69,
     "metadata": {},
     "output_type": "execute_result"
    }
   ],
   "source": [
    "categories = set()\n",
    "for cat_list in category_map.values():\n",
    "    for cat in cat_list:\n",
    "        categories.add(cat)\n",
    "categories"
   ]
  },
  {
   "cell_type": "code",
   "execution_count": null,
   "metadata": {},
   "outputs": [],
   "source": []
  },
  {
   "cell_type": "code",
   "execution_count": 70,
   "metadata": {},
   "outputs": [],
   "source": [
    "def plot_category_comparison(ds1,ds2,ds1name,ds2name):\n",
    "    \n",
    "    ds1 = [strip_dom(dom) for dom in ds1 if strip_dom(dom) in category_map]\n",
    "    ds2 = [strip_dom(dom) for dom in ds2 if strip_dom(dom) in category_map]\n",
    "    \n",
    "    cat_to_count_ds1 = {cat:0 for cat in categories}\n",
    "    cat_to_count_ds2 = {cat:0 for cat in categories}\n",
    "\n",
    "    for dom in ds1:\n",
    "        for cat in category_map[dom]:\n",
    "            cat_to_count_ds1[cat] += 1\n",
    "\n",
    "    for dom in ds2:\n",
    "        for cat in category_map[dom]:\n",
    "            cat_to_count_ds2[cat] += 1\n",
    "    \n",
    "    \n",
    "    #plotting\n",
    "    labels = list(categories)\n",
    "    x = np.arange(len(labels))\n",
    "    width=0.35\n",
    "    \n",
    "    \n",
    "    fig, ax = plt.subplots()\n",
    "\n",
    "    cat_ds1_sum = sum(cat_to_count_ds1.values(),0)\n",
    "    cat_ds2_sum = sum(cat_to_count_ds2.values(),0)\n",
    "\n",
    "    ax.bar(x-width/2, [cat_to_count_ds1[l]/cat_ds1_sum for l in labels], label=ds1name,width=width)\n",
    "    ax.bar(x+width/2, [cat_to_count_ds2[l]/cat_ds2_sum for l in labels], label=ds2name,width=width)\n",
    "\n",
    "    plt.xticks(x,labels,rotation=\"vertical\")\n",
    "    plt.title(\"Number of domains matching each category\")\n",
    "    plt.legend()\n",
    "\n",
    "\n",
    "    plt.show()\n",
    "    \n",
    "    return sorted([((cat_to_count_ds1[l]/cat_ds1_sum) / (cat_to_count_ds2[l]/cat_ds2_sum), l) for l in labels])"
   ]
  },
  {
   "cell_type": "code",
   "execution_count": 71,
   "metadata": {},
   "outputs": [
    {
     "data": {
      "text/plain": [
       "['business',\n",
       " 'education',\n",
       " 'informationtech',\n",
       " 'entertainment',\n",
       " 'shopping',\n",
       " 'uncategorized',\n",
       " 'parked',\n",
       " 'adult',\n",
       " 'newsandmedia',\n",
       " 'games']"
      ]
     },
     "execution_count": 71,
     "metadata": {},
     "output_type": "execute_result"
    }
   ],
   "source": [
    "def get_top_cats(ds,topX=10):\n",
    "    cat_to_count = {cat:0 for cat in categories}\n",
    "    for dom in ds:\n",
    "        for cat in category_map[dom]:\n",
    "            cat_to_count[cat] += 1\n",
    "    pairs = [(count,cat) for cat,count in cat_to_count.items()]\n",
    "    pairs = sorted(pairs,reverse=True)\n",
    "    return [cat for count,cat in pairs[:topX]]\n",
    "\n",
    "get_top_cats(categorized_hit_doms)"
   ]
  },
  {
   "cell_type": "code",
   "execution_count": 87,
   "metadata": {},
   "outputs": [],
   "source": [
    "def plot_category_dist(ds1,ds2,top_cats):\n",
    "    \n",
    "    plt.figure(figsize=(7,3))\n",
    "    \n",
    "    ds1 = [strip_dom(dom) for dom in ds1 if strip_dom(dom) in category_map]\n",
    "    ds2 = [strip_dom(dom) for dom in ds2 if strip_dom(dom) in category_map]\n",
    "    \n",
    "    \n",
    "    \n",
    "    cat_to_count_ds1 = {cat:0 for cat in top_cats}\n",
    "    cat_to_count_ds1[\"other\"] = 0\n",
    "    cat_to_count_ds1 = {cat:0 for cat in top_cats}\n",
    "    cat_to_count_ds2 = {cat:0 for cat in top_cats}\n",
    "    cat_to_count_ds1[\"other\"] = 0\n",
    "    cat_to_count_ds2[\"other\"] = 0\n",
    "\n",
    "    for dom in ds1:\n",
    "        if dom in category_map:\n",
    "            cats = category_map[dom]\n",
    "        else:\n",
    "            cats = [\"uncategorized\"]\n",
    "        for cat in cats:\n",
    "            if cat not in top_cats:\n",
    "                cat = \"other\"\n",
    "            cat_to_count_ds1[cat] += 1\n",
    "\n",
    "\n",
    "    for dom in ds2:\n",
    "        if dom in category_map and len(category_map[dom]) != 0:\n",
    "            cats = category_map[dom]\n",
    "        else:\n",
    "            cats = [\"uncategorized\"]\n",
    "        for cat in cats:\n",
    "            if cat not in top_cats:\n",
    "                cat = \"other\"\n",
    "            cat_to_count_ds2[cat] += 1\n",
    "    \n",
    "    \n",
    "    #plotting\n",
    "    labels = list(top_cats) + [\"other\"]\n",
    "    x = np.arange(len(labels))\n",
    "    width=0.35\n",
    "    \n",
    "    \n",
    "    order = list(zip(*sorted([(cat_to_count_ds1[l],l) for l in labels], reverse=True)))[1]\n",
    "    \n",
    "    chart = sns.barplot(labels,[cat_to_count_ds1[l]+cat_to_count_ds2[l] for l in labels],color=\"coral\",order=order,label=\"Absent Websites\")\n",
    "    chart = sns.barplot(labels,[cat_to_count_ds1[l] for l in labels],color=\"steelblue\",order=order,label=\"Present Websites\")\n",
    "    chart.set_xticklabels(chart.get_xticklabels(),rotation=45,ha=\"right\")\n",
    "    chart.set(ylabel=\"Number of domains\",title=\"Number of domains with policies in each category\")\n",
    "    \n",
    "    locs, labels = plt.xticks()            # Get locations and labels\n",
    "    plt.xticks(np.array(locs) + 0.25, labels)  # Set locations and labels\n",
    "    \n",
    "    plt.legend()\n",
    "    \n",
    "    plt.savefig(\"figures/category_dist.pdf\",bbox_inches='tight')\n",
    "    \n",
    "    #plt.ylim(0,1)\n",
    "    \n",
    "#     fig, ax = plt.subplots()\n",
    "\n",
    "#     ax.bar(labels, [cat_to_count_ds1[l] for l in labels],color=\"steelblue\")\n",
    "\n",
    "#     plt.xticks(x,labels,rotation=90)\n",
    "#     plt.title(\"Number of domains matching each category\")\n",
    "\n",
    "#     plt.show()\n",
    "    \n",
    "    #return sorted([((cat_to_count_ds1[l]/cat_ds1_sum) / (cat_to_count_ds2[l]/cat_ds2_sum), l) for l in labels])"
   ]
  },
  {
   "cell_type": "code",
   "execution_count": 88,
   "metadata": {},
   "outputs": [
    {
     "name": "stderr",
     "output_type": "stream",
     "text": [
      "/n/fs/policyphylog/PrivacyPolicyPlagiarism/.venv/lib/python3.7/site-packages/seaborn/_decorators.py:43: FutureWarning: Pass the following variables as keyword args: x, y. From version 0.12, the only valid positional argument will be `data`, and passing other arguments without an explicit keyword will result in an error or misinterpretation.\n",
      "  FutureWarning\n",
      "/n/fs/policyphylog/PrivacyPolicyPlagiarism/.venv/lib/python3.7/site-packages/seaborn/_decorators.py:43: FutureWarning: Pass the following variables as keyword args: x, y. From version 0.12, the only valid positional argument will be `data`, and passing other arguments without an explicit keyword will result in an error or misinterpretation.\n",
      "  FutureWarning\n"
     ]
    },
    {
     "data": {
      "image/png": "[encoded data removed]",
      "text/plain": [
       "<Figure size 504x216 with 1 Axes>"
      ]
     },
     "metadata": {
      "needs_background": "light"
     },
     "output_type": "display_data"
    }
   ],
   "source": [
    "plot_category_dist(all_doms,categorized_all_doms,set(get_top_cats(categorized_all_doms,topX=15)))"
   ]
  },
  {
   "cell_type": "code",
   "execution_count": 89,
   "metadata": {
    "scrolled": true
   },
   "outputs": [
    {
     "data": {
      "image/png": "[encoded data removed]",
      "text/plain": [
       "<Figure size 864x648 with 1 Axes>"
      ]
     },
     "metadata": {
      "needs_background": "light"
     },
     "output_type": "display_data"
    },
    {
     "data": {
      "text/plain": [
       "[(0.0, 'abortion'),\n",
       " (0.14888674657145937, 'illegalcontent'),\n",
       " (0.27110966963673944, 'contentserver'),\n",
       " (0.31886194099321064, 'hacking'),\n",
       " (0.34446362678814524, 'uncategorized'),\n",
       " (0.3530577338157973, 'parked'),\n",
       " (0.36451299626237416, 'adult'),\n",
       " (0.4058242885368135, 'translators'),\n",
       " (0.4181795947451942, 'deceptive'),\n",
       " (0.4405160951874074, 'searchenginesandportals'),\n",
       " (0.510179105589137, 'malicious'),\n",
       " (0.5437282984736834, 'blogsandpersonal'),\n",
       " (0.6152490315199395, 'messageboardsandforums'),\n",
       " (0.6377238819864212, 'humor'),\n",
       " (0.6432512829137141, 'streamingmedia'),\n",
       " (0.6688323640345393, 'mediasharing'),\n",
       " (0.8069159323093493, 'proxyandfilteravoidance'),\n",
       " (0.8365474721343518, 'entertainment'),\n",
       " (0.9110341171234589, 'virtualreality'),\n",
       " (1.025672576861494, 'religion'),\n",
       " (1.0569063818018674, 'informationtech'),\n",
       " (1.0628731366440354, 'advertising'),\n",
       " (1.074648407545631, 'gambling'),\n",
       " (1.1566840393068687, 'education'),\n",
       " (1.2512686594425515, 'sports'),\n",
       " (1.371187481624748, 'games'),\n",
       " (1.379566457982089, 'business'),\n",
       " (1.4418105157953873, 'socialnetworking'),\n",
       " (1.4930597047454601, 'personals'),\n",
       " (1.556624622697198, 'economyandfinance'),\n",
       " (1.5800323046230733, 'chatandmessaging'),\n",
       " (1.8521372493827455, 'newsandmedia'),\n",
       " (2.081980908838022, 'drugs'),\n",
       " (2.0883117477207334, 'vehicles'),\n",
       " (2.130151965046181, 'shopping'),\n",
       " (2.1578257170485995, 'travel'),\n",
       " (2.271891329576625, 'realestate'),\n",
       " (2.329608825726353, 'health'),\n",
       " (2.4446082142812813, 'weapons'),\n",
       " (2.5508955279456846, 'alcoholandtobacco'),\n",
       " (2.7242740261438776, 'foodandrecipes'),\n",
       " (2.781728098726046, 'jobrelated')]"
      ]
     },
     "execution_count": 89,
     "metadata": {},
     "output_type": "execute_result"
    }
   ],
   "source": [
    "plot_category_comparison(categorized_hit_doms,categorized_missing_doms,\"Present\",\"Missing\")"
   ]
  },
  {
   "cell_type": "code",
   "execution_count": 90,
   "metadata": {
    "scrolled": true
   },
   "outputs": [
    {
     "data": {
      "image/png": "[encoded data removed]",
      "text/plain": [
       "<Figure size 864x648 with 1 Axes>"
      ]
     },
     "metadata": {
      "needs_background": "light"
     },
     "output_type": "display_data"
    },
    {
     "data": {
      "text/plain": [
       "[(0.0, 'abortion'),\n",
       " (0.14888674657145937, 'illegalcontent'),\n",
       " (0.27110966963673944, 'contentserver'),\n",
       " (0.31886194099321064, 'hacking'),\n",
       " (0.34446362678814524, 'uncategorized'),\n",
       " (0.3530577338157973, 'parked'),\n",
       " (0.36451299626237416, 'adult'),\n",
       " (0.4058242885368135, 'translators'),\n",
       " (0.4181795947451942, 'deceptive'),\n",
       " (0.4405160951874074, 'searchenginesandportals'),\n",
       " (0.510179105589137, 'malicious'),\n",
       " (0.5437282984736834, 'blogsandpersonal'),\n",
       " (0.6152490315199395, 'messageboardsandforums'),\n",
       " (0.6377238819864212, 'humor'),\n",
       " (0.6432512829137141, 'streamingmedia'),\n",
       " (0.6688323640345393, 'mediasharing'),\n",
       " (0.8069159323093493, 'proxyandfilteravoidance'),\n",
       " (0.8365474721343518, 'entertainment'),\n",
       " (0.9110341171234589, 'virtualreality'),\n",
       " (1.025672576861494, 'religion'),\n",
       " (1.0569063818018674, 'informationtech'),\n",
       " (1.0628731366440354, 'advertising'),\n",
       " (1.074648407545631, 'gambling'),\n",
       " (1.1566840393068687, 'education'),\n",
       " (1.2512686594425515, 'sports'),\n",
       " (1.371187481624748, 'games'),\n",
       " (1.379566457982089, 'business'),\n",
       " (1.4418105157953873, 'socialnetworking'),\n",
       " (1.4930597047454601, 'personals'),\n",
       " (1.556624622697198, 'economyandfinance'),\n",
       " (1.5800323046230733, 'chatandmessaging'),\n",
       " (1.8521372493827455, 'newsandmedia'),\n",
       " (2.081980908838022, 'drugs'),\n",
       " (2.0883117477207334, 'vehicles'),\n",
       " (2.130151965046181, 'shopping'),\n",
       " (2.1578257170485995, 'travel'),\n",
       " (2.271891329576625, 'realestate'),\n",
       " (2.329608825726353, 'health'),\n",
       " (2.4446082142812813, 'weapons'),\n",
       " (2.5508955279456846, 'alcoholandtobacco'),\n",
       " (2.7242740261438776, 'foodandrecipes'),\n",
       " (2.781728098726046, 'jobrelated')]"
      ]
     },
     "execution_count": 90,
     "metadata": {},
     "output_type": "execute_result"
    }
   ],
   "source": [
    "plot_category_comparison(all_doms,missing_doms,\"Present\",\"Missing\")"
   ]
  },
  {
   "cell_type": "code",
   "execution_count": 91,
   "metadata": {
    "scrolled": true
   },
   "outputs": [
    {
     "data": {
      "image/png": "[encoded data removed]",
      "text/plain": [
       "<Figure size 864x648 with 1 Axes>"
      ]
     },
     "metadata": {
      "needs_background": "light"
     },
     "output_type": "display_data"
    },
    {
     "data": {
      "text/plain": [
       "[(0.0, 'abortion'),\n",
       " (0.14888674657145937, 'illegalcontent'),\n",
       " (0.27110966963673944, 'contentserver'),\n",
       " (0.31886194099321064, 'hacking'),\n",
       " (0.34446362678814524, 'uncategorized'),\n",
       " (0.3530577338157973, 'parked'),\n",
       " (0.36451299626237416, 'adult'),\n",
       " (0.4058242885368135, 'translators'),\n",
       " (0.4181795947451942, 'deceptive'),\n",
       " (0.4405160951874074, 'searchenginesandportals'),\n",
       " (0.510179105589137, 'malicious'),\n",
       " (0.5437282984736834, 'blogsandpersonal'),\n",
       " (0.6152490315199395, 'messageboardsandforums'),\n",
       " (0.6377238819864212, 'humor'),\n",
       " (0.6432512829137141, 'streamingmedia'),\n",
       " (0.6688323640345393, 'mediasharing'),\n",
       " (0.8069159323093493, 'proxyandfilteravoidance'),\n",
       " (0.8365474721343518, 'entertainment'),\n",
       " (0.9110341171234589, 'virtualreality'),\n",
       " (1.025672576861494, 'religion'),\n",
       " (1.0569063818018674, 'informationtech'),\n",
       " (1.0628731366440354, 'advertising'),\n",
       " (1.074648407545631, 'gambling'),\n",
       " (1.1566840393068687, 'education'),\n",
       " (1.2512686594425515, 'sports'),\n",
       " (1.371187481624748, 'games'),\n",
       " (1.379566457982089, 'business'),\n",
       " (1.4418105157953873, 'socialnetworking'),\n",
       " (1.4930597047454601, 'personals'),\n",
       " (1.556624622697198, 'economyandfinance'),\n",
       " (1.5800323046230733, 'chatandmessaging'),\n",
       " (1.8521372493827455, 'newsandmedia'),\n",
       " (2.081980908838022, 'drugs'),\n",
       " (2.0883117477207334, 'vehicles'),\n",
       " (2.130151965046181, 'shopping'),\n",
       " (2.1578257170485995, 'travel'),\n",
       " (2.271891329576625, 'realestate'),\n",
       " (2.329608825726353, 'health'),\n",
       " (2.4446082142812813, 'weapons'),\n",
       " (2.5508955279456846, 'alcoholandtobacco'),\n",
       " (2.7242740261438776, 'foodandrecipes'),\n",
       " (2.781728098726046, 'jobrelated')]"
      ]
     },
     "execution_count": 91,
     "metadata": {},
     "output_type": "execute_result"
    }
   ],
   "source": [
    "doms_1k = set()\n",
    "#Iter years\n",
    "for season_dict in alexa.alexa_rankings.values():\n",
    "    #iter seasons\n",
    "    for dom_dict in season_dict.values():\n",
    "        #iter domains\n",
    "        for dom, ranking in dom_dict.items():\n",
    "            if ranking <= 1000:\n",
    "                possible_doms.add(\"http://%s\" % dom)\n",
    "                \n",
    "present_doms_1k = list(set(all_doms) & doms_1k)\n",
    "missing_doms_1k = list(set(missing_doms) & doms_1k)\n",
    "plot_category_comparison(all_doms,missing_doms,\"Present in top 1k\",\"Missing in top 1k\")"
   ]
  },
  {
   "cell_type": "code",
   "execution_count": 92,
   "metadata": {},
   "outputs": [],
   "source": [
    "alexa_ranks_2009B = sorted([(rank,dom) for dom,rank in alexa.alexa_rankings[2009][\"B\"].items()])\n",
    "alexa_ranks_2009B = [dom for rank,dom in alexa_ranks_2009B]"
   ]
  },
  {
   "cell_type": "code",
   "execution_count": 93,
   "metadata": {
    "scrolled": true
   },
   "outputs": [
    {
     "data": {
      "image/png": "[encoded data removed]",
      "text/plain": [
       "<Figure size 864x648 with 1 Axes>"
      ]
     },
     "metadata": {
      "needs_background": "light"
     },
     "output_type": "display_data"
    },
    {
     "data": {
      "text/plain": [
       "[(0.0, 'abortion'),\n",
       " (0.0, 'drugs'),\n",
       " (0.0, 'hacking'),\n",
       " (0.0, 'malicious'),\n",
       " (0.0, 'religion'),\n",
       " (0.0, 'virtualreality'),\n",
       " (0.0, 'weapons'),\n",
       " (0.15602851147641245, 'parked'),\n",
       " (0.1890171381777769, 'vehicles'),\n",
       " (0.34086354206954744, 'health'),\n",
       " (0.4156448293603155, 'realestate'),\n",
       " (0.5249968522933581, 'uncategorized'),\n",
       " (0.5778251652737663, 'education'),\n",
       " (0.693330949401037, 'blogsandpersonal'),\n",
       " (0.6962939021762551, 'gambling'),\n",
       " (0.7661415663444061, 'foodandrecipes'),\n",
       " (0.8384484228473998, 'shopping'),\n",
       " (0.8567566944473263, 'adult'),\n",
       " (0.8961229068311121, 'business'),\n",
       " (1.020455781477518, 'messageboardsandforums'),\n",
       " (1.0678901598290969, 'entertainment'),\n",
       " (1.1460687440275057, 'travel'),\n",
       " (1.180672268907563, 'illegalcontent'),\n",
       " (1.2343391902215433, 'informationtech'),\n",
       " (1.2630447527848347, 'economyandfinance'),\n",
       " (1.58494915475918, 'jobrelated'),\n",
       " (1.6095182753952644, 'sports'),\n",
       " (1.629327731092437, 'alcoholandtobacco'),\n",
       " (1.953177094503695, 'games'),\n",
       " (1.986985037917606, 'proxyandfilteravoidance'),\n",
       " (2.5999910602538887, 'personals'),\n",
       " (2.834096667316312, 'newsandmedia'),\n",
       " (3.432572467189123, 'streamingmedia'),\n",
       " (4.17776341305753, 'chatandmessaging'),\n",
       " (4.987737952323786, 'contentserver'),\n",
       " (5.213848739495798, 'mediasharing'),\n",
       " (5.431092436974789, 'deceptive'),\n",
       " (6.788865546218488, 'translators'),\n",
       " (14.37642115669797, 'advertising'),\n",
       " (19.664300202839758, 'socialnetworking'),\n",
       " (20.36659663865546, 'humor'),\n",
       " (40.733193277310924, 'searchenginesandportals')]"
      ]
     },
     "execution_count": 93,
     "metadata": {},
     "output_type": "execute_result"
    }
   ],
   "source": [
    "plot_category_comparison(alexa_ranks_2009B[:1000],alexa_ranks_2009B[1000:100000],\"Alexa 1-1k\",\"Alexa 1k-100k\")"
   ]
  },
  {
   "cell_type": "code",
   "execution_count": 25,
   "metadata": {},
   "outputs": [],
   "source": [
    "illegal_doms = []\n",
    "for dom in category_map:\n",
    "    if \"illegalcontent\" in category_map[dom]:\n",
    "        illegal_doms.append(dom)"
   ]
  },
  {
   "cell_type": "code",
   "execution_count": 28,
   "metadata": {
    "scrolled": true
   },
   "outputs": [
    {
     "name": "stdout",
     "output_type": "stream",
     "text": [
      "http://2ddl.vg\n",
      "http://7starhd.com\n",
      "http://freecrackpatch.com\n",
      "http://savef.net\n",
      "http://atomload.to\n",
      "http://bdmusic24.net\n",
      "http://putlockerfree.com\n",
      "http://filmonde.com\n",
      "http://todayfull.com\n",
      "http://topkickass.net\n",
      "http://torrentz-2.eu\n",
      "http://downloadhub.biz\n",
      "http://hdbits.org\n",
      "http://indomovie.fun\n",
      "http://baixarfilmesgratis.net\n",
      "http://movies5x.com\n",
      "http://world4free.ind.in\n",
      "http://ytshdmovies.com\n",
      "http://movies500.org\n",
      "http://odownloadx.com\n",
      "http://torrentz2in.top\n",
      "http://mnitro.com\n",
      "http://attmovie.info\n",
      "http://cmovieshd.se\n",
      "http://wanz.jp\n",
      "http://tamilmv.cam\n",
      "http://fmtorrent.com\n",
      "http://limetorrents.zone\n",
      "http://filmcomplet.stream\n",
      "http://extratorrents.ch\n",
      "http://123movierulz.live\n",
      "http://bdmusic90.com\n",
      "http://9baranfilm.com\n",
      "http://moviescounter.co\n",
      "http://marinarockers.com\n",
      "http://eztv.yt\n",
      "http://downloadhub.online\n",
      "http://isaitamil.net\n",
      "http://moviezwaphd.la\n",
      "http://thepiratebay.tel\n",
      "http://megashare.bz\n",
      "http://downloadall.in\n",
      "http://onlinemoviesgold.com\n",
      "http://torrentsbay.net\n",
      "http://tamilyogi.tv\n",
      "http://odia1.me\n",
      "http://fullmovie720p.com\n",
      "http://cat3korean.com\n",
      "http://mp4moviez.la\n",
      "http://allavsoft.com\n",
      "http://mymoviesda.com\n",
      "http://8xfilms.me\n",
      "http://bdmusic365.club\n",
      "http://123movies.group\n",
      "http://kat2.org\n",
      "http://baixafilmesdublado.com\n",
      "http://torrentkickass.pro\n",
      "http://setmovies.co\n",
      "http://downlodi.com\n",
      "http://ofilmywap.org\n",
      "http://mastihot.info\n",
      "http://muztorr.ru\n",
      "http://xpau.se\n",
      "http://okmovie-hd.com\n",
      "http://bioskopkeren.xyz\n",
      "http://jeddl.co\n",
      "http://w4proxy.pw\n",
      "http://cpy-crack.com\n",
      "http://losmovies.club\n",
      "http://movie24k.is\n",
      "http://123moviestv.com\n",
      "http://thepiratebay.red\n",
      "http://pirateproxy.wf\n",
      "http://torrentku.com\n",
      "http://updownload.com\n",
      "http://torrentpk.online\n",
      "http://hddubbedmovies.com\n",
      "http://crackmania.net\n",
      "http://movierulz.is\n",
      "http://bia2movies2.org\n",
      "http://pirateproxy.red\n",
      "http://fullmovie2in.net\n",
      "http://tamilgun.us\n",
      "http://torrentdownloads.be\n",
      "http://movietorrents.to\n",
      "http://bolly4u.link\n",
      "http://moviezwow.com\n",
      "http://fmsubs.com\n",
      "http://proxyship.cf\n",
      "http://baixarblurays.com\n",
      "http://yifyhdtorrent.org\n",
      "http://bittorrent.to\n",
      "http://world4ufree.bid\n",
      "http://mkvcage.bid\n",
      "http://yify-torrent.org\n",
      "http://cimamix.co\n",
      "http://pcgetup.com\n",
      "http://dl4all.ws\n",
      "http://hdmoviesmaza.live\n",
      "http://moviedetector.me\n"
     ]
    }
   ],
   "source": [
    "print('\\n'.join(map(lambda s: \"http://%s\" % s,random.sample(illegal_doms,100))))"
   ]
  },
  {
   "cell_type": "code",
   "execution_count": 96,
   "metadata": {},
   "outputs": [],
   "source": [
    "illegal_doms = []\n",
    "for dom in all_doms:\n",
    "    dom = strip_dom(dom)\n",
    "    if dom in category_map and \"illegalcontent\" in category_map[dom]:\n",
    "        illegal_doms.append(dom)"
   ]
  },
  {
   "cell_type": "code",
   "execution_count": 1,
   "metadata": {
    "scrolled": true
   },
   "outputs": [
    {
     "ename": "NameError",
     "evalue": "name 'illegal_doms' is not defined",
     "output_type": "error",
     "traceback": [
      "\u001b[0;31m---------------------------------------------------------------------------\u001b[0m",
      "\u001b[0;31mNameError\u001b[0m                                 Traceback (most recent call last)",
      "\u001b[0;32m<ipython-input-1-85742e38b976>\u001b[0m in \u001b[0;36m<module>\u001b[0;34m\u001b[0m\n\u001b[0;32m----> 1\u001b[0;31m \u001b[0mprint\u001b[0m\u001b[0;34m(\u001b[0m\u001b[0;34m\"\\n\"\u001b[0m\u001b[0;34m.\u001b[0m\u001b[0mjoin\u001b[0m\u001b[0;34m(\u001b[0m\u001b[0millegal_doms\u001b[0m\u001b[0;34m[\u001b[0m\u001b[0;34m:\u001b[0m\u001b[0;36m100\u001b[0m\u001b[0;34m]\u001b[0m\u001b[0;34m)\u001b[0m\u001b[0;34m)\u001b[0m\u001b[0;34m\u001b[0m\u001b[0;34m\u001b[0m\u001b[0m\n\u001b[0m",
      "\u001b[0;31mNameError\u001b[0m: name 'illegal_doms' is not defined"
     ]
    }
   ],
   "source": [
    "print(\"\\n\".join(illegal_doms[:100]))"
   ]
  },
  {
   "cell_type": "code",
   "execution_count": 98,
   "metadata": {},
   "outputs": [],
   "source": [
    "def plot_category_disparity(ds1,ds2,ds1name,ds2name,top_cats=None):    \n",
    "    ds1 = [strip_dom(dom) for dom in ds1 if strip_dom(dom) in category_map]\n",
    "    ds2 = [strip_dom(dom) for dom in ds2 if strip_dom(dom) in category_map]\n",
    "    \n",
    "    if top_cats:\n",
    "        cat_to_count_ds1 = {cat:0 for cat in top_cats}\n",
    "        cat_to_count_ds2 = {cat:0 for cat in top_cats}\n",
    "        cat_to_count_ds1[\"other\"] = 0\n",
    "        cat_to_count_ds2[\"other\"] = 0\n",
    "    else:    \n",
    "        cat_to_count_ds1 = {cat:0 for cat in categories}\n",
    "        cat_to_count_ds2 = {cat:0 for cat in categories}\n",
    "\n",
    "\n",
    "    for dom in ds1:\n",
    "        if dom in category_map:\n",
    "            cats = category_map[dom]\n",
    "        else:\n",
    "            cats = [\"uncategorized\"]\n",
    "        for cat in cats:\n",
    "            if cat not in top_cats:\n",
    "                cat = \"other\"\n",
    "            cat_to_count_ds1[cat] += 1\n",
    "\n",
    "\n",
    "    for dom in ds2:\n",
    "        if dom in category_map and len(category_map[dom]) != 0:\n",
    "            cats = category_map[dom]\n",
    "        else:\n",
    "            cats = [\"uncategorized\"]\n",
    "        for cat in cats:\n",
    "            if cat not in top_cats:\n",
    "                cat = \"other\"\n",
    "            cat_to_count_ds2[cat] += 1\n",
    "    \n",
    "    \n",
    "    #plotting\n",
    "    labels = list(top_cats) + [\"other\"] if top_cats else list(categories) \n",
    "    x = np.arange(len(labels))\n",
    "    width=0.35\n",
    "    \n",
    "    \n",
    "    fig, ax = plt.subplots()\n",
    "\n",
    "    cat_ds1_sum = sum(cat_to_count_ds1.values(),0)\n",
    "    cat_ds2_sum = sum(cat_to_count_ds2.values(),0)\n",
    "    \n",
    "    \n",
    "    order = list(zip(*sorted([(cat_to_count_ds1[l]/(cat_to_count_ds1[l]+cat_to_count_ds2[l]),l) for l in labels], reverse=True)))[1]\n",
    "    \n",
    "    chart = sns.barplot(labels,[cat_to_count_ds1[l]/(cat_to_count_ds1[l]+cat_to_count_ds2[l]) for l in labels],color=\"steelblue\",order=order)\n",
    "    chart.set_xticklabels(chart.get_xticklabels(),rotation=90)\n",
    "    chart.set(ylabel=\"Proportion of domains present\",title=\"Proportion of domains in each category that are present in the dataset\")\n",
    "    plt.ylim(0,1)\n",
    "\n",
    "    plt.savefig(\"figures/category_missing_perc.pdf\",bbox_inches='tight')\n",
    "    \n",
    "    #ax.bar(x, [cat_to_count_ds1[l]/(cat_to_count_ds1[l]+cat_to_count_ds2[l]) for l in labels], label=ds1name,width=width,color=\"steelblue\")\n",
    "    #ax.bar(x, [cat_to_count_ds2[l]/(cat_to_count_ds1[l]+cat_to_count_ds2[l]) for l in labels], bottom=[cat_to_count_ds1[l]/(cat_to_count_ds1[l]+cat_to_count_ds2[l]) for l in labels], label=ds2name,width=width,color=\"coral\")\n",
    "\n",
    "    #plt.xticks(x,labels,rotation=\"vertical\")\n",
    "    #plt.title(\"Proportion of each category that is present vs absent\")\n",
    "    #plt.legend()\n",
    "\n",
    "\n",
    "    #plt.show()"
   ]
  },
  {
   "cell_type": "code",
   "execution_count": 99,
   "metadata": {
    "scrolled": true
   },
   "outputs": [
    {
     "data": {
      "image/png": "[encoded data removed]",
      "text/plain": [
       "<Figure size 864x648 with 1 Axes>"
      ]
     },
     "metadata": {
      "needs_background": "light"
     },
     "output_type": "display_data"
    }
   ],
   "source": [
    "plot_category_disparity(categorized_hit_doms,categorized_missing_doms,\"Present\",\"Absent\",top_cats=set(get_top_cats(categorized_all_doms,topX=15)))"
   ]
  },
  {
   "cell_type": "code",
   "execution_count": 100,
   "metadata": {},
   "outputs": [
    {
     "data": {
      "text/plain": [
       "108499"
      ]
     },
     "execution_count": 100,
     "metadata": {},
     "output_type": "execute_result"
    }
   ],
   "source": [
    "len(set(all_doms) - set(categorized_hit_doms))"
   ]
  },
  {
   "cell_type": "code",
   "execution_count": 101,
   "metadata": {},
   "outputs": [
    {
     "data": {
      "text/plain": [
       "108499"
      ]
     },
     "execution_count": 101,
     "metadata": {},
     "output_type": "execute_result"
    }
   ],
   "source": [
    "len(all_doms)"
   ]
  },
  {
   "cell_type": "code",
   "execution_count": 102,
   "metadata": {},
   "outputs": [
    {
     "data": {
      "text/plain": [
       "'http://krebsonsecurity.com'"
      ]
     },
     "execution_count": 102,
     "metadata": {},
     "output_type": "execute_result"
    }
   ],
   "source": [
    "all_doms[0]"
   ]
  },
  {
   "cell_type": "code",
   "execution_count": 103,
   "metadata": {},
   "outputs": [
    {
     "data": {
      "text/plain": [
       "'krebsonsecurity.com'"
      ]
     },
     "execution_count": 103,
     "metadata": {},
     "output_type": "execute_result"
    }
   ],
   "source": [
    "categorized_hit_doms[0]"
   ]
  },
  {
   "cell_type": "code",
   "execution_count": 104,
   "metadata": {},
   "outputs": [
    {
     "data": {
      "text/plain": [
       "31193"
      ]
     },
     "execution_count": 104,
     "metadata": {},
     "output_type": "execute_result"
    }
   ],
   "source": [
    "sum([1 if len(category_map[dom]) == 0 else 0 for dom in categorized_all_doms])"
   ]
  },
  {
   "cell_type": "code",
   "execution_count": 105,
   "metadata": {},
   "outputs": [
    {
     "data": {
      "text/plain": [
       "280552"
      ]
     },
     "execution_count": 105,
     "metadata": {},
     "output_type": "execute_result"
    }
   ],
   "source": [
    "len(category_map)"
   ]
  },
  {
   "cell_type": "code",
   "execution_count": 106,
   "metadata": {},
   "outputs": [
    {
     "data": {
      "text/plain": [
       "541616"
      ]
     },
     "execution_count": 106,
     "metadata": {},
     "output_type": "execute_result"
    }
   ],
   "source": [
    "len(possible_doms)"
   ]
  },
  {
   "cell_type": "code",
   "execution_count": 28,
   "metadata": {},
   "outputs": [
    {
     "ename": "NameError",
     "evalue": "name 'categorized_hit_doms' is not defined",
     "output_type": "error",
     "traceback": [
      "\u001b[0;31m---------------------------------------------------------------------------\u001b[0m",
      "\u001b[0;31mNameError\u001b[0m                                 Traceback (most recent call last)",
      "\u001b[0;32m<ipython-input-28-1e3d7c4d2e9c>\u001b[0m in \u001b[0;36m<module>\u001b[0;34m\u001b[0m\n\u001b[1;32m      1\u001b[0m \u001b[0;32mwith\u001b[0m \u001b[0mopen\u001b[0m\u001b[0;34m(\u001b[0m\u001b[0;34m\"../data/domains-nopolicy.txt\"\u001b[0m\u001b[0;34m)\u001b[0m \u001b[0;32mas\u001b[0m \u001b[0mf\u001b[0m\u001b[0;34m:\u001b[0m\u001b[0;34m\u001b[0m\u001b[0;34m\u001b[0m\u001b[0m\n\u001b[1;32m      2\u001b[0m     \u001b[0menglish_doms\u001b[0m \u001b[0;34m=\u001b[0m \u001b[0mset\u001b[0m\u001b[0;34m(\u001b[0m\u001b[0mf\u001b[0m\u001b[0;34m.\u001b[0m\u001b[0mread\u001b[0m\u001b[0;34m(\u001b[0m\u001b[0;34m)\u001b[0m\u001b[0;34m.\u001b[0m\u001b[0mstrip\u001b[0m\u001b[0;34m(\u001b[0m\u001b[0;34m)\u001b[0m\u001b[0;34m.\u001b[0m\u001b[0msplit\u001b[0m\u001b[0;34m(\u001b[0m\u001b[0;34m'\\n'\u001b[0m\u001b[0;34m)\u001b[0m\u001b[0;34m)\u001b[0m\u001b[0;34m\u001b[0m\u001b[0;34m\u001b[0m\u001b[0m\n\u001b[0;32m----> 3\u001b[0;31m \u001b[0menglish_absent_doms\u001b[0m \u001b[0;34m=\u001b[0m \u001b[0mlist\u001b[0m\u001b[0;34m(\u001b[0m\u001b[0menglish_doms\u001b[0m \u001b[0;34m-\u001b[0m \u001b[0mset\u001b[0m\u001b[0;34m(\u001b[0m\u001b[0mcategorized_hit_doms\u001b[0m\u001b[0;34m)\u001b[0m\u001b[0;34m)\u001b[0m\u001b[0;34m\u001b[0m\u001b[0;34m\u001b[0m\u001b[0m\n\u001b[0m",
      "\u001b[0;31mNameError\u001b[0m: name 'categorized_hit_doms' is not defined"
     ]
    }
   ],
   "source": [
    "with open(\"../data/domains-nopolicy.txt\") as f:\n",
    "    english_doms = set(f.read().strip().split('\\n'))\n",
    "english_absent_doms = list(english_doms - set(categorized_hit_doms))"
   ]
  },
  {
   "cell_type": "code",
   "execution_count": 17,
   "metadata": {},
   "outputs": [
    {
     "data": {
      "text/plain": [
       "(280798, 100.0)"
      ]
     },
     "execution_count": 17,
     "metadata": {},
     "output_type": "execute_result"
    }
   ],
   "source": [
    "len(english_absent_doms), len(english_absent_doms) / len(english_doms) * 100"
   ]
  },
  {
   "cell_type": "code",
   "execution_count": null,
   "metadata": {},
   "outputs": [],
   "source": []
  },
  {
   "cell_type": "code",
   "execution_count": 109,
   "metadata": {},
   "outputs": [
    {
     "data": {
      "image/png": "[encoded data removed]",
      "text/plain": [
       "<Figure size 864x648 with 1 Axes>"
      ]
     },
     "metadata": {
      "needs_background": "light"
     },
     "output_type": "display_data"
    }
   ],
   "source": [
    "plot_category_disparity(categorized_hit_doms,english_absent_doms,\"Present\",\"Absent\",top_cats=set(get_top_cats(categorized_all_doms,topX=15)))"
   ]
  },
  {
   "cell_type": "code",
   "execution_count": 110,
   "metadata": {},
   "outputs": [
    {
     "data": {
      "text/plain": [
       "27"
      ]
     },
     "execution_count": 110,
     "metadata": {},
     "output_type": "execute_result"
    }
   ],
   "source": [
    "len(categories)-15"
   ]
  },
  {
   "cell_type": "code",
   "execution_count": null,
   "metadata": {},
   "outputs": [],
   "source": []
  }
 ],
 "metadata": {
  "kernelspec": {
   "display_name": "Python 3",
   "language": "python",
   "name": "python3"
  },
  "language_info": {
   "codemirror_mode": {
    "name": "ipython",
    "version": 3
   },
   "file_extension": ".py",
   "mimetype": "text/x-python",
   "name": "python",
   "nbconvert_exporter": "python",
   "pygments_lexer": "ipython3",
   "version": "3.7.3"
  }
 },
 "nbformat": 4,
 "nbformat_minor": 4
}
