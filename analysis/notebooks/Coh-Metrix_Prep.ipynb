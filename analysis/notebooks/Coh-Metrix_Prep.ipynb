{
 "cells": [
  {
   "cell_type": "code",
   "execution_count": 1,
   "metadata": {},
   "outputs": [
    {
     "name": "stderr",
     "output_type": "stream",
     "text": [
      "/n/fs/policyphylog/PrivacyPolicyPlagiarism/.venv/lib64/python3.7/importlib/_bootstrap.py:219: RuntimeWarning: thinc.extra.search.Beam size changed, may indicate binary incompatibility. Expected 112 from C header, got 120 from PyObject\n",
      "  return f(*args, **kwds)\n"
     ]
    }
   ],
   "source": [
    "import gensim\n",
    "from gensim.utils import simple_preprocess\n",
    "from gensim.parsing.preprocessing import STOPWORDS\n",
    "from gensim import corpora, models\n",
    "import nltk\n",
    "from nltk.stem import WordNetLemmatizer, SnowballStemmer\n",
    "from nltk.stem.porter import *\n",
    "from nltk.tokenize import sent_tokenize\n",
    "import spacy\n",
    "\n",
    "import pandas as pd\n",
    "import swifter\n",
    "\n",
    "import numpy as np\n",
    "import math\n",
    "import random\n",
    "\n",
    "import os\n",
    "import sys\n",
    "import re\n",
    "\n",
    "import heapq\n",
    "import itertools\n",
    "import collections\n",
    "\n",
    "import pickle\n",
    "\n",
    "from matplotlib import pyplot as plt\n",
    "import seaborn as sns\n"
   ]
  },
  {
   "cell_type": "code",
   "execution_count": 2,
   "metadata": {},
   "outputs": [],
   "source": [
    "import mistune\n",
    "import mistune.renderers"
   ]
  },
  {
   "cell_type": "code",
   "execution_count": 3,
   "metadata": {},
   "outputs": [],
   "source": [
    "from tqdm import tqdm\n",
    "tqdm.pandas()"
   ]
  },
  {
   "cell_type": "code",
   "execution_count": 4,
   "metadata": {},
   "outputs": [
    {
     "name": "stdout",
     "output_type": "stream",
     "text": [
      "INFO: Pandarallel will run on 32 workers.\n",
      "INFO: Pandarallel will use Memory file system to transfer data between the main process and workers.\n"
     ]
    }
   ],
   "source": [
    "from pandarallel import pandarallel\n",
    "pandarallel.initialize(progress_bar=True,nb_workers=32)"
   ]
  },
  {
   "cell_type": "code",
   "execution_count": 5,
   "metadata": {},
   "outputs": [],
   "source": [
    "nlp = spacy.load(\"en_core_web_lg\")\n",
    "nlp.max_length *= 5"
   ]
  },
  {
   "cell_type": "markdown",
   "metadata": {},
   "source": [
    "# Load data"
   ]
  },
  {
   "cell_type": "code",
   "execution_count": 6,
   "metadata": {},
   "outputs": [],
   "source": [
    "#Load the data\n",
    "with open(\"../data/deduped_policy_text_v11no_html_with_links_and_emails.pickle\", \"rb\") as f:\n",
    "    df_all = pd.read_pickle(f)\n",
    "df_sample = df_all.sample(1000)"
   ]
  },
  {
   "cell_type": "code",
   "execution_count": 7,
   "metadata": {},
   "outputs": [],
   "source": [
    "#df = df_sample\n",
    "df = df_all"
   ]
  },
  {
   "cell_type": "code",
   "execution_count": 8,
   "metadata": {},
   "outputs": [
    {
     "data": {
      "text/plain": [
       "237698                        http://army.mil\n",
       "1043500                      http://femina.in\n",
       "892937                   http://jiffstore.com\n",
       "1118180          http://couponconnections.com\n",
       "337273     http://memory-improvement-tips.com\n",
       "                          ...                \n",
       "1221991                 http://bigseminar.com\n",
       "340360                   http://linksgain.net\n",
       "892528      http://jewelrymakingmagazines.com\n",
       "79317                      http://nypress.com\n",
       "547901                 http://timeforkids.com\n",
       "Name: site_url, Length: 910546, dtype: object"
      ]
     },
     "execution_count": 8,
     "metadata": {},
     "output_type": "execute_result"
    }
   ],
   "source": [
    "df.site_url"
   ]
  },
  {
   "cell_type": "markdown",
   "metadata": {},
   "source": [
    "# Clean up"
   ]
  },
  {
   "cell_type": "code",
   "execution_count": 9,
   "metadata": {},
   "outputs": [],
   "source": [
    "valid_end_punct = set((\".\",\"!\",\"?\",'\"',\"'\"))\n",
    "def strip_incomplete_sentences(text,flag_components=False):\n",
    "    sentences = nltk.tokenize.sent_tokenize(text)\n",
    "    if len(sentences) == 0:\n",
    "        return \"\"\n",
    "    words = nltk.tokenize.word_tokenize(sentences[-1])\n",
    "    if not words[-1] in valid_end_punct:\n",
    "        if flag_components:\n",
    "            sentences[-1] = \"_cut_\" + sentences[-1] + \"_cut_\"\n",
    "        else:\n",
    "            sentences = sentences[:-1]\n",
    "    return \" \".join(sentences)\n",
    "\n",
    "class StraightTextRenderer(mistune.renderers.BaseRenderer):\n",
    "    \n",
    "    def __init__(self,flag_components):\n",
    "        self.flag_components = flag_components\n",
    "    \n",
    "    def text(self, text):\n",
    "        return text\n",
    "\n",
    "    def link(self, link, text=None, title=None):\n",
    "        if text is None:\n",
    "            return \"link\"\n",
    "        else:\n",
    "            return text\n",
    "\n",
    "    def image(self, src, alt=\"\", title=None):\n",
    "        return \"\"\n",
    "\n",
    "    def emphasis(self, text):\n",
    "        return text\n",
    "\n",
    "    def strong(self, text):\n",
    "        return text\n",
    "\n",
    "    def codespan(self, text):\n",
    "        if self.flag_components:\n",
    "            return \"\\n_codespan_%s_codespan\\n\" % text\n",
    "        else:\n",
    "            return \"\\n\"\n",
    "\n",
    "    def linebreak(self):\n",
    "        if self.flag_components:\n",
    "            return \"\\n_line break_\\n\"\n",
    "        else:\n",
    "            return \"\\n\"\n",
    "\n",
    "    def inline_html(self, html):\n",
    "        if self.flag_components:\n",
    "            return '\\n_inline-html_%s_inline-html_\\n' % html\n",
    "        else:\n",
    "            #HTML isn't prose\n",
    "            return \"\\n\"\n",
    "\n",
    "    def paragraph(self, text):\n",
    "        if text == '': return text\n",
    "        paragraphs = text.split('\\n')\n",
    "        paragraphs = (strip_incomplete_sentences(para,flag_components=self.flag_components) for para in paragraphs)\n",
    "        text = \"\\n\".join(paragraphs)\n",
    "        if self.flag_components:\n",
    "            return \"\\n_paragraph_\\n\" + text + \"\\n_paragraph_\\n\"\n",
    "        else:\n",
    "            return text + \"\\n\"\n",
    "\n",
    "    def heading(self, text, level):\n",
    "        if self.flag_components:\n",
    "            return '\\n_heading %d_ %s\\n' % (level,text)\n",
    "        else:\n",
    "            #Headings aren't prose\n",
    "            return \"\\n\"\n",
    "\n",
    "    def newline(self):\n",
    "        if self.flag_components:\n",
    "            return '\\n_newline_\\n'\n",
    "        else:\n",
    "            return \"\\n\"\n",
    "\n",
    "    def thematic_break(self):\n",
    "        if self.flag_components:\n",
    "            return '\\n_thematic-break_\\n'\n",
    "        else:\n",
    "            return \"\\n\"\n",
    "\n",
    "    def block_text(self, text):\n",
    "        if self.flag_components:\n",
    "            return '\\n_block-text_%s_block-text_\\n' % text\n",
    "        else:\n",
    "            return \"%s\\n\" % text\n",
    "\n",
    "    def block_code(self, code, info=None):\n",
    "        if self.flag_components:\n",
    "            if not code.strip():\n",
    "                return \"\\n\"\n",
    "            else:\n",
    "                return '\\n_block-code_%s_block-code_\\n' % code\n",
    "        else:\n",
    "            #This stuff usually isn't code, treat it as a paragraph\n",
    "            return self.paragraph(code)\n",
    "\n",
    "    def block_quote(self, text):\n",
    "        if self.flag_components:\n",
    "            return '\\n_block-quote_%s_block-quote_\\n' % text\n",
    "        else:\n",
    "            return \"%s\\n\" % text\n",
    "\n",
    "    def block_html(self, html):\n",
    "        if self.flag_components:\n",
    "            return \"\\n_block-html_%s_block-html\\n\" % html\n",
    "        else:\n",
    "            #HTML isn't prose\n",
    "            return  \"\\n\"\n",
    "\n",
    "    def block_error(self, html):\n",
    "        if self.flag_components:\n",
    "            return \"\\n_block-error_%s_block-error\\n\" % html\n",
    "        else:\n",
    "            #Errors aren't prose\n",
    "            return \"\\n\"\n",
    "\n",
    "    def list(self, text, ordered, level, start=None):\n",
    "        if text == '': return text\n",
    "        paragraphs = text.split('\\n')\n",
    "        paragraphs = [strip_incomplete_sentences(para,flag_components=self.flag_components) for para in paragraphs]\n",
    "        text = \"\\n\".join(paragraphs)\n",
    "        if self.flag_components:\n",
    "            return \"\\n_list %s %d_\\n%s\\n_list_\\n\" % (ordered, level, text)\n",
    "        else:\n",
    "            #Lists are inconsistent in how many sentences they represent\n",
    "            #Rule: If all of the rows are sentences, then we'll keep them\n",
    "            #If any stripped list item is empty, return empty for everything\n",
    "            if any((not list_item.strip() for list_item in paragraphs)):\n",
    "                return \"\\n\"\n",
    "            else:\n",
    "                return text + \"\\n\"\n",
    "\n",
    "    def list_item(self, text, level):\n",
    "        return \"%s\\n\" % text\n",
    "    \n",
    "    def strikethrough(self, text):\n",
    "        return \"\"\n",
    "    \n",
    "    def table(self, text):\n",
    "        if self.flag_components:\n",
    "            return '\\n_table_%s_table_\\n' % (text)\n",
    "        else:\n",
    "            return \"\\n\"\n",
    "    \n",
    "    def table_cell(self, content, align=None, is_head=False):\n",
    "        if self.flag_components:\n",
    "            return '\\n_cell_\\n'\n",
    "        else:\n",
    "            return \"\"\n",
    "    \n",
    "    def table_head(self, content):\n",
    "        if self.flag_components:\n",
    "            return '\\n_head_\\n'\n",
    "        else:\n",
    "            return \"\"\n",
    "        \n",
    "    def table_row(self, content):\n",
    "        if self.flag_components:\n",
    "            return '_row_%s_row_\\n' % content\n",
    "        else:\n",
    "            return \"\"\n",
    "        \n",
    "    def table_body(self, content):\n",
    "        if self.flag_components:\n",
    "            return '_body_%s_body_\\n' % content\n",
    "        else:\n",
    "            return \"\"\n",
    "    \n",
    "markdown = mistune.create_markdown(renderer=StraightTextRenderer(False))\n",
    "markdown_debug = mistune.create_markdown(renderer=StraightTextRenderer(True))\n",
    "\n",
    "#Install mistune plugins\n",
    "import mistune.plugins\n",
    "mistune.plugins.plugin_table(markdown)\n",
    "mistune.plugins.plugin_strikethrough(markdown)\n",
    "mistune.plugins.plugin_table(markdown_debug)\n",
    "mistune.plugins.plugin_strikethrough(markdown_debug)\n",
    "\n",
    "def clean(policy_text):\n",
    "    return markdown(policy_text)\n",
    "\n",
    "def clean_debug(policy_text):\n",
    "    return markdown_debug(policy_text)"
   ]
  },
  {
   "cell_type": "code",
   "execution_count": 11,
   "metadata": {},
   "outputs": [
    {
     "name": "stderr",
     "output_type": "stream",
     "text": [
      "100%|██████████| 910546/910546 [4:19:10<00:00, 58.55it/s]   \n"
     ]
    }
   ],
   "source": [
    "df[\"policy_text_cleaned\"] = df.policy_text.progress_map(clean)"
   ]
  },
  {
   "cell_type": "code",
   "execution_count": 13,
   "metadata": {},
   "outputs": [],
   "source": [
    "directory = \"/n/fs/scratch/rbamos/coh-metrix_files\"\n",
    "os.makedirs(directory,exist_ok=True)\n",
    "for index, row in df.iterrows():\n",
    "    fn = f\"{directory}/{row.year_season}-{index}.txt\"\n",
    "    with open(fn,\"w+\") as f:\n",
    "        f.write(row.policy_text_cleaned)"
   ]
  },
  {
   "cell_type": "code",
   "execution_count": null,
   "metadata": {},
   "outputs": [],
   "source": [
    "del df "
   ]
  },
  {
   "cell_type": "code",
   "execution_count": null,
   "metadata": {},
   "outputs": [],
   "source": [
    "%%javascript\n",
    "Jupyter.notebook.session.delete();"
   ]
  },
  {
   "cell_type": "code",
   "execution_count": null,
   "metadata": {},
   "outputs": [],
   "source": []
  }
 ],
 "metadata": {
  "kernelspec": {
   "display_name": "Python 3",
   "language": "python",
   "name": "python3"
  },
  "language_info": {
   "codemirror_mode": {
    "name": "ipython",
    "version": 3
   },
   "file_extension": ".py",
   "mimetype": "text/x-python",
   "name": "python",
   "nbconvert_exporter": "python",
   "pygments_lexer": "ipython3",
   "version": "3.7.3"
  }
 },
 "nbformat": 4,
 "nbformat_minor": 4
}
