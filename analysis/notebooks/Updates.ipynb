{
 "cells": [
  {
   "cell_type": "code",
   "execution_count": 29,
   "metadata": {},
   "outputs": [],
   "source": [
    "import pandas as pd\n",
    "import matplotlib.pyplot as plt\n",
    "import seaborn as sns\n",
    "import numpy as np\n",
    "from fuzzywuzzy import fuzz\n",
    "from tqdm import tqdm\n",
    "\n",
    "sns.set_style(\"whitegrid\")"
   ]
  },
  {
   "cell_type": "code",
   "execution_count": 2,
   "metadata": {},
   "outputs": [],
   "source": [
    "#Load the data\n",
    "import pickle\n",
    "#with open(\"../data/deduped_policy_text_v11no_html_with_links_and_emails.pickle\", \"rb\") as f:\n",
    "with open(\"../data/policy_text_v11.pickle\", \"rb\") as f:\n",
    "    df = pickle.load(f)"
   ]
  },
  {
   "cell_type": "code",
   "execution_count": 3,
   "metadata": {},
   "outputs": [],
   "source": [
    "#Get all intervals\n",
    "def get_intervals(df):\n",
    "    intervals = set(((y,s) for y,s in zip(df.year,df.season)))\n",
    "    intervals = sorted(list(intervals)) #This will correctly sort due to Python's tuple handling behavior\n",
    "    return intervals\n",
    "    "
   ]
  },
  {
   "cell_type": "code",
   "execution_count": 4,
   "metadata": {},
   "outputs": [],
   "source": [
    "#General plot things\n",
    "\n",
    "intervals = get_intervals(df)\n",
    "x = list(range(len(intervals)))\n",
    "labels = [\"%d%s\" % interval for interval in intervals]"
   ]
  },
  {
   "cell_type": "code",
   "execution_count": 5,
   "metadata": {},
   "outputs": [],
   "source": [
    "def present_for_desired_intervals(df,site_url,intervals):\n",
    "    hits = 0\n",
    "    for i,row in df[df.site_url == site_url].iterrows():\n",
    "        if (row.year,row.season) in intervals:\n",
    "            hits += 1\n",
    "    return hits == len(intervals)\n",
    "\n",
    "site_urls = list(set(df.site_url))\n",
    "\n",
    "persist_intervals = list(filter(lambda interval: interval[0] >= 2010, intervals))\n",
    "persistent_site_urls = set((site_url for site_url,site_df in df.groupby(\"site_url\") if present_for_desired_intervals(site_df,site_url,persist_intervals)))"
   ]
  },
  {
   "cell_type": "code",
   "execution_count": 6,
   "metadata": {},
   "outputs": [],
   "source": [
    "persistent_site_urls = set(persistent_site_urls)\n",
    "\n",
    "def filter_persistent_sites(row):\n",
    "    if row.site_url in persistent_site_urls and (row.year,row.season) in persist_intervals:\n",
    "        return True\n",
    "    return False\n",
    "\n",
    "    \n",
    "df_persistent = df[df.apply(filter_persistent_sites,axis=1)]"
   ]
  },
  {
   "cell_type": "code",
   "execution_count": 7,
   "metadata": {},
   "outputs": [],
   "source": [
    "top1kdoms = set(df[df.alexa_rank <= 1000].site_url)\n",
    "df_1k = df[df.site_url.isin(top1kdoms)]"
   ]
  },
  {
   "cell_type": "code",
   "execution_count": 8,
   "metadata": {},
   "outputs": [
    {
     "data": {
      "text/plain": [
       "1594"
      ]
     },
     "execution_count": 8,
     "metadata": {},
     "output_type": "execute_result"
    }
   ],
   "source": [
    "len(set(df_persistent.site_url))"
   ]
  },
  {
   "cell_type": "code",
   "execution_count": 9,
   "metadata": {},
   "outputs": [
    {
     "data": {
      "text/plain": [
       "0.5"
      ]
     },
     "execution_count": 9,
     "metadata": {},
     "output_type": "execute_result"
    }
   ],
   "source": [
    "pd.DataFrame({\"A\":[True,False,None]}).A.mean()"
   ]
  },
  {
   "cell_type": "code",
   "execution_count": null,
   "metadata": {},
   "outputs": [],
   "source": []
  },
  {
   "cell_type": "code",
   "execution_count": 10,
   "metadata": {},
   "outputs": [],
   "source": [
    "update_ratio = df.groupby('year_season').simhash_updated.mean()\n",
    "update_df = update_ratio.to_frame()\n",
    "update_df[\"strict_updated\"] = df.groupby('year_season').strict_updated.mean()\n",
    "update_df[\"interval\"] = pd.Series(list(update_ratio.index),index=update_ratio.index)"
   ]
  },
  {
   "cell_type": "code",
   "execution_count": 11,
   "metadata": {},
   "outputs": [],
   "source": [
    "def set_x_ticks(df):\n",
    "    unique_intervals = df['interval'].unique()\n",
    "    num_intervals = len(unique_intervals)\n",
    "    unique_years = sorted(set([int(interval.split(\"_\")[0]) for interval in unique_intervals]))\n",
    "    plt.xticks(np.arange(0, num_intervals, 2) + 0.5, unique_years, rotation=\"vertical\")"
   ]
  },
  {
   "cell_type": "code",
   "execution_count": 12,
   "metadata": {},
   "outputs": [
    {
     "data": {
      "text/plain": [
       "<matplotlib.legend.Legend at 0x7f49c20ba1d0>"
      ]
     },
     "execution_count": 12,
     "metadata": {},
     "output_type": "execute_result"
    },
    {
     "data": {
      "image/png": "[encoded data removed]",
      "text/plain": [
       "<Figure size 432x288 with 1 Axes>"
      ]
     },
     "metadata": {},
     "output_type": "display_data"
    }
   ],
   "source": [
    "sns.lineplot(x=\"interval\",y=\"simhash_updated\",data=update_df,label=\"Simhash\")\n",
    "sns.lineplot(x=\"interval\",y=\"strict_updated\",data=update_df,label=\"Strict\")\n",
    "set_x_ticks(update_df)\n",
    "plt.legend()"
   ]
  },
  {
   "cell_type": "code",
   "execution_count": null,
   "metadata": {},
   "outputs": [],
   "source": [
    "from tqdm import tqdm\n",
    "import simhash\n",
    "SIMHASH_THRESHOLD = 3\n",
    "\n",
    "def mark_updated_policies(df):\n",
    "    strict_updated = set()\n",
    "    simhash_updated = set()\n",
    "    null_update = set()\n",
    "\n",
    "    last_sha1s = {}\n",
    "    last_simhashes =  {}\n",
    "    \n",
    "\n",
    "    for index, row in tqdm(df.iterrows()):\n",
    "        site_url = row['site_url']\n",
    "        curr_simhash = row['simhash']\n",
    "        curr_sha1 = row['sha1']\n",
    "        year = row['year']\n",
    "        season = row['season']\n",
    "        homepage_snapshot_url = row['homepage_snapshot_url']\n",
    "\n",
    "        t = last_sha1s.get(site_url)\n",
    "        if t is not None:\n",
    "            last_sha1, l_year, l_season = t\n",
    "            \n",
    "            if last_sha1 != curr_sha1:\n",
    "                strict_updated.add(homepage_snapshot_url)\n",
    "\n",
    "            last_simhash, l_year, l_season = last_simhashes.get(site_url)\n",
    "            if simhash.num_differing_bits(last_simhash, curr_simhash) > SIMHASH_THRESHOLD:\n",
    "                simhash_updated.add(homepage_snapshot_url)\n",
    "        last_simhashes[site_url] = (curr_simhash, year, season)\n",
    "        last_sha1s[site_url] = (curr_sha1, year, season)\n",
    "        \n",
    "        if t is not None and ((season == 'A' and (year - 1 == l_year and l_season == 'B')) or (season == 'B' and (year == l_year and l_season == 'B'))):\n",
    "            pass\n",
    "        else:\n",
    "            null_update.add(homepage_snapshot_url)\n",
    "\n",
    "    def in_or_null_strict(homepage_snapshot_url):\n",
    "        if homepage_snapshot_url in null_update:\n",
    "            return None\n",
    "        else:\n",
    "            return homepage_snapshot_url in strict_updated\n",
    "            \n",
    "    \n",
    "    def in_or_null_simhash(homepage_snapshot_url):\n",
    "        if homepage_snapshot_url in null_update:\n",
    "            return None\n",
    "        else:\n",
    "            return homepage_snapshot_url in simhash_updated\n",
    "            \n",
    "    df['strict_updated'] = df.homepage_snapshot_url.map(in_or_null_strict)\n",
    "    df['simhash_updated'] = df.homepage_snapshot_url.map(in_or_null_simhash)\n",
    "    return df"
   ]
  },
  {
   "cell_type": "code",
   "execution_count": null,
   "metadata": {},
   "outputs": [],
   "source": [
    "def mark_updated_policies(df):\n",
    "    strict_updated = set()\n",
    "    simhash_updated = set()\n",
    "\n",
    "    last_sha1s = {}\n",
    "    last_simhashes =  {}\n",
    "\n",
    "    for index, row in tqdm(df.iterrows()):\n",
    "        site_url = row['site_url']\n",
    "        curr_simhash = row['simhash']\n",
    "        curr_sha1 = row['sha1']\n",
    "        homepage_snapshot_url = row['homepage_snapshot_url']\n",
    "\n",
    "        last_sha1 = last_sha1s.get(site_url)\n",
    "        if last_sha1 is not None and last_sha1 != curr_sha1:\n",
    "            strict_updated.add(homepage_snapshot_url)\n",
    "        last_sha1s[site_url] = curr_sha1\n",
    "\n",
    "        last_simhash = last_simhashes.get(site_url)\n",
    "        if last_simhash is not None and simhash.num_differing_bits(last_simhash, curr_simhash) > SIMHASH_THRESHOLD:\n",
    "            simhash_updated.add(homepage_snapshot_url)\n",
    "        last_simhashes[site_url] = curr_simhash\n",
    "\n",
    "    df['strict_updated'] = df.homepage_snapshot_url.isin(strict_updated)\n",
    "    df['simhash_updated'] = df.homepage_snapshot_url.isin(simhash_updated)"
   ]
  },
  {
   "cell_type": "code",
   "execution_count": 62,
   "metadata": {},
   "outputs": [],
   "source": [
    "def mark_updated_policies(df):\n",
    "    \n",
    "    last_policy = {}\n",
    "    update_ratio = pd.Series(100,index=df.index,name=\"update_ratio\")\n",
    "    for index, row in tqdm(df.sort_values(\"year_season\").iterrows(),total=len(df)):\n",
    "        if row.site_url in last_policy:\n",
    "            update_ratio.loc[index] = fuzz.ratio(row.policy_text,last_policy[row.site_url])\n",
    "        last_policy[row.site_url] = row.policy_text\n",
    "    df['update_ratio'] = update_ratio\n",
    "    return df"
   ]
  },
  {
   "cell_type": "code",
   "execution_count": null,
   "metadata": {},
   "outputs": [],
   "source": [
    "def default_mean(s):\n",
    "    try:\n",
    "        return s.mean()\n",
    "    except:\n",
    "        return 0"
   ]
  },
  {
   "cell_type": "code",
   "execution_count": 40,
   "metadata": {},
   "outputs": [],
   "source": [
    "#Load the data\n",
    "import pickle\n",
    "with open(\"../data/deduped_policy_text_v11no_html_with_links_and_emails.pickle\", \"rb\") as f:\n",
    "#with open(\"../data/deduped_policy_text_v11.pickle\", \"rb\") as f:\n",
    "    df_deduped_full = pickle.load(f)\n",
    "    df_deduped = df_deduped_full.sample(10000)"
   ]
  },
  {
   "cell_type": "code",
   "execution_count": 73,
   "metadata": {},
   "outputs": [],
   "source": [
    "df_deduped = df_deduped_full"
   ]
  },
  {
   "cell_type": "code",
   "execution_count": 74,
   "metadata": {},
   "outputs": [
    {
     "data": {
      "text/plain": [
       "['site_url',\n",
       " 'year',\n",
       " 'season',\n",
       " 'policy_text',\n",
       " 'policy_snapshot_url',\n",
       " 'policy_filetype',\n",
       " 'raw_source_path',\n",
       " 'link_text',\n",
       " 'homepage_snapshot_url',\n",
       " 'homepage_snapshot_redirected_url',\n",
       " 'sha1',\n",
       " 'flesch_kincaid',\n",
       " 'smog',\n",
       " 'flesch_ease',\n",
       " 'policy_title',\n",
       " 'text_len',\n",
       " 'word_count',\n",
       " 'year_season',\n",
       " 'simhash',\n",
       " 'policy_url',\n",
       " 'home_domain',\n",
       " 'ip_based_homepage_url',\n",
       " 'categories',\n",
       " 'policy_snapshot_domain',\n",
       " 'strict_updated',\n",
       " 'simhash_updated',\n",
       " 'homepage_snapshot_domain',\n",
       " 'homepage_snapshot_redirected_domain',\n",
       " 'parked_domain',\n",
       " 'classifier_probability',\n",
       " 'alexa_rank',\n",
       " 'cross_domain_homepage_redir',\n",
       " 'redirected_to_similar_domain',\n",
       " 'cross_domain_policy',\n",
       " 'emails',\n",
       " 'has_email',\n",
       " 'links',\n",
       " 'has_external_link']"
      ]
     },
     "execution_count": 74,
     "metadata": {},
     "output_type": "execute_result"
    }
   ],
   "source": [
    "list(df_deduped)"
   ]
  },
  {
   "cell_type": "code",
   "execution_count": 75,
   "metadata": {},
   "outputs": [
    {
     "name": "stderr",
     "output_type": "stream",
     "text": [
      " 89%|████████▊ | 807016/910546 [7:04:34<2:15:33, 12.73it/s]  IOPub message rate exceeded.\n",
      "The notebook server will temporarily stop sending output\n",
      "to the client in order to avoid crashing it.\n",
      "To change this limit, set the config variable\n",
      "`--NotebookApp.iopub_msg_rate_limit`.\n",
      "\n",
      "Current values:\n",
      "NotebookApp.iopub_msg_rate_limit=1000.0 (msgs/sec)\n",
      "NotebookApp.rate_limit_window=3.0 (secs)\n",
      "\n",
      "100%|██████████| 910546/910546 [10:09:36<00:00, 24.89it/s]   \n"
     ]
    }
   ],
   "source": [
    "df_deduped = mark_updated_policies(df_deduped)"
   ]
  },
  {
   "cell_type": "code",
   "execution_count": null,
   "metadata": {},
   "outputs": [],
   "source": [
    "update_ratio = df.groupby('year_season').simhash_updated.apply(default_mean)#mean()\n",
    "update_df = update_ratio.to_frame()\n",
    "update_df[\"strict_updated\"] = df.groupby('year_season').strict_updated.apply(default_mean)#mean()\n",
    "update_df[\"interval\"] = pd.Series(list(update_ratio.index),index=update_ratio.index)\n",
    "update_df[\"simhash_update_deduped\"] = df_deduped.groupby('year_season').simhash_updated.apply(default_mean)#mean()\n",
    "update_df[\"strict_updated_deduped\"] = df_deduped.groupby('year_season').strict_updated.apply(default_mean)#mean()\n",
    "update_df[\"interval\"] = pd.Series(list(update_ratio.index),index=update_ratio.index)\n",
    "sns.lineplot(x=\"interval\",y=\"simhash_update_deduped\",data=update_df,label=\"Simhash (Deduped)\")\n",
    "sns.lineplot(x=\"interval\",y=\"strict_updated_deduped\",data=update_df,label=\"Strict (Deduped)\")\n",
    "sns.lineplot(x=\"interval\",y=\"simhash_updated\",data=update_df,label=\"Simhash\")\n",
    "fig = sns.lineplot(x=\"interval\",y=\"strict_updated\",data=update_df,label=\"Strict\")\n",
    "#set_x_ticks(update_df)\n",
    "\n",
    "xlabels = sorted(list(set(update_df.interval)))\n",
    "xlabels = map(lambda s: s.replace(\"_\",\"\"), xlabels)\n",
    "#fig.set_xticklabels(fig.get_xticklabels())\n",
    "fig.set_xticklabels(xlabels, rotation=90, fontsize='small')\n",
    "\n",
    "\n",
    "plt.legend()"
   ]
  },
  {
   "cell_type": "code",
   "execution_count": null,
   "metadata": {},
   "outputs": [],
   "source": [
    "df[df.year_season == \"2009_A\"].simhash_updated"
   ]
  },
  {
   "cell_type": "code",
   "execution_count": null,
   "metadata": {},
   "outputs": [],
   "source": [
    "df = df.drop(\"strict_updated\",axis=1).drop(\"simhash_updated\",axis=1)\n",
    "df = mark_updated_policies(df)"
   ]
  },
  {
   "cell_type": "code",
   "execution_count": null,
   "metadata": {},
   "outputs": [],
   "source": []
  },
  {
   "cell_type": "code",
   "execution_count": null,
   "metadata": {},
   "outputs": [],
   "source": [
    "sns.lineplot(x=\"interval\",y=\"simhash_updated\",data=update_df,label=\"Simhash\")\n",
    "sns.lineplot(x=\"interval\",y=\"strict_updated\",data=update_df,label=\"Strict\")\n",
    "set_x_ticks(update_df)\n",
    "plt.legend()"
   ]
  },
  {
   "cell_type": "code",
   "execution_count": null,
   "metadata": {},
   "outputs": [],
   "source": [
    "update_ratio = df_persistent.groupby('year_season').simhash_updated.apply(default_mean)#mean()\n",
    "update_df = update_ratio.to_frame()\n",
    "update_df[\"strict_updated\"] = df_persistent.groupby('year_season').strict_updated.apply(default_mean)#mean()\n",
    "update_df[\"interval\"] = pd.Series(list(update_ratio.index),index=update_ratio.index)\n",
    "sns.lineplot(x=\"interval\",y=\"simhash_updated\",data=update_df,label=\"Simhash\")\n",
    "fig = sns.lineplot(x=\"interval\",y=\"strict_updated\",data=update_df,label=\"Strict\")\n",
    "\n",
    "set_x_ticks(update_df)\n",
    "\n",
    "fig.set_ylim(0,1)\n",
    "\n",
    "plt.legend()"
   ]
  },
  {
   "cell_type": "code",
   "execution_count": null,
   "metadata": {},
   "outputs": [],
   "source": [
    "update_ratio = df_1k.groupby('year_season').simhash_updated.apply(default_mean)#mean()\n",
    "update_df = update_ratio.to_frame()\n",
    "update_df[\"strict_updated\"] = df_1k.groupby('year_season').strict_updated.apply(default_mean)#mean()\n",
    "update_df[\"interval\"] = pd.Series(list(update_ratio.index),index=update_ratio.index)\n",
    "sns.lineplot(x=\"interval\",y=\"simhash_updated\",data=update_df,label=\"Simhash\")\n",
    "fig = sns.lineplot(x=\"interval\",y=\"strict_updated\",data=update_df,label=\"Strict\")\n",
    "\n",
    "set_x_ticks(update_df)\n",
    "\n",
    "fig.set_ylim(0,1)\n",
    "\n",
    "plt.legend()"
   ]
  },
  {
   "cell_type": "markdown",
   "metadata": {},
   "source": [
    "# Fuzzy Updates"
   ]
  },
  {
   "cell_type": "code",
   "execution_count": null,
   "metadata": {},
   "outputs": [],
   "source": [
    "import nltk\n",
    "import nltk.stem"
   ]
  },
  {
   "cell_type": "code",
   "execution_count": null,
   "metadata": {},
   "outputs": [],
   "source": [
    "lemmatizer = nltk.stem.WordNetLemmatizer()"
   ]
  },
  {
   "cell_type": "code",
   "execution_count": null,
   "metadata": {},
   "outputs": [],
   "source": [
    "gdpr_phrases = []\n",
    "with open(\"data/GDPR_phrases.txt\") as f:\n",
    "    for line in f.readlines():\n",
    "        gdpr_phrases.append(\" \".join(map(lemmatizer.lemmatize,line.split(\" \"))))"
   ]
  },
  {
   "cell_type": "code",
   "execution_count": 33,
   "metadata": {},
   "outputs": [
    {
     "ename": "SyntaxError",
     "evalue": "unexpected EOF while parsing (<ipython-input-33-d0d04ea1b62f>, line 1)",
     "output_type": "error",
     "traceback": [
      "\u001b[0;36m  File \u001b[0;32m\"<ipython-input-33-d0d04ea1b62f>\"\u001b[0;36m, line \u001b[0;32m1\u001b[0m\n\u001b[0;31m    def lemmatize_policy(policy_text):\u001b[0m\n\u001b[0m                                      ^\u001b[0m\n\u001b[0;31mSyntaxError\u001b[0m\u001b[0;31m:\u001b[0m unexpected EOF while parsing\n"
     ]
    }
   ],
   "source": [
    "def lemmatize_policy(policy_text):\n",
    "    return \" \".join(map(lemmatizer.lemmatize,nltk.word_tokenize(policy_text)))"
   ]
  },
  {
   "cell_type": "code",
   "execution_count": null,
   "metadata": {},
   "outputs": [],
   "source": [
    "df_deduped[\"policy_text_lemmatized\"] = df_deduped.policy_text.map(lemmatize_policy)"
   ]
  },
  {
   "cell_type": "code",
   "execution_count": null,
   "metadata": {},
   "outputs": [],
   "source": [
    "cols = []\n",
    "for phrase in gdpr_phrases:\n",
    "    df_phrase_count = df_deduped.groupby(\"year_season\").policy_text_lemmatized.str.contains(phrase).value_counts().True\n",
    "    df_phrase_count[\"phrase\"] = phrase\n",
    "    cols.append(\n",
    "        df_phrase_count\n",
    "    )\n"
   ]
  },
  {
   "cell_type": "code",
   "execution_count": null,
   "metadata": {},
   "outputs": [],
   "source": [
    "sns.lineplot(x=\"year_season\",\"\")"
   ]
  },
  {
   "cell_type": "code",
   "execution_count": 78,
   "metadata": {},
   "outputs": [],
   "source": [
    "df_deduped = df_deduped.sort_values(\"year_season\")\n",
    "df_deduped[\"update_ratio_95\"] = df_deduped.update_ratio <= 95"
   ]
  },
  {
   "cell_type": "code",
   "execution_count": 68,
   "metadata": {},
   "outputs": [
    {
     "data": {
      "text/plain": [
       "10000"
      ]
     },
     "execution_count": 68,
     "metadata": {},
     "output_type": "execute_result"
    }
   ],
   "source": [
    "len(df_deduped)"
   ]
  },
  {
   "cell_type": "code",
   "execution_count": 82,
   "metadata": {},
   "outputs": [
    {
     "data": {
      "text/plain": [
       "<AxesSubplot:xlabel='year_season', ylabel='count'>"
      ]
     },
     "execution_count": 82,
     "metadata": {},
     "output_type": "execute_result"
    },
    {
     "data": {
      "image/png": "[encoded data removed]",
      "text/plain": [
       "<Figure size 432x288 with 1 Axes>"
      ]
     },
     "metadata": {},
     "output_type": "display_data"
    }
   ],
   "source": [
    "updates_ct = pd.DataFrame(df_deduped.groupby(\"year_season\").apply(lambda df: len(df[df.update_ratio <= 95]) / len(df_deduped[df_deduped.year_season == df.year_season.iloc[0]])).rename(\"count\")).reset_index()\n",
    "#sns.lineplot()\n",
    "sns.lineplot(x=\"year_season\",y=\"count\",data=updates_ct)"
   ]
  },
  {
   "cell_type": "code",
   "execution_count": 80,
   "metadata": {},
   "outputs": [
    {
     "data": {
      "text/plain": [
       "<AxesSubplot:xlabel='year_season', ylabel='update_ratio_95'>"
      ]
     },
     "execution_count": 80,
     "metadata": {},
     "output_type": "execute_result"
    },
    {
     "data": {
      "image/png": "[encoded data removed]",
      "text/plain": [
       "<Figure size 432x288 with 1 Axes>"
      ]
     },
     "metadata": {},
     "output_type": "display_data"
    }
   ],
   "source": [
    "sns.lineplot(x=\"year_season\", y=\"update_ratio_95\",data=df_deduped,)"
   ]
  },
  {
   "cell_type": "code",
   "execution_count": 66,
   "metadata": {},
   "outputs": [
    {
     "data": {
      "text/plain": [
       "site_url                                                               http://ebooks.com\n",
       "year                                                                                2006\n",
       "season                                                                                 B\n",
       "policy_text                            Download a book today  \\n52,000 popular, profe...\n",
       "policy_snapshot_url                    https://web.archive.org/web/20060819083053id_/...\n",
       "policy_filetype                                                                     html\n",
       "raw_source_path                        crawl1/data-09/out/policy_html/6866_2006_B_200...\n",
       "link_text                                                                 Privacy Policy\n",
       "homepage_snapshot_url                  https://web.archive.org/web/20060929141439id_/...\n",
       "homepage_snapshot_redirected_url       https://web.archive.org/web/20060929141439id_/...\n",
       "sha1                                            7eec960afc8d66013592ee129011818e134e04ab\n",
       "flesch_kincaid                                                                   11.6723\n",
       "smog                                                                             12.3995\n",
       "flesch_ease                                                                    difficult\n",
       "policy_title                                                 eBooks.com - Help - Privacy\n",
       "text_len                                                                           11733\n",
       "word_count                                                                          1890\n",
       "year_season                                                                       2006_B\n",
       "simhash                                                             14220808753091512812\n",
       "policy_url                                            ebooks.com/information/privacy.asp\n",
       "home_domain                                                                   ebooks.com\n",
       "ip_based_homepage_url                                                              False\n",
       "categories                                                        entertainment;shopping\n",
       "policy_snapshot_domain                                                        ebooks.com\n",
       "strict_updated                                                                      True\n",
       "simhash_updated                                                                     True\n",
       "homepage_snapshot_domain                                                      ebooks.com\n",
       "homepage_snapshot_redirected_domain                                           ebooks.com\n",
       "parked_domain                                                                      False\n",
       "classifier_probability                                                              0.99\n",
       "alexa_rank                                                                           NaN\n",
       "cross_domain_homepage_redir                                                        False\n",
       "redirected_to_similar_domain                                                        True\n",
       "cross_domain_policy                                                                    0\n",
       "emails                                                             (privacy@ebooks.com,)\n",
       "has_email                                                                           True\n",
       "links                                  (http://www.truste.org/consumers/watchdog_comp...\n",
       "has_external_link                                                                   True\n",
       "update_ratio                                                                         100\n",
       "update_ratio_95                                                                    False\n",
       "Name: 1060718, dtype: object"
      ]
     },
     "execution_count": 66,
     "metadata": {},
     "output_type": "execute_result"
    }
   ],
   "source": [
    "row = df_deduped.sample(1).iloc[0]\n",
    "row"
   ]
  },
  {
   "cell_type": "code",
   "execution_count": null,
   "metadata": {},
   "outputs": [],
   "source": []
  }
 ],
 "metadata": {
  "kernelspec": {
   "display_name": "Python 3",
   "language": "python",
   "name": "python3"
  },
  "language_info": {
   "codemirror_mode": {
    "name": "ipython",
    "version": 3
   },
   "file_extension": ".py",
   "mimetype": "text/x-python",
   "name": "python",
   "nbconvert_exporter": "python",
   "pygments_lexer": "ipython3",
   "version": "3.7.3"
  }
 },
 "nbformat": 4,
 "nbformat_minor": 4
}
