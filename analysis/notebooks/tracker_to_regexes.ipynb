{
 "cells": [
  {
   "cell_type": "code",
   "execution_count": 3,
   "metadata": {},
   "outputs": [],
   "source": [
    "import tld\n",
    "import json"
   ]
  },
  {
   "cell_type": "code",
   "execution_count": 4,
   "metadata": {},
   "outputs": [
    {
     "name": "stdout",
     "output_type": "stream",
     "text": [
      "<class 'tld.exceptions.TldBadUrl'>\n"
     ]
    }
   ],
   "source": [
    "try:\n",
    "    tld.get_fld(\"blah\")\n",
    "except tld.exceptions.TldBadUrl as e:\n",
    "    print(type(e))"
   ]
  },
  {
   "cell_type": "code",
   "execution_count": 14,
   "metadata": {},
   "outputs": [],
   "source": [
    "top_trackers = {\n",
    "    \"Yahoo/AOL\": ((\"Yahoo\",\"AOL\",\"America Online\"),\"Verizon Media.json\"),\n",
    "    \"Facebook\": ((\"Facebook\",), \"Facebook, Inc..json\"),\n",
    "    \"Twitter\": ((\"Twitter\",), \"Twitter, Inc..json\"),\n",
    "    \"Google\": ((\"Google\",\"Doubleclick\"), \"Google LLC.json\"),\n",
    "    \"Amazon\": ((\"Amazon\",), \"Amazon Technologies, Inc..json\"),\n",
    "    \"Automattic\": ((\"Automattic\",), \"Automattic, Inc..json\"),\n",
    "    \"Cloudflare\": ((\"Cloudflare\",), \"Cloudflare, Inc..json\"),\n",
    "    \"AppNexus\": ((\"AppNexus\",), \"AppNexus, Inc..json\")\n",
    "}"
   ]
  },
  {
   "cell_type": "code",
   "execution_count": 17,
   "metadata": {},
   "outputs": [],
   "source": [
    "labels = []\n",
    "terms = []\n",
    "for label, (names, fn) in top_trackers.items():\n",
    "    with open(\"../../tracker-radar/entities/%s\" % fn, \"r\") as f:\n",
    "        doms = json.load(f)[\"properties\"]\n",
    "    doms = map(lambda s: r\"\\b%s\\b\" % s.replace(r\".\", r\"\\.\"), doms)\n",
    "    dom_query = r\"(?:%s)\" % \"|\".join(doms)\n",
    "    names = map(lambda s: r\"\\b%s\\b\" % s, names)\n",
    "    name_query = r\"(?:%s)\" % \"|\".join(names)\n",
    "    terms.append((name_query,dom_query))\n",
    "    labels.append(label)"
   ]
  },
  {
   "cell_type": "code",
   "execution_count": 16,
   "metadata": {},
   "outputs": [
    {
     "data": {
      "text/plain": [
       "['Yahoo/AOL',\n",
       " 'Facebook',\n",
       " 'Twitter',\n",
       " 'Google',\n",
       " 'Amazon',\n",
       " 'Automattic',\n",
       " 'Cloudflare',\n",
       " 'AppNexus']"
      ]
     },
     "execution_count": 16,
     "metadata": {},
     "output_type": "execute_result"
    }
   ],
   "source": [
    "labels"
   ]
  },
  {
   "cell_type": "code",
   "execution_count": null,
   "metadata": {},
   "outputs": [],
   "source": []
  }
 ],
 "metadata": {
  "kernelspec": {
   "display_name": "Python 3",
   "language": "python",
   "name": "python3"
  },
  "language_info": {
   "codemirror_mode": {
    "name": "ipython",
    "version": 3
   },
   "file_extension": ".py",
   "mimetype": "text/x-python",
   "name": "python",
   "nbconvert_exporter": "python",
   "pygments_lexer": "ipython3",
   "version": "3.7.3"
  }
 },
 "nbformat": 4,
 "nbformat_minor": 4
}
