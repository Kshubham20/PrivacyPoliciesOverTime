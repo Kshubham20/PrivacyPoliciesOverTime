{
 "cells": [
  {
   "cell_type": "code",
   "execution_count": 9,
   "metadata": {},
   "outputs": [],
   "source": [
    "import historical.util as util\n",
    "import historical.ioutils as ioutils\n",
    "import nltk"
   ]
  },
  {
   "cell_type": "code",
   "execution_count": 3,
   "metadata": {},
   "outputs": [],
   "source": [
    "#We need to initialize util\n",
    "import argparse\n",
    "parse = argparse.ArgumentParser()\n",
    "util.add_arguments(parse)\n",
    "#--use-sample for faster, lower memory tests, although things are pretty fast as-is\n",
    "args = parse.parse_args(args=[\"--use-sample\"])\n",
    "#args = parse.parse_args(args=[])\n",
    "util.process_arguments(args)"
   ]
  },
  {
   "cell_type": "code",
   "execution_count": 10,
   "metadata": {
    "scrolled": true
   },
   "outputs": [],
   "source": [
    "fd = nltk.probability.FreqDist()\n",
    "for _,(ct,phrase,*_) in ioutils.load_grams_parallel(2):\n",
    "    fd[phrase] += ct"
   ]
  },
  {
   "cell_type": "code",
   "execution_count": 11,
   "metadata": {},
   "outputs": [
    {
     "name": "stdout",
     "output_type": "stream",
     "text": [
      "<FreqDist with 222657 samples and 3995139 outcomes>\n"
     ]
    }
   ],
   "source": [
    "print(fd)"
   ]
  },
  {
   "cell_type": "code",
   "execution_count": null,
   "metadata": {},
   "outputs": [],
   "source": []
  }
 ],
 "metadata": {
  "kernelspec": {
   "display_name": "Python 3",
   "language": "python",
   "name": "python3"
  },
  "language_info": {
   "codemirror_mode": {
    "name": "ipython",
    "version": 3
   },
   "file_extension": ".py",
   "mimetype": "text/x-python",
   "name": "python",
   "nbconvert_exporter": "python",
   "pygments_lexer": "ipython3",
   "version": "3.7.3"
  }
 },
 "nbformat": 4,
 "nbformat_minor": 4
}
