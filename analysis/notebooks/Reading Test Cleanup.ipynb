{
 "cells": [
  {
   "cell_type": "code",
   "execution_count": 34,
   "metadata": {},
   "outputs": [],
   "source": [
    "from readability import Readability\n",
    "from readability.exceptions import ReadabilityException\n",
    "import re\n",
    "import numpy as np\n",
    "import math\n",
    "import nltk\n",
    "import pandas as pd\n",
    "import traceback\n",
    "\n",
    "import seaborn as sns"
   ]
  },
  {
   "cell_type": "code",
   "execution_count": 35,
   "metadata": {},
   "outputs": [],
   "source": [
    "import mistune\n",
    "import mistune.renderers"
   ]
  },
  {
   "cell_type": "code",
   "execution_count": 36,
   "metadata": {},
   "outputs": [
    {
     "name": "stdout",
     "output_type": "stream",
     "text": [
      "INFO: Pandarallel will run on 32 workers.\n",
      "INFO: Pandarallel will use Memory file system to transfer data between the main process and workers.\n"
     ]
    }
   ],
   "source": [
    "from pandarallel import pandarallel\n",
    "\n",
    "pandarallel.initialize(nb_workers=32)"
   ]
  },
  {
   "cell_type": "code",
   "execution_count": 37,
   "metadata": {},
   "outputs": [],
   "source": [
    "import matplotlib.pyplot as plt\n",
    "%matplotlib inline\n",
    "\n",
    "plt.rcParams['figure.figsize'] = [10,6]\n",
    "plt.rcParams['axes.titlesize'] = \"xx-large\""
   ]
  },
  {
   "cell_type": "code",
   "execution_count": 38,
   "metadata": {},
   "outputs": [
    {
     "ename": "KeyboardInterrupt",
     "evalue": "",
     "output_type": "error",
     "traceback": [
      "\u001b[0;31m---------------------------------------------------------------------------\u001b[0m",
      "\u001b[0;31mKeyboardInterrupt\u001b[0m                         Traceback (most recent call last)",
      "\u001b[0;32m<ipython-input-38-63ad213d2a5a>\u001b[0m in \u001b[0;36m<module>\u001b[0;34m\u001b[0m\n\u001b[1;32m      2\u001b[0m \u001b[0;32mimport\u001b[0m \u001b[0mpickle\u001b[0m\u001b[0;34m\u001b[0m\u001b[0;34m\u001b[0m\u001b[0m\n\u001b[1;32m      3\u001b[0m \u001b[0;32mwith\u001b[0m \u001b[0mopen\u001b[0m\u001b[0;34m(\u001b[0m\u001b[0;34m\"../data/policy_text_v11.pickle\"\u001b[0m\u001b[0;34m,\u001b[0m \u001b[0;34m\"rb\"\u001b[0m\u001b[0;34m)\u001b[0m \u001b[0;32mas\u001b[0m \u001b[0mf\u001b[0m\u001b[0;34m:\u001b[0m\u001b[0;34m\u001b[0m\u001b[0;34m\u001b[0m\u001b[0m\n\u001b[0;32m----> 4\u001b[0;31m     \u001b[0mdf\u001b[0m \u001b[0;34m=\u001b[0m \u001b[0mpickle\u001b[0m\u001b[0;34m.\u001b[0m\u001b[0mload\u001b[0m\u001b[0;34m(\u001b[0m\u001b[0mf\u001b[0m\u001b[0;34m)\u001b[0m\u001b[0;34m\u001b[0m\u001b[0;34m\u001b[0m\u001b[0m\n\u001b[0m",
      "\u001b[0;32m/n/fs/policyphylog/PrivacyPolicyPlagiarism/.venv/lib/python3.7/site-packages/pandas/core/indexes/base.py\u001b[0m in \u001b[0;36m_new_Index\u001b[0;34m(cls, d)\u001b[0m\n\u001b[1;32m    155\u001b[0m \u001b[0;34m\u001b[0m\u001b[0m\n\u001b[1;32m    156\u001b[0m \u001b[0;34m\u001b[0m\u001b[0m\n\u001b[0;32m--> 157\u001b[0;31m \u001b[0;32mdef\u001b[0m \u001b[0m_new_Index\u001b[0m\u001b[0;34m(\u001b[0m\u001b[0mcls\u001b[0m\u001b[0;34m,\u001b[0m \u001b[0md\u001b[0m\u001b[0;34m)\u001b[0m\u001b[0;34m:\u001b[0m\u001b[0;34m\u001b[0m\u001b[0;34m\u001b[0m\u001b[0m\n\u001b[0m\u001b[1;32m    158\u001b[0m     \"\"\"\n\u001b[1;32m    159\u001b[0m     \u001b[0mThis\u001b[0m \u001b[0;32mis\u001b[0m \u001b[0mcalled\u001b[0m \u001b[0mupon\u001b[0m \u001b[0munpickling\u001b[0m\u001b[0;34m,\u001b[0m \u001b[0mrather\u001b[0m \u001b[0mthan\u001b[0m \u001b[0mthe\u001b[0m \u001b[0mdefault\u001b[0m \u001b[0mwhich\u001b[0m \u001b[0mdoesn\u001b[0m\u001b[0;31m'\u001b[0m\u001b[0mt\u001b[0m\u001b[0;34m\u001b[0m\u001b[0;34m\u001b[0m\u001b[0m\n",
      "\u001b[0;31mKeyboardInterrupt\u001b[0m: "
     ]
    }
   ],
   "source": [
    "#Load the data\n",
    "import pickle\n",
    "with open(\"../data/policy_text_v11.pickle\", \"rb\") as f:\n",
    "    df = pickle.load(f)"
   ]
  },
  {
   "cell_type": "markdown",
   "metadata": {},
   "source": [
    "# Clean up"
   ]
  },
  {
   "cell_type": "code",
   "execution_count": 5,
   "metadata": {},
   "outputs": [],
   "source": [
    "valid_end_punct = set((\".\",\"!\",\"?\",'\"',\"'\"))\n",
    "def strip_incomplete_sentences(text,flag_components=False):\n",
    "    sentences = nltk.tokenize.sent_tokenize(text)\n",
    "    if len(sentences) == 0:\n",
    "        return \"\"\n",
    "    words = nltk.tokenize.word_tokenize(sentences[-1])\n",
    "    if not words[-1] in valid_end_punct:\n",
    "        if flag_components:\n",
    "            sentences[-1] = \"_cut_\" + sentences[-1] + \"_cut_\"\n",
    "        else:\n",
    "            sentences = sentences[:-1]\n",
    "    return \" \".join(sentences)\n",
    "\n",
    "class StraightTextRenderer(mistune.renderers.BaseRenderer):\n",
    "    \n",
    "    def __init__(self,flag_components):\n",
    "        self.flag_components = flag_components\n",
    "    \n",
    "    def text(self, text):\n",
    "        return text\n",
    "\n",
    "    def link(self, link, text=None, title=None):\n",
    "        if text is None:\n",
    "            return \"link\"\n",
    "        else:\n",
    "            return text\n",
    "\n",
    "    def image(self, src, alt=\"\", title=None):\n",
    "        return \"\"\n",
    "\n",
    "    def emphasis(self, text):\n",
    "        return text\n",
    "\n",
    "    def strong(self, text):\n",
    "        return text\n",
    "\n",
    "    def codespan(self, text):\n",
    "        if self.flag_components:\n",
    "            return \"\\n_codespan_%s_codespan\\n\" % text\n",
    "        else:\n",
    "            return \"\\n\"\n",
    "\n",
    "    def linebreak(self):\n",
    "        if self.flag_components:\n",
    "            return \"\\n_line break_\\n\"\n",
    "        else:\n",
    "            return \"\\n\"\n",
    "\n",
    "    def inline_html(self, html):\n",
    "        if self.flag_components:\n",
    "            return '\\n_inline-html_%s_inline-html_\\n' % html\n",
    "        else:\n",
    "            #HTML isn't prose\n",
    "            return \"\\n\"\n",
    "\n",
    "    def paragraph(self, text):\n",
    "        if text == '': return text\n",
    "        paragraphs = text.split('\\n')\n",
    "        paragraphs = (strip_incomplete_sentences(para,flag_components=self.flag_components) for para in paragraphs)\n",
    "        text = \"\\n\".join(paragraphs)\n",
    "        if self.flag_components:\n",
    "            return \"\\n_paragraph_\\n\" + text + \"\\n_paragraph_\\n\"\n",
    "        else:\n",
    "            return text + \"\\n\"\n",
    "\n",
    "    def heading(self, text, level):\n",
    "        if self.flag_components:\n",
    "            return '\\n_heading %d_ %s\\n' % (level,text)\n",
    "        else:\n",
    "            #Headings aren't prose\n",
    "            return \"\\n\"\n",
    "\n",
    "    def newline(self):\n",
    "        if self.flag_components:\n",
    "            return '\\n_newline_\\n'\n",
    "        else:\n",
    "            return \"\\n\"\n",
    "\n",
    "    def thematic_break(self):\n",
    "        if self.flag_components:\n",
    "            return '\\n_thematic-break_\\n'\n",
    "        else:\n",
    "            return \"\\n\"\n",
    "\n",
    "    def block_text(self, text):\n",
    "        if self.flag_components:\n",
    "            return '\\n_block-text_%s_block-text_\\n' % text\n",
    "        else:\n",
    "            return \"%s\\n\" % text\n",
    "\n",
    "    def block_code(self, code, info=None):\n",
    "        if self.flag_components:\n",
    "            if not code.strip():\n",
    "                return \"\\n\"\n",
    "            else:\n",
    "                return '\\n_block-code_%s_block-code_\\n' % code\n",
    "        else:\n",
    "            #This stuff usually isn't code, treat it as a paragraph\n",
    "            return self.paragraph(code)\n",
    "\n",
    "    def block_quote(self, text):\n",
    "        if self.flag_components:\n",
    "            return '\\n_block-quote_%s_block-quote_\\n' % text\n",
    "        else:\n",
    "            return \"%s\\n\" % text\n",
    "\n",
    "    def block_html(self, html):\n",
    "        if self.flag_components:\n",
    "            return \"\\n_block-html_%s_block-html\\n\" % html\n",
    "        else:\n",
    "            #HTML isn't prose\n",
    "            return  \"\\n\"\n",
    "\n",
    "    def block_error(self, html):\n",
    "        if self.flag_components:\n",
    "            return \"\\n_block-error_%s_block-error\\n\" % html\n",
    "        else:\n",
    "            #Errors aren't prose\n",
    "            return \"\\n\"\n",
    "\n",
    "    def list(self, text, ordered, level, start=None):\n",
    "        if text == '': return text\n",
    "        paragraphs = text.split('\\n')\n",
    "        paragraphs = [strip_incomplete_sentences(para,flag_components=self.flag_components) for para in paragraphs]\n",
    "        text = \"\\n\".join(paragraphs)\n",
    "        if self.flag_components:\n",
    "            return \"\\n_list %s %d_\\n%s\\n_list_\\n\" % (ordered, level, text)\n",
    "        else:\n",
    "            #Lists are inconsistent in how many sentences they represent\n",
    "            #Rule: If all of the rows are sentences, then we'll keep them\n",
    "            #If any stripped list item is empty, return empty for everything\n",
    "            if any((not list_item.strip() for list_item in paragraphs)):\n",
    "                return \"\\n\"\n",
    "            else:\n",
    "                return text + \"\\n\"\n",
    "\n",
    "    def list_item(self, text, level):\n",
    "        return \"%s\\n\" % text\n",
    "    \n",
    "    def strikethrough(self, text):\n",
    "        return \"\"\n",
    "    \n",
    "    def table(self, text):\n",
    "        if self.flag_components:\n",
    "            return '\\n_table_%s_table_\\n' % (text)\n",
    "        else:\n",
    "            return \"\\n\"\n",
    "    \n",
    "    def table_cell(self, content, align=None, is_head=False):\n",
    "        if self.flag_components:\n",
    "            return '\\n_cell_\\n'\n",
    "        else:\n",
    "            return \"\"\n",
    "    \n",
    "    def table_head(self, content):\n",
    "        if self.flag_components:\n",
    "            return '\\n_head_\\n'\n",
    "        else:\n",
    "            return \"\"\n",
    "        \n",
    "    def table_row(self, content):\n",
    "        if self.flag_components:\n",
    "            return '_row_%s_row_\\n' % content\n",
    "        else:\n",
    "            return \"\"\n",
    "        \n",
    "    def table_body(self, content):\n",
    "        if self.flag_components:\n",
    "            return '_body_%s_body_\\n' % content\n",
    "        else:\n",
    "            return \"\"\n",
    "    \n",
    "markdown = mistune.create_markdown(renderer=StraightTextRenderer(False))\n",
    "markdown_debug = mistune.create_markdown(renderer=StraightTextRenderer(True))\n",
    "\n",
    "#Install mistune plugins\n",
    "import mistune.plugins\n",
    "mistune.plugins.plugin_table(markdown)\n",
    "mistune.plugins.plugin_strikethrough(markdown)\n",
    "mistune.plugins.plugin_table(markdown_debug)\n",
    "mistune.plugins.plugin_strikethrough(markdown_debug)\n",
    "\n",
    "def clean(policy_text):\n",
    "    return markdown(policy_text)\n",
    "\n",
    "def clean_debug(policy_text):\n",
    "    return markdown_debug(policy_text)"
   ]
  },
  {
   "cell_type": "code",
   "execution_count": 6,
   "metadata": {},
   "outputs": [],
   "source": [
    "def get_readability(policy_text):\n",
    "    fk = Readability(clean(policy_text)).flesch_kincaid()\n",
    "    return fk.score"
   ]
  },
  {
   "cell_type": "code",
   "execution_count": 16,
   "metadata": {},
   "outputs": [],
   "source": [
    "def get_readability_ease(policy_text):\n",
    "    try:\n",
    "        fk = Readability(clean(policy_text)).flesch()\n",
    "        return fk.score\n",
    "    except ReadabilityException:\n",
    "        return None"
   ]
  },
  {
   "cell_type": "code",
   "execution_count": 8,
   "metadata": {},
   "outputs": [],
   "source": [
    "def compare_readability(policy_text):\n",
    "    fk1 = Readability(policy_text).flesch_kincaid()\n",
    "    s1 = fk1.score\n",
    "    try:\n",
    "        fk2 = Readability(clean(policy_text)).flesch_kincaid()\n",
    "        s2 = fk2.score\n",
    "    except ReadabilityException:\n",
    "        s2 = None\n",
    "    return s1, s2"
   ]
  },
  {
   "cell_type": "code",
   "execution_count": null,
   "metadata": {},
   "outputs": [],
   "source": [
    "df[\"flesch_ease_c\"] = df.policy_text.apply(get_readability_ease)"
   ]
  },
  {
   "cell_type": "code",
   "execution_count": 32,
   "metadata": {},
   "outputs": [
    {
     "data": {
      "text/plain": [
       "<matplotlib.lines.Line2D at 0x7f3e1bcc6198>"
      ]
     },
     "execution_count": 32,
     "metadata": {},
     "output_type": "execute_result"
    },
    {
     "data": {
      "image/png": "[encoded data removed]",
      "text/plain": [
       "<Figure size 720x432 with 1 Axes>"
      ]
     },
     "metadata": {
      "needs_background": "light"
     },
     "output_type": "display_data"
    }
   ],
   "source": [
    "kwargs = {\"cumulative\":True}\n",
    "fig = sns.distplot(df.flesch_ease_c.sample(1000))\n",
    "fig.axvline(10)\n",
    "fig.axvline(30)\n",
    "fig.axvline(50)\n",
    "fig.axvline(60)\n",
    "fig.axvline(70)\n",
    "fig.axvline(80)\n",
    "fig.axvline(90)\n",
    "fig.axvline(100)"
   ]
  },
  {
   "cell_type": "code",
   "execution_count": null,
   "metadata": {},
   "outputs": [],
   "source": [
    "df_sample = df[df.flesch_kincaid.notnull()].sample(1000)"
   ]
  },
  {
   "cell_type": "code",
   "execution_count": null,
   "metadata": {},
   "outputs": [],
   "source": [
    "def compare_row_readability(row):\n",
    "    site_url = row.site_url\n",
    "    year = row.year\n",
    "    season = row.season\n",
    "    try:\n",
    "        before, after = compare_readability(row.policy_text)\n",
    "    except KeyboardInterrupt:\n",
    "        raise\n",
    "    except:\n",
    "        print(site_url,year,season)\n",
    "        traceback.print_exc()\n",
    "        before = after = math.nan\n",
    "    return pd.Series({\"site_url\":site_url, \"year\":year,\"season\":season,\"before\":before,\"after\":after})\n",
    "\n",
    "#Extract subset with excessively high scores\n",
    "df_high = df_sample[df_sample.flesch_kincaid.notnull() & (df_sample.flesch_kincaid > 20)].sort_values(\"flesch_kincaid\",axis=0)\n",
    "print(len(df_high))\n",
    "df_scores = df_sample.apply(compare_row_readability,axis=1)\n",
    "#df_scores = df_scores[df_scores.before.notnull()]\n",
    "df_scores"
   ]
  },
  {
   "cell_type": "code",
   "execution_count": null,
   "metadata": {},
   "outputs": [],
   "source": [
    "df_scores[df_scores.after.notnull()]"
   ]
  },
  {
   "cell_type": "code",
   "execution_count": null,
   "metadata": {},
   "outputs": [],
   "source": [
    "df_scores[df_scores.after > 20]"
   ]
  },
  {
   "cell_type": "code",
   "execution_count": null,
   "metadata": {},
   "outputs": [],
   "source": [
    "def cumulative_graph(series,label):\n",
    "    counts = series[series.notnull()].sort_values()\n",
    "    #xs = sorted(list(set(counts)))\n",
    "    xs = sorted(list(counts))\n",
    "    ys = []\n",
    "    cumulative = 0\n",
    "    for count in counts:\n",
    "        cumulative += 1\n",
    "        ys.append(cumulative)\n",
    "    plt.plot(xs,ys,label=label)"
   ]
  },
  {
   "cell_type": "code",
   "execution_count": null,
   "metadata": {},
   "outputs": [],
   "source": [
    "df_high_scores = df_scores[df_scores.before > 20]\n",
    "cumulative_graph(df_scores.before,\"before\")\n",
    "cumulative_graph(df_scores.after,\"after\")\n",
    "plt.legend()\n",
    "#plt.xscale(\"log\")\n",
    "plt.xlim(0,25)\n",
    "pass"
   ]
  },
  {
   "cell_type": "code",
   "execution_count": null,
   "metadata": {},
   "outputs": [],
   "source": [
    "print(len(df_scores[df_scores.after.isnull()]))\n",
    "print(df_scores[df_scores.after.isnull()])\n",
    "s = df_scores[df_scores.after.isnull()].sample(1).iloc[0]"
   ]
  },
  {
   "cell_type": "code",
   "execution_count": null,
   "metadata": {},
   "outputs": [],
   "source": [
    "df_sample = df[df.flesch_kincaid.notnull()].sample(10000)\n"
   ]
  },
  {
   "cell_type": "code",
   "execution_count": null,
   "metadata": {},
   "outputs": [],
   "source": [
    "def has_code_block(row):\n",
    "    site_url = row.site_url\n",
    "    year = row.year\n",
    "    season = row.season\n",
    "    try:\n",
    "        cleaned = clean_debug(row.policy_text)\n",
    "        block_code = \"_block-code_\" in cleaned\n",
    "        inline_html = \"_inline-html_\" in cleaned\n",
    "        codespan = \"_codespan_\" in cleaned\n",
    "        block_html = \"_block-html_\" in cleaned\n",
    "    except KeyboardInterrupt:\n",
    "        raise\n",
    "    except:\n",
    "        print(site_url,year,season)\n",
    "        traceback.print_exc()\n",
    "        block_code = False\n",
    "        inline_html = False\n",
    "        codespan = False\n",
    "        block_html = False\n",
    "    return pd.Series({\"site_url\":site_url, \"year\":year,\"season\":season,\"block_code\": block_code,\n",
    "                      \"block_html\":block_html, \"codespan\": codespan, \"inline_html\":inline_html})\n",
    "\n",
    "df_cleaned = df_sample.apply(has_code_block,axis=1)"
   ]
  },
  {
   "cell_type": "code",
   "execution_count": null,
   "metadata": {},
   "outputs": [],
   "source": [
    "print(\"%s %d%s %f -> %f\" % (s.site_url, s.year, s.season, s.before, s.after))\n",
    "print(clean_debug(df[(df.site_url==s.site_url) & (df.year==s.year) & (df.season == s.season)].policy_text.iat[0]))"
   ]
  },
  {
   "cell_type": "code",
   "execution_count": null,
   "metadata": {},
   "outputs": [],
   "source": [
    "dys = \"http://fununltd.net 2015B\".split(\" \")\n",
    "site_url = dys[0]\n",
    "year = int(dys[1][:4])\n",
    "season = dys[1][4]\n",
    "\n",
    "policy_text = df[(df.site_url==site_url) & (df.year==year) & (df.season == season)].policy_text.iat[0]\n",
    "\n",
    "before,after = compare_readability(policy_text)\n",
    "if before == None:\n",
    "    before = math.nan\n",
    "if after == None:\n",
    "    after = math.nan\n",
    "print(\"%s %d%s %f -> %f\" % (site_url,year,season,before,after))\n",
    "\n",
    "print(clean_debug(policy_text))"
   ]
  },
  {
   "cell_type": "code",
   "execution_count": null,
   "metadata": {},
   "outputs": [],
   "source": [
    "df_cleaned"
   ]
  },
  {
   "cell_type": "code",
   "execution_count": null,
   "metadata": {},
   "outputs": [],
   "source": [
    "df_cleaned[df_cleaned.inline_html]"
   ]
  },
  {
   "cell_type": "code",
   "execution_count": null,
   "metadata": {},
   "outputs": [],
   "source": [
    "df_cleaned[df_cleaned.block_code]"
   ]
  },
  {
   "cell_type": "code",
   "execution_count": null,
   "metadata": {},
   "outputs": [],
   "source": [
    "df_cleaned[df_cleaned.block_html]"
   ]
  },
  {
   "cell_type": "code",
   "execution_count": null,
   "metadata": {},
   "outputs": [],
   "source": [
    "df_cleaned[df_cleaned.codespan]"
   ]
  },
  {
   "cell_type": "code",
   "execution_count": null,
   "metadata": {},
   "outputs": [],
   "source": [
    "def print_policies(df_source):\n",
    "    if len(df_source) > 10:\n",
    "        df_source = df_source.sample(10)\n",
    "    for i in range(len(df_source)):\n",
    "        s = df_source.iloc[i]\n",
    "        print(\"%s %d%s\" % (s.site_url, s.year, s.season))\n",
    "\n",
    "        print(df[(df.site_url==s.site_url) & (df.year==s.year) & (df.season == s.season)].policy_text.iat[0])\n",
    "\n",
    "        print(\"------------------------------------------------------------------------------------------------\")\n",
    "    \n",
    "        print(clean_debug(df[(df.site_url==s.site_url) & (df.year==s.year) & (df.season == s.season)].policy_text.iat[0]))\n",
    "        \n",
    "        print(\"================================================================================================\")"
   ]
  },
  {
   "cell_type": "code",
   "execution_count": null,
   "metadata": {},
   "outputs": [],
   "source": [
    "print_policies(df_cleaned[df_cleaned.block_code])"
   ]
  },
  {
   "cell_type": "code",
   "execution_count": null,
   "metadata": {},
   "outputs": [],
   "source": [
    "print_policies(df_cleaned[df_cleaned.codespan])"
   ]
  },
  {
   "cell_type": "code",
   "execution_count": null,
   "metadata": {},
   "outputs": [],
   "source": [
    "print_policies(df_cleaned[df_cleaned.inline_html])"
   ]
  },
  {
   "cell_type": "code",
   "execution_count": null,
   "metadata": {},
   "outputs": [],
   "source": [
    "print_policies(df_cleaned[df_cleaned.block_html])"
   ]
  },
  {
   "cell_type": "code",
   "execution_count": null,
   "metadata": {},
   "outputs": [],
   "source": [
    "df_with_blocks = df_cleaned[df_cleaned.block_code].apply(lambda s: df[(df.site_url==s.site_url) & (df.year==s.year) & (df.season == s.season)].iloc[0], axis=1)"
   ]
  },
  {
   "cell_type": "code",
   "execution_count": null,
   "metadata": {},
   "outputs": [],
   "source": [
    "df_with_blocks"
   ]
  },
  {
   "cell_type": "code",
   "execution_count": null,
   "metadata": {},
   "outputs": [],
   "source": [
    "df_blocks_score = df_with_blocks.apply(compare_row_readability,axis=1)"
   ]
  },
  {
   "cell_type": "code",
   "execution_count": null,
   "metadata": {},
   "outputs": [],
   "source": [
    "df_blocks_score[df_blocks_score.after.notnull()]"
   ]
  },
  {
   "cell_type": "code",
   "execution_count": null,
   "metadata": {},
   "outputs": [],
   "source": []
  }
 ],
 "metadata": {
  "kernelspec": {
   "display_name": "Python 3",
   "language": "python",
   "name": "python3"
  },
  "language_info": {
   "codemirror_mode": {
    "name": "ipython",
    "version": 3
   },
   "file_extension": ".py",
   "mimetype": "text/x-python",
   "name": "python",
   "nbconvert_exporter": "python",
   "pygments_lexer": "ipython3",
   "version": "3.7.3"
  }
 },
 "nbformat": 4,
 "nbformat_minor": 4
}
